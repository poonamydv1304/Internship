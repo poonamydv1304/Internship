{
 "cells": [
  {
   "cell_type": "markdown",
   "id": "5da40214",
   "metadata": {},
   "source": [
    "## Q1: Write a python program to scrape data for “Data Analyst” Job position in “Bangalore” location. You \n",
    "have to scrape the job-title, job-location, company_name, experience_required. You have to scrape first 10 \n",
    "jobs data.\n",
    "This task will be done in following steps:\n",
    "1. First get the webpage https://www.naukri.com/\n",
    "2. Enter “Data Analyst” in “Skill, Designations, Companies” field and enter “Bangalore” in “enter the location” field.\n",
    "3. Then click the search button.\n",
    "4. Then scrape the data for the first 10 jobs results you get.\n",
    "5. Finally create a dataframe of the scraped data"
   ]
  },
  {
   "cell_type": "code",
   "execution_count": 1,
   "id": "4d04a020",
   "metadata": {},
   "outputs": [
    {
     "name": "stdout",
     "output_type": "stream",
     "text": [
      "Requirement already satisfied: selenium in c:\\users\\poonam\\anaconda3\\lib\\site-packages (4.3.0)\n",
      "Requirement already satisfied: trio~=0.17 in c:\\users\\poonam\\anaconda3\\lib\\site-packages (from selenium) (0.21.0)\n",
      "Requirement already satisfied: urllib3[secure,socks]~=1.26 in c:\\users\\poonam\\anaconda3\\lib\\site-packages (from selenium) (1.26.7)\n",
      "Requirement already satisfied: trio-websocket~=0.9 in c:\\users\\poonam\\anaconda3\\lib\\site-packages (from selenium) (0.9.2)\n",
      "Requirement already satisfied: attrs>=19.2.0 in c:\\users\\poonam\\anaconda3\\lib\\site-packages (from trio~=0.17->selenium) (21.2.0)\n",
      "Requirement already satisfied: outcome in c:\\users\\poonam\\anaconda3\\lib\\site-packages (from trio~=0.17->selenium) (1.2.0)\n",
      "Requirement already satisfied: cffi>=1.14 in c:\\users\\poonam\\anaconda3\\lib\\site-packages (from trio~=0.17->selenium) (1.14.6)\n",
      "Requirement already satisfied: sortedcontainers in c:\\users\\poonam\\anaconda3\\lib\\site-packages (from trio~=0.17->selenium) (2.4.0)\n",
      "Requirement already satisfied: idna in c:\\users\\poonam\\anaconda3\\lib\\site-packages (from trio~=0.17->selenium) (3.2)\n",
      "Requirement already satisfied: sniffio in c:\\users\\poonam\\anaconda3\\lib\\site-packages (from trio~=0.17->selenium) (1.2.0)\n",
      "Requirement already satisfied: async-generator>=1.9 in c:\\users\\poonam\\anaconda3\\lib\\site-packages (from trio~=0.17->selenium) (1.10)\n",
      "Requirement already satisfied: pycparser in c:\\users\\poonam\\anaconda3\\lib\\site-packages (from cffi>=1.14->trio~=0.17->selenium) (2.20)\n",
      "Requirement already satisfied: wsproto>=0.14 in c:\\users\\poonam\\anaconda3\\lib\\site-packages (from trio-websocket~=0.9->selenium) (1.1.0)\n",
      "Requirement already satisfied: PySocks!=1.5.7,<2.0,>=1.5.6 in c:\\users\\poonam\\anaconda3\\lib\\site-packages (from urllib3[secure,socks]~=1.26->selenium) (1.7.1)\n",
      "Requirement already satisfied: pyOpenSSL>=0.14 in c:\\users\\poonam\\anaconda3\\lib\\site-packages (from urllib3[secure,socks]~=1.26->selenium) (21.0.0)\n",
      "Requirement already satisfied: cryptography>=1.3.4 in c:\\users\\poonam\\anaconda3\\lib\\site-packages (from urllib3[secure,socks]~=1.26->selenium) (3.4.8)\n",
      "Requirement already satisfied: certifi in c:\\users\\poonam\\anaconda3\\lib\\site-packages (from urllib3[secure,socks]~=1.26->selenium) (2021.10.8)\n",
      "Requirement already satisfied: six>=1.5.2 in c:\\users\\poonam\\anaconda3\\lib\\site-packages (from pyOpenSSL>=0.14->urllib3[secure,socks]~=1.26->selenium) (1.16.0)\n",
      "Requirement already satisfied: h11<1,>=0.9.0 in c:\\users\\poonam\\anaconda3\\lib\\site-packages (from wsproto>=0.14->trio-websocket~=0.9->selenium) (0.13.0)\n"
     ]
    }
   ],
   "source": [
    "# First install selenium\n",
    "!pip install selenium"
   ]
  },
  {
   "cell_type": "code",
   "execution_count": 2,
   "id": "04d9d591",
   "metadata": {},
   "outputs": [],
   "source": [
    "# Now import all required Libraries\n",
    "import selenium\n",
    "from selenium import webdriver\n",
    "from selenium.webdriver.common.by import By\n",
    "import pandas as pd\n",
    "import warnings\n",
    "warnings.filterwarnings(\"ignore\")"
   ]
  },
  {
   "cell_type": "code",
   "execution_count": 298,
   "id": "cfa80239",
   "metadata": {},
   "outputs": [],
   "source": [
    "# Connect to web driver\n",
    "driver = webdriver.Chrome(r'C:\\Users\\poonam\\Downloads\\chromedriver_win32\\chromedriver.exe')"
   ]
  },
  {
   "cell_type": "code",
   "execution_count": 299,
   "id": "358d0752",
   "metadata": {},
   "outputs": [],
   "source": [
    "url = 'https://www.naukri.com/'\n",
    "driver.get(url)"
   ]
  },
  {
   "cell_type": "code",
   "execution_count": 300,
   "id": "36cd1a4a",
   "metadata": {},
   "outputs": [
    {
     "data": {
      "text/plain": [
       "<selenium.webdriver.remote.webelement.WebElement (session=\"f720c45dfcdff0e7c3231fbb26a53c9e\", element=\"20b2248d-dc95-41d5-85e5-e34800e99cc3\")>"
      ]
     },
     "execution_count": 300,
     "metadata": {},
     "output_type": "execute_result"
    }
   ],
   "source": [
    "# Finding web element for search web bar for using id\n",
    "search_job = driver.find_element(By.CLASS_NAME, \"suggestor-input \")\n",
    "search_job"
   ]
  },
  {
   "cell_type": "code",
   "execution_count": 28,
   "id": "e8158567",
   "metadata": {},
   "outputs": [],
   "source": [
    "# Write on search bar\n",
    "search_job.send_keys(\"Data Analyst\")"
   ]
  },
  {
   "cell_type": "code",
   "execution_count": 29,
   "id": "4b274671",
   "metadata": {},
   "outputs": [
    {
     "data": {
      "text/plain": [
       "<selenium.webdriver.remote.webelement.WebElement (session=\"78b1959ae3df9366317d4de454235664\", element=\"b3f74828-8096-4374-afda-6c347004e507\")>"
      ]
     },
     "execution_count": 29,
     "metadata": {},
     "output_type": "execute_result"
    }
   ],
   "source": [
    "# Finding web element for job location bar\n",
    "search_locn = driver.find_element(By.XPATH,\"/html/body/div[1]/div[2]/div[3]/div/div/div[5]/div/div/div/input\")\n",
    "search_locn"
   ]
  },
  {
   "cell_type": "code",
   "execution_count": 30,
   "id": "60f3ce70",
   "metadata": {},
   "outputs": [],
   "source": [
    "search_locn.send_keys(\"Banglore\")"
   ]
  },
  {
   "cell_type": "code",
   "execution_count": 36,
   "id": "4768df10",
   "metadata": {},
   "outputs": [
    {
     "data": {
      "text/plain": [
       "<selenium.webdriver.remote.webelement.WebElement (session=\"78b1959ae3df9366317d4de454235664\", element=\"63bba61b-dc1c-4ed4-ad59-3bf682d1ea44\")>"
      ]
     },
     "execution_count": 36,
     "metadata": {},
     "output_type": "execute_result"
    }
   ],
   "source": [
    "search_btn = driver.find_element(By.XPATH,\"/html/body/div[1]/div[2]/div[3]/div/div/div[6]\")\n",
    "search_btn"
   ]
  },
  {
   "cell_type": "code",
   "execution_count": 37,
   "id": "2c9cca59",
   "metadata": {
    "scrolled": true
   },
   "outputs": [],
   "source": [
    "search_btn.click()"
   ]
  },
  {
   "cell_type": "markdown",
   "id": "328ebacc",
   "metadata": {},
   "source": [
    "# Extracting job titles"
   ]
  },
  {
   "cell_type": "code",
   "execution_count": 38,
   "id": "4884b10c",
   "metadata": {},
   "outputs": [
    {
     "data": {
      "text/plain": [
       "20"
      ]
     },
     "execution_count": 38,
     "metadata": {},
     "output_type": "execute_result"
    }
   ],
   "source": [
    "# Extracts all web elements having job titles\n",
    "title_tags = driver.find_elements(By.XPATH,'//a[@class=\"title fw500 ellipsis\"]')\n",
    "len(title_tags)"
   ]
  },
  {
   "cell_type": "code",
   "execution_count": 39,
   "id": "7e248125",
   "metadata": {},
   "outputs": [
    {
     "data": {
      "text/plain": [
       "20"
      ]
     },
     "execution_count": 39,
     "metadata": {},
     "output_type": "execute_result"
    }
   ],
   "source": [
    "# Now the text of job title is inside the web elements extracted above\n",
    "# so we will run a for loop to iterate over the tags and will extract\n",
    "job_title = []\n",
    "\n",
    "for i in title_tags:\n",
    "    job_title.append(i.text)\n",
    "len(job_title)"
   ]
  },
  {
   "cell_type": "code",
   "execution_count": 40,
   "id": "3ba95dba",
   "metadata": {},
   "outputs": [
    {
     "data": {
      "text/plain": [
       "['Data Analyst/Senior Data Analyst',\n",
       " 'Senior Data Analyst II',\n",
       " 'Software Technical Expert - Data Analyst',\n",
       " 'Big data analyst',\n",
       " 'Data Analyst',\n",
       " 'Senior Business Analyst, Data Analytics & Engineering-DATA Engineer',\n",
       " 'Data Analyst 2',\n",
       " 'Clinical Data Analyst',\n",
       " 'Senior Data Management Analyst',\n",
       " 'Senior Data Management Analyst',\n",
       " 'Immediate Opening with Omnicuris For Data Analyst',\n",
       " 'Immediate Opening with Omnicuris For Data Analyst',\n",
       " 'Senior Data Analyst',\n",
       " 'Data Analyst / Modeler',\n",
       " 'Data Analyst',\n",
       " 'Opening For Data Analyst For Bangalore',\n",
       " 'Data Analyst / Data Analytics / Business analyst - US MNC (Analytics)',\n",
       " 'Data Analyst(Skill set required: advanced SQL & Excel)',\n",
       " 'Data Management Analyst',\n",
       " 'Senior Data Analyst']"
      ]
     },
     "execution_count": 40,
     "metadata": {},
     "output_type": "execute_result"
    }
   ],
   "source": [
    "job_title"
   ]
  },
  {
   "cell_type": "markdown",
   "id": "5247a4d5",
   "metadata": {},
   "source": [
    "## Extracting Company Name"
   ]
  },
  {
   "cell_type": "code",
   "execution_count": 41,
   "id": "c41f048b",
   "metadata": {},
   "outputs": [
    {
     "data": {
      "text/plain": [
       "20"
      ]
     },
     "execution_count": 41,
     "metadata": {},
     "output_type": "execute_result"
    }
   ],
   "source": [
    "# now extract all web elements having company names\n",
    "company_tags = driver.find_elements(By.XPATH,'//a[@class=\"subTitle ellipsis fleft\"]')\n",
    "len(company_tags)"
   ]
  },
  {
   "cell_type": "code",
   "execution_count": 42,
   "id": "c6553be6",
   "metadata": {},
   "outputs": [
    {
     "data": {
      "text/plain": [
       "20"
      ]
     },
     "execution_count": 42,
     "metadata": {},
     "output_type": "execute_result"
    }
   ],
   "source": [
    "# So we will run a for loop to iterate over the tags and will extract\n",
    "company_names = []\n",
    "\n",
    "for i in company_tags:\n",
    "    company_names.append(i.text)\n",
    "len(company_names)"
   ]
  },
  {
   "cell_type": "code",
   "execution_count": 44,
   "id": "c0e448a5",
   "metadata": {},
   "outputs": [
    {
     "data": {
      "text/plain": [
       "['Meesho',\n",
       " 'Flipkart',\n",
       " 'Schneider Electric',\n",
       " 'Accolite Software India Pvt Ltd',\n",
       " 'BYJUS',\n",
       " 'Artech Infosystems Pvt. Ltd.',\n",
       " 'PayPal',\n",
       " 'Navitas LLP',\n",
       " 'Wells Fargo',\n",
       " 'Wells Fargo',\n",
       " 'Omnicuris Healthcare Pvt Ltd',\n",
       " 'Omnicuris Healthcare Pvt Ltd',\n",
       " 'manoramaONLINE',\n",
       " 'RARR Technologies',\n",
       " 'Happay (VA Tech Ventures)',\n",
       " 'TARENTO TECHNOLOGIES PRIVATE LIMITED',\n",
       " 'Aspyra HR Services',\n",
       " 'Amazon',\n",
       " 'Wells Fargo',\n",
       " 'MediaMath']"
      ]
     },
     "execution_count": 44,
     "metadata": {},
     "output_type": "execute_result"
    }
   ],
   "source": [
    "company_names"
   ]
  },
  {
   "cell_type": "markdown",
   "id": "7d414e8b",
   "metadata": {},
   "source": [
    "## EXTRACTING EXPERIENCE"
   ]
  },
  {
   "cell_type": "code",
   "execution_count": 55,
   "id": "1420866f",
   "metadata": {},
   "outputs": [
    {
     "data": {
      "text/plain": [
       "20"
      ]
     },
     "execution_count": 55,
     "metadata": {},
     "output_type": "execute_result"
    }
   ],
   "source": [
    "#Now extract all web elements having experience using parent tags\n",
    "experience_tags = driver.find_elements(By.XPATH,'//li[@class=\"fleft grey-text br2 placeHolderLi experience\"]')\n",
    "len(experience_tags)"
   ]
  },
  {
   "cell_type": "code",
   "execution_count": 56,
   "id": "31934616",
   "metadata": {},
   "outputs": [
    {
     "data": {
      "text/plain": [
       "20"
      ]
     },
     "execution_count": 56,
     "metadata": {},
     "output_type": "execute_result"
    }
   ],
   "source": [
    "experience = []\n",
    "\n",
    "for i in experience_tags:\n",
    "    experience.append(i.text)\n",
    "len(experience)"
   ]
  },
  {
   "cell_type": "code",
   "execution_count": 57,
   "id": "cb14773d",
   "metadata": {},
   "outputs": [
    {
     "data": {
      "text/plain": [
       "['3-6 Yrs',\n",
       " '3-6 Yrs',\n",
       " '3-6 Yrs',\n",
       " '2-6 Yrs',\n",
       " '2-5 Yrs',\n",
       " '4-8 Yrs',\n",
       " '1-3 Yrs',\n",
       " '3-8 Yrs',\n",
       " '7-12 Yrs',\n",
       " '4-9 Yrs',\n",
       " '2-5 Yrs',\n",
       " '2-5 Yrs',\n",
       " '5-10 Yrs',\n",
       " '6-8 Yrs',\n",
       " '1-2 Yrs',\n",
       " '5-8 Yrs',\n",
       " '2-7 Yrs',\n",
       " '2-6 Yrs',\n",
       " '3-6 Yrs',\n",
       " '8-13 Yrs']"
      ]
     },
     "execution_count": 57,
     "metadata": {},
     "output_type": "execute_result"
    }
   ],
   "source": [
    "experience"
   ]
  },
  {
   "cell_type": "markdown",
   "id": "44465fac",
   "metadata": {},
   "source": [
    "## Extracting Location"
   ]
  },
  {
   "cell_type": "code",
   "execution_count": 60,
   "id": "cfb96455",
   "metadata": {},
   "outputs": [
    {
     "data": {
      "text/plain": [
       "20"
      ]
     },
     "execution_count": 60,
     "metadata": {},
     "output_type": "execute_result"
    }
   ],
   "source": [
    "locn_tags = driver.find_elements(By.XPATH,'//li[@class=\"fleft grey-text br2 placeHolderLi location\"]')\n",
    "len(locn_tags)"
   ]
  },
  {
   "cell_type": "code",
   "execution_count": 62,
   "id": "8a88760a",
   "metadata": {},
   "outputs": [
    {
     "data": {
      "text/plain": [
       "20"
      ]
     },
     "execution_count": 62,
     "metadata": {},
     "output_type": "execute_result"
    }
   ],
   "source": [
    "location = []\n",
    "\n",
    "for i in locn_tags:\n",
    "    location.append(i.text)\n",
    "len(location)"
   ]
  },
  {
   "cell_type": "code",
   "execution_count": 63,
   "id": "d0c53dc4",
   "metadata": {},
   "outputs": [
    {
     "data": {
      "text/plain": [
       "['Bangalore/Bengaluru',\n",
       " 'Bangalore/Bengaluru',\n",
       " 'Bangalore/Bengaluru',\n",
       " 'Bangalore/Bengaluru',\n",
       " 'Bangalore/Bengaluru',\n",
       " 'Bangalore/Bengaluru\\n(WFH during Covid)',\n",
       " 'Bangalore/Bengaluru',\n",
       " 'Chennai, Bangalore/Bengaluru',\n",
       " 'Serilingampally, Bangalore/Bengaluru',\n",
       " 'Hyderabad/Secunderabad, Bangalore/Bengaluru',\n",
       " 'Bangalore/Bengaluru',\n",
       " 'Bangalore/Bengaluru',\n",
       " 'Chennai, Bangalore/Bengaluru, kerala',\n",
       " 'Mumbai, Pune, Chennai, Bangalore/Bengaluru',\n",
       " 'Bangalore/Bengaluru',\n",
       " 'Bangalore/Bengaluru',\n",
       " 'Gurgaon/Gurugram, Bangalore/Bengaluru, Delhi / NCR\\n(WFH during Covid)',\n",
       " 'Bangalore/Bengaluru\\n(WFH during Covid)',\n",
       " 'Bangalore/Bengaluru',\n",
       " 'Bangalore/Bengaluru']"
      ]
     },
     "execution_count": 63,
     "metadata": {},
     "output_type": "execute_result"
    }
   ],
   "source": [
    "location"
   ]
  },
  {
   "cell_type": "markdown",
   "id": "617986d8",
   "metadata": {},
   "source": [
    "## Extracting Salary"
   ]
  },
  {
   "cell_type": "code",
   "execution_count": 65,
   "id": "d9141e34",
   "metadata": {},
   "outputs": [
    {
     "data": {
      "text/plain": [
       "20"
      ]
     },
     "execution_count": 65,
     "metadata": {},
     "output_type": "execute_result"
    }
   ],
   "source": [
    "Salary_tags = driver.find_elements(By.XPATH,'//li[@class=\"fleft grey-text br2 placeHolderLi salary\"]')\n",
    "len(Salary_tags)"
   ]
  },
  {
   "cell_type": "code",
   "execution_count": 66,
   "id": "95b739b6",
   "metadata": {},
   "outputs": [
    {
     "data": {
      "text/plain": [
       "20"
      ]
     },
     "execution_count": 66,
     "metadata": {},
     "output_type": "execute_result"
    }
   ],
   "source": [
    "Salary = []\n",
    "\n",
    "for i in Salary_tags:\n",
    "    Salary.append(i.text)\n",
    "len(Salary)"
   ]
  },
  {
   "cell_type": "code",
   "execution_count": 67,
   "id": "15f1db4d",
   "metadata": {},
   "outputs": [
    {
     "data": {
      "text/plain": [
       "['Not disclosed',\n",
       " 'Not disclosed',\n",
       " 'Not disclosed',\n",
       " 'Not disclosed',\n",
       " '4,50,000 - 6,50,000 PA.',\n",
       " '8,00,000 - 18,00,000 PA.',\n",
       " 'Not disclosed',\n",
       " 'Not disclosed',\n",
       " 'Not disclosed',\n",
       " 'Not disclosed',\n",
       " '3,00,000 - 6,00,000 PA.',\n",
       " '3,00,000 - 6,00,000 PA.',\n",
       " 'Not disclosed',\n",
       " 'Not disclosed',\n",
       " 'Not disclosed',\n",
       " '18,00,000 - 25,00,000 PA.',\n",
       " '10,00,000 - 20,00,000 PA.',\n",
       " 'Not disclosed',\n",
       " 'Not disclosed',\n",
       " 'Not disclosed']"
      ]
     },
     "execution_count": 67,
     "metadata": {},
     "output_type": "execute_result"
    }
   ],
   "source": [
    "Salary"
   ]
  },
  {
   "cell_type": "code",
   "execution_count": 68,
   "id": "8d770491",
   "metadata": {},
   "outputs": [
    {
     "data": {
      "text/plain": [
       "(20, 20, 20, 20, 20)"
      ]
     },
     "execution_count": 68,
     "metadata": {},
     "output_type": "execute_result"
    }
   ],
   "source": [
    "len(job_title), len(company_names), len(experience), len(location), len(Salary)"
   ]
  },
  {
   "cell_type": "code",
   "execution_count": 71,
   "id": "2e7490d3",
   "metadata": {},
   "outputs": [
    {
     "data": {
      "text/html": [
       "<div>\n",
       "<style scoped>\n",
       "    .dataframe tbody tr th:only-of-type {\n",
       "        vertical-align: middle;\n",
       "    }\n",
       "\n",
       "    .dataframe tbody tr th {\n",
       "        vertical-align: top;\n",
       "    }\n",
       "\n",
       "    .dataframe thead th {\n",
       "        text-align: right;\n",
       "    }\n",
       "</style>\n",
       "<table border=\"1\" class=\"dataframe\">\n",
       "  <thead>\n",
       "    <tr style=\"text-align: right;\">\n",
       "      <th></th>\n",
       "      <th>Job Title</th>\n",
       "      <th>Company</th>\n",
       "      <th>Experience</th>\n",
       "      <th>Location</th>\n",
       "      <th>Salary</th>\n",
       "    </tr>\n",
       "  </thead>\n",
       "  <tbody>\n",
       "    <tr>\n",
       "      <th>0</th>\n",
       "      <td>Data Analyst/Senior Data Analyst</td>\n",
       "      <td>Meesho</td>\n",
       "      <td>3-6 Yrs</td>\n",
       "      <td>Bangalore/Bengaluru</td>\n",
       "      <td>Not disclosed</td>\n",
       "    </tr>\n",
       "    <tr>\n",
       "      <th>1</th>\n",
       "      <td>Senior Data Analyst II</td>\n",
       "      <td>Flipkart</td>\n",
       "      <td>3-6 Yrs</td>\n",
       "      <td>Bangalore/Bengaluru</td>\n",
       "      <td>Not disclosed</td>\n",
       "    </tr>\n",
       "    <tr>\n",
       "      <th>2</th>\n",
       "      <td>Software Technical Expert - Data Analyst</td>\n",
       "      <td>Schneider Electric</td>\n",
       "      <td>3-6 Yrs</td>\n",
       "      <td>Bangalore/Bengaluru</td>\n",
       "      <td>Not disclosed</td>\n",
       "    </tr>\n",
       "    <tr>\n",
       "      <th>3</th>\n",
       "      <td>Big data analyst</td>\n",
       "      <td>Accolite Software India Pvt Ltd</td>\n",
       "      <td>2-6 Yrs</td>\n",
       "      <td>Bangalore/Bengaluru</td>\n",
       "      <td>Not disclosed</td>\n",
       "    </tr>\n",
       "    <tr>\n",
       "      <th>4</th>\n",
       "      <td>Data Analyst</td>\n",
       "      <td>BYJUS</td>\n",
       "      <td>2-5 Yrs</td>\n",
       "      <td>Bangalore/Bengaluru</td>\n",
       "      <td>4,50,000 - 6,50,000 PA.</td>\n",
       "    </tr>\n",
       "    <tr>\n",
       "      <th>5</th>\n",
       "      <td>Senior Business Analyst, Data Analytics &amp; Engi...</td>\n",
       "      <td>Artech Infosystems Pvt. Ltd.</td>\n",
       "      <td>4-8 Yrs</td>\n",
       "      <td>Bangalore/Bengaluru\\n(WFH during Covid)</td>\n",
       "      <td>8,00,000 - 18,00,000 PA.</td>\n",
       "    </tr>\n",
       "    <tr>\n",
       "      <th>6</th>\n",
       "      <td>Data Analyst 2</td>\n",
       "      <td>PayPal</td>\n",
       "      <td>1-3 Yrs</td>\n",
       "      <td>Bangalore/Bengaluru</td>\n",
       "      <td>Not disclosed</td>\n",
       "    </tr>\n",
       "    <tr>\n",
       "      <th>7</th>\n",
       "      <td>Clinical Data Analyst</td>\n",
       "      <td>Navitas LLP</td>\n",
       "      <td>3-8 Yrs</td>\n",
       "      <td>Chennai, Bangalore/Bengaluru</td>\n",
       "      <td>Not disclosed</td>\n",
       "    </tr>\n",
       "    <tr>\n",
       "      <th>8</th>\n",
       "      <td>Senior Data Management Analyst</td>\n",
       "      <td>Wells Fargo</td>\n",
       "      <td>7-12 Yrs</td>\n",
       "      <td>Serilingampally, Bangalore/Bengaluru</td>\n",
       "      <td>Not disclosed</td>\n",
       "    </tr>\n",
       "    <tr>\n",
       "      <th>9</th>\n",
       "      <td>Senior Data Management Analyst</td>\n",
       "      <td>Wells Fargo</td>\n",
       "      <td>4-9 Yrs</td>\n",
       "      <td>Hyderabad/Secunderabad, Bangalore/Bengaluru</td>\n",
       "      <td>Not disclosed</td>\n",
       "    </tr>\n",
       "    <tr>\n",
       "      <th>10</th>\n",
       "      <td>Immediate Opening with Omnicuris For Data Analyst</td>\n",
       "      <td>Omnicuris Healthcare Pvt Ltd</td>\n",
       "      <td>2-5 Yrs</td>\n",
       "      <td>Bangalore/Bengaluru</td>\n",
       "      <td>3,00,000 - 6,00,000 PA.</td>\n",
       "    </tr>\n",
       "    <tr>\n",
       "      <th>11</th>\n",
       "      <td>Immediate Opening with Omnicuris For Data Analyst</td>\n",
       "      <td>Omnicuris Healthcare Pvt Ltd</td>\n",
       "      <td>2-5 Yrs</td>\n",
       "      <td>Bangalore/Bengaluru</td>\n",
       "      <td>3,00,000 - 6,00,000 PA.</td>\n",
       "    </tr>\n",
       "    <tr>\n",
       "      <th>12</th>\n",
       "      <td>Senior Data Analyst</td>\n",
       "      <td>manoramaONLINE</td>\n",
       "      <td>5-10 Yrs</td>\n",
       "      <td>Chennai, Bangalore/Bengaluru, kerala</td>\n",
       "      <td>Not disclosed</td>\n",
       "    </tr>\n",
       "    <tr>\n",
       "      <th>13</th>\n",
       "      <td>Data Analyst / Modeler</td>\n",
       "      <td>RARR Technologies</td>\n",
       "      <td>6-8 Yrs</td>\n",
       "      <td>Mumbai, Pune, Chennai, Bangalore/Bengaluru</td>\n",
       "      <td>Not disclosed</td>\n",
       "    </tr>\n",
       "    <tr>\n",
       "      <th>14</th>\n",
       "      <td>Data Analyst</td>\n",
       "      <td>Happay (VA Tech Ventures)</td>\n",
       "      <td>1-2 Yrs</td>\n",
       "      <td>Bangalore/Bengaluru</td>\n",
       "      <td>Not disclosed</td>\n",
       "    </tr>\n",
       "    <tr>\n",
       "      <th>15</th>\n",
       "      <td>Opening For Data Analyst For Bangalore</td>\n",
       "      <td>TARENTO TECHNOLOGIES PRIVATE LIMITED</td>\n",
       "      <td>5-8 Yrs</td>\n",
       "      <td>Bangalore/Bengaluru</td>\n",
       "      <td>18,00,000 - 25,00,000 PA.</td>\n",
       "    </tr>\n",
       "    <tr>\n",
       "      <th>16</th>\n",
       "      <td>Data Analyst / Data Analytics / Business analy...</td>\n",
       "      <td>Aspyra HR Services</td>\n",
       "      <td>2-7 Yrs</td>\n",
       "      <td>Gurgaon/Gurugram, Bangalore/Bengaluru, Delhi /...</td>\n",
       "      <td>10,00,000 - 20,00,000 PA.</td>\n",
       "    </tr>\n",
       "    <tr>\n",
       "      <th>17</th>\n",
       "      <td>Data Analyst(Skill set required: advanced SQL ...</td>\n",
       "      <td>Amazon</td>\n",
       "      <td>2-6 Yrs</td>\n",
       "      <td>Bangalore/Bengaluru\\n(WFH during Covid)</td>\n",
       "      <td>Not disclosed</td>\n",
       "    </tr>\n",
       "    <tr>\n",
       "      <th>18</th>\n",
       "      <td>Data Management Analyst</td>\n",
       "      <td>Wells Fargo</td>\n",
       "      <td>3-6 Yrs</td>\n",
       "      <td>Bangalore/Bengaluru</td>\n",
       "      <td>Not disclosed</td>\n",
       "    </tr>\n",
       "    <tr>\n",
       "      <th>19</th>\n",
       "      <td>Senior Data Analyst</td>\n",
       "      <td>MediaMath</td>\n",
       "      <td>8-13 Yrs</td>\n",
       "      <td>Bangalore/Bengaluru</td>\n",
       "      <td>Not disclosed</td>\n",
       "    </tr>\n",
       "  </tbody>\n",
       "</table>\n",
       "</div>"
      ],
      "text/plain": [
       "                                            Job Title  \\\n",
       "0                    Data Analyst/Senior Data Analyst   \n",
       "1                              Senior Data Analyst II   \n",
       "2            Software Technical Expert - Data Analyst   \n",
       "3                                    Big data analyst   \n",
       "4                                        Data Analyst   \n",
       "5   Senior Business Analyst, Data Analytics & Engi...   \n",
       "6                                      Data Analyst 2   \n",
       "7                               Clinical Data Analyst   \n",
       "8                      Senior Data Management Analyst   \n",
       "9                      Senior Data Management Analyst   \n",
       "10  Immediate Opening with Omnicuris For Data Analyst   \n",
       "11  Immediate Opening with Omnicuris For Data Analyst   \n",
       "12                                Senior Data Analyst   \n",
       "13                             Data Analyst / Modeler   \n",
       "14                                       Data Analyst   \n",
       "15             Opening For Data Analyst For Bangalore   \n",
       "16  Data Analyst / Data Analytics / Business analy...   \n",
       "17  Data Analyst(Skill set required: advanced SQL ...   \n",
       "18                            Data Management Analyst   \n",
       "19                                Senior Data Analyst   \n",
       "\n",
       "                                 Company Experience  \\\n",
       "0                                 Meesho    3-6 Yrs   \n",
       "1                               Flipkart    3-6 Yrs   \n",
       "2                     Schneider Electric    3-6 Yrs   \n",
       "3        Accolite Software India Pvt Ltd    2-6 Yrs   \n",
       "4                                  BYJUS    2-5 Yrs   \n",
       "5           Artech Infosystems Pvt. Ltd.    4-8 Yrs   \n",
       "6                                 PayPal    1-3 Yrs   \n",
       "7                            Navitas LLP    3-8 Yrs   \n",
       "8                            Wells Fargo   7-12 Yrs   \n",
       "9                            Wells Fargo    4-9 Yrs   \n",
       "10          Omnicuris Healthcare Pvt Ltd    2-5 Yrs   \n",
       "11          Omnicuris Healthcare Pvt Ltd    2-5 Yrs   \n",
       "12                        manoramaONLINE   5-10 Yrs   \n",
       "13                     RARR Technologies    6-8 Yrs   \n",
       "14             Happay (VA Tech Ventures)    1-2 Yrs   \n",
       "15  TARENTO TECHNOLOGIES PRIVATE LIMITED    5-8 Yrs   \n",
       "16                    Aspyra HR Services    2-7 Yrs   \n",
       "17                                Amazon    2-6 Yrs   \n",
       "18                           Wells Fargo    3-6 Yrs   \n",
       "19                             MediaMath   8-13 Yrs   \n",
       "\n",
       "                                             Location  \\\n",
       "0                                 Bangalore/Bengaluru   \n",
       "1                                 Bangalore/Bengaluru   \n",
       "2                                 Bangalore/Bengaluru   \n",
       "3                                 Bangalore/Bengaluru   \n",
       "4                                 Bangalore/Bengaluru   \n",
       "5             Bangalore/Bengaluru\\n(WFH during Covid)   \n",
       "6                                 Bangalore/Bengaluru   \n",
       "7                        Chennai, Bangalore/Bengaluru   \n",
       "8                Serilingampally, Bangalore/Bengaluru   \n",
       "9         Hyderabad/Secunderabad, Bangalore/Bengaluru   \n",
       "10                                Bangalore/Bengaluru   \n",
       "11                                Bangalore/Bengaluru   \n",
       "12               Chennai, Bangalore/Bengaluru, kerala   \n",
       "13         Mumbai, Pune, Chennai, Bangalore/Bengaluru   \n",
       "14                                Bangalore/Bengaluru   \n",
       "15                                Bangalore/Bengaluru   \n",
       "16  Gurgaon/Gurugram, Bangalore/Bengaluru, Delhi /...   \n",
       "17            Bangalore/Bengaluru\\n(WFH during Covid)   \n",
       "18                                Bangalore/Bengaluru   \n",
       "19                                Bangalore/Bengaluru   \n",
       "\n",
       "                       Salary  \n",
       "0               Not disclosed  \n",
       "1               Not disclosed  \n",
       "2               Not disclosed  \n",
       "3               Not disclosed  \n",
       "4     4,50,000 - 6,50,000 PA.  \n",
       "5    8,00,000 - 18,00,000 PA.  \n",
       "6               Not disclosed  \n",
       "7               Not disclosed  \n",
       "8               Not disclosed  \n",
       "9               Not disclosed  \n",
       "10    3,00,000 - 6,00,000 PA.  \n",
       "11    3,00,000 - 6,00,000 PA.  \n",
       "12              Not disclosed  \n",
       "13              Not disclosed  \n",
       "14              Not disclosed  \n",
       "15  18,00,000 - 25,00,000 PA.  \n",
       "16  10,00,000 - 20,00,000 PA.  \n",
       "17              Not disclosed  \n",
       "18              Not disclosed  \n",
       "19              Not disclosed  "
      ]
     },
     "execution_count": 71,
     "metadata": {},
     "output_type": "execute_result"
    }
   ],
   "source": [
    "jobs = pd.DataFrame()\n",
    "jobs['Job Title'] = job_title\n",
    "jobs['Company'] = company_names\n",
    "jobs['Experience'] = experience\n",
    "jobs['Location'] = location\n",
    "jobs['Salary'] = Salary\n",
    "jobs"
   ]
  },
  {
   "cell_type": "code",
   "execution_count": 70,
   "id": "149cf149",
   "metadata": {
    "scrolled": true
   },
   "outputs": [
    {
     "data": {
      "text/html": [
       "<div>\n",
       "<style scoped>\n",
       "    .dataframe tbody tr th:only-of-type {\n",
       "        vertical-align: middle;\n",
       "    }\n",
       "\n",
       "    .dataframe tbody tr th {\n",
       "        vertical-align: top;\n",
       "    }\n",
       "\n",
       "    .dataframe thead th {\n",
       "        text-align: right;\n",
       "    }\n",
       "</style>\n",
       "<table border=\"1\" class=\"dataframe\">\n",
       "  <thead>\n",
       "    <tr style=\"text-align: right;\">\n",
       "      <th></th>\n",
       "      <th>Job Title</th>\n",
       "      <th>Company</th>\n",
       "      <th>Experience</th>\n",
       "      <th>Location</th>\n",
       "      <th>Salary</th>\n",
       "    </tr>\n",
       "  </thead>\n",
       "  <tbody>\n",
       "    <tr>\n",
       "      <th>0</th>\n",
       "      <td>Data Analyst/Senior Data Analyst</td>\n",
       "      <td>Meesho</td>\n",
       "      <td>3-6 Yrs</td>\n",
       "      <td>Bangalore/Bengaluru</td>\n",
       "      <td>Not disclosed</td>\n",
       "    </tr>\n",
       "    <tr>\n",
       "      <th>1</th>\n",
       "      <td>Senior Data Analyst II</td>\n",
       "      <td>Flipkart</td>\n",
       "      <td>3-6 Yrs</td>\n",
       "      <td>Bangalore/Bengaluru</td>\n",
       "      <td>Not disclosed</td>\n",
       "    </tr>\n",
       "    <tr>\n",
       "      <th>2</th>\n",
       "      <td>Software Technical Expert - Data Analyst</td>\n",
       "      <td>Schneider Electric</td>\n",
       "      <td>3-6 Yrs</td>\n",
       "      <td>Bangalore/Bengaluru</td>\n",
       "      <td>Not disclosed</td>\n",
       "    </tr>\n",
       "    <tr>\n",
       "      <th>3</th>\n",
       "      <td>Big data analyst</td>\n",
       "      <td>Accolite Software India Pvt Ltd</td>\n",
       "      <td>2-6 Yrs</td>\n",
       "      <td>Bangalore/Bengaluru</td>\n",
       "      <td>Not disclosed</td>\n",
       "    </tr>\n",
       "    <tr>\n",
       "      <th>4</th>\n",
       "      <td>Data Analyst</td>\n",
       "      <td>BYJUS</td>\n",
       "      <td>2-5 Yrs</td>\n",
       "      <td>Bangalore/Bengaluru</td>\n",
       "      <td>4,50,000 - 6,50,000 PA.</td>\n",
       "    </tr>\n",
       "    <tr>\n",
       "      <th>5</th>\n",
       "      <td>Senior Business Analyst, Data Analytics &amp; Engi...</td>\n",
       "      <td>Artech Infosystems Pvt. Ltd.</td>\n",
       "      <td>4-8 Yrs</td>\n",
       "      <td>Bangalore/Bengaluru\\n(WFH during Covid)</td>\n",
       "      <td>8,00,000 - 18,00,000 PA.</td>\n",
       "    </tr>\n",
       "    <tr>\n",
       "      <th>6</th>\n",
       "      <td>Data Analyst 2</td>\n",
       "      <td>PayPal</td>\n",
       "      <td>1-3 Yrs</td>\n",
       "      <td>Bangalore/Bengaluru</td>\n",
       "      <td>Not disclosed</td>\n",
       "    </tr>\n",
       "    <tr>\n",
       "      <th>7</th>\n",
       "      <td>Clinical Data Analyst</td>\n",
       "      <td>Navitas LLP</td>\n",
       "      <td>3-8 Yrs</td>\n",
       "      <td>Chennai, Bangalore/Bengaluru</td>\n",
       "      <td>Not disclosed</td>\n",
       "    </tr>\n",
       "    <tr>\n",
       "      <th>8</th>\n",
       "      <td>Senior Data Management Analyst</td>\n",
       "      <td>Wells Fargo</td>\n",
       "      <td>7-12 Yrs</td>\n",
       "      <td>Serilingampally, Bangalore/Bengaluru</td>\n",
       "      <td>Not disclosed</td>\n",
       "    </tr>\n",
       "    <tr>\n",
       "      <th>9</th>\n",
       "      <td>Senior Data Management Analyst</td>\n",
       "      <td>Wells Fargo</td>\n",
       "      <td>4-9 Yrs</td>\n",
       "      <td>Hyderabad/Secunderabad, Bangalore/Bengaluru</td>\n",
       "      <td>Not disclosed</td>\n",
       "    </tr>\n",
       "  </tbody>\n",
       "</table>\n",
       "</div>"
      ],
      "text/plain": [
       "                                           Job Title  \\\n",
       "0                   Data Analyst/Senior Data Analyst   \n",
       "1                             Senior Data Analyst II   \n",
       "2           Software Technical Expert - Data Analyst   \n",
       "3                                   Big data analyst   \n",
       "4                                       Data Analyst   \n",
       "5  Senior Business Analyst, Data Analytics & Engi...   \n",
       "6                                     Data Analyst 2   \n",
       "7                              Clinical Data Analyst   \n",
       "8                     Senior Data Management Analyst   \n",
       "9                     Senior Data Management Analyst   \n",
       "\n",
       "                           Company Experience  \\\n",
       "0                           Meesho    3-6 Yrs   \n",
       "1                         Flipkart    3-6 Yrs   \n",
       "2               Schneider Electric    3-6 Yrs   \n",
       "3  Accolite Software India Pvt Ltd    2-6 Yrs   \n",
       "4                            BYJUS    2-5 Yrs   \n",
       "5     Artech Infosystems Pvt. Ltd.    4-8 Yrs   \n",
       "6                           PayPal    1-3 Yrs   \n",
       "7                      Navitas LLP    3-8 Yrs   \n",
       "8                      Wells Fargo   7-12 Yrs   \n",
       "9                      Wells Fargo    4-9 Yrs   \n",
       "\n",
       "                                      Location                    Salary  \n",
       "0                          Bangalore/Bengaluru             Not disclosed  \n",
       "1                          Bangalore/Bengaluru             Not disclosed  \n",
       "2                          Bangalore/Bengaluru             Not disclosed  \n",
       "3                          Bangalore/Bengaluru             Not disclosed  \n",
       "4                          Bangalore/Bengaluru   4,50,000 - 6,50,000 PA.  \n",
       "5      Bangalore/Bengaluru\\n(WFH during Covid)  8,00,000 - 18,00,000 PA.  \n",
       "6                          Bangalore/Bengaluru             Not disclosed  \n",
       "7                 Chennai, Bangalore/Bengaluru             Not disclosed  \n",
       "8         Serilingampally, Bangalore/Bengaluru             Not disclosed  \n",
       "9  Hyderabad/Secunderabad, Bangalore/Bengaluru             Not disclosed  "
      ]
     },
     "execution_count": 70,
     "metadata": {},
     "output_type": "execute_result"
    }
   ],
   "source": [
    "jobs[0:10]"
   ]
  },
  {
   "cell_type": "markdown",
   "id": "b8f3d7c1",
   "metadata": {},
   "source": [
    "## Q2: Write a python program to scrape data for “Data Scientist” Job position in “Bangalore” location. You have to scrape the job-title, job-location, company_name, experience_required. You have to scrape first 10 jobs data.\n"
   ]
  },
  {
   "cell_type": "code",
   "execution_count": 224,
   "id": "2cfd3782",
   "metadata": {},
   "outputs": [],
   "source": [
    "# Connect to web driver\n",
    "driver = webdriver.Chrome(r'C:\\Users\\poonam\\Downloads\\chromedriver_win32\\chromedriver.exe')"
   ]
  },
  {
   "cell_type": "code",
   "execution_count": 225,
   "id": "3c4b3584",
   "metadata": {},
   "outputs": [],
   "source": [
    "url = 'https://www.naukri.com/'\n",
    "driver.get(url)"
   ]
  },
  {
   "cell_type": "code",
   "execution_count": 226,
   "id": "aaa1240d",
   "metadata": {},
   "outputs": [
    {
     "data": {
      "text/plain": [
       "<selenium.webdriver.remote.webelement.WebElement (session=\"ecf46c1d81d3a546eb70004e26e270b0\", element=\"d29cb6e0-c0da-4823-bea8-18e089f74fc4\")>"
      ]
     },
     "execution_count": 226,
     "metadata": {},
     "output_type": "execute_result"
    }
   ],
   "source": [
    "# Finding web element for search web bar for using id\n",
    "scrap_job = driver.find_element(By.CLASS_NAME,\"suggestor-input\")\n",
    "scrap_job"
   ]
  },
  {
   "cell_type": "code",
   "execution_count": 227,
   "id": "b0683802",
   "metadata": {},
   "outputs": [],
   "source": [
    "# Write on search bar\n",
    "scrap_job.send_keys(\"Data Scientist\")"
   ]
  },
  {
   "cell_type": "code",
   "execution_count": 228,
   "id": "88a5254a",
   "metadata": {},
   "outputs": [
    {
     "data": {
      "text/plain": [
       "<selenium.webdriver.remote.webelement.WebElement (session=\"ecf46c1d81d3a546eb70004e26e270b0\", element=\"15aa05fb-b31c-402d-b67c-9968cb39643f\")>"
      ]
     },
     "execution_count": 228,
     "metadata": {},
     "output_type": "execute_result"
    }
   ],
   "source": [
    "# Finding web element for job location bar\n",
    "scrap_loca = driver.find_element(By.XPATH,\"/html/body/div[1]/div[2]/div[3]/div/div/div[5]/div/div/div/input\")\n",
    "scrap_loca"
   ]
  },
  {
   "cell_type": "code",
   "execution_count": 229,
   "id": "e6cf960c",
   "metadata": {},
   "outputs": [],
   "source": [
    "scrap_loca.send_keys(\"Bangalore\")"
   ]
  },
  {
   "cell_type": "code",
   "execution_count": 233,
   "id": "bc505a46",
   "metadata": {},
   "outputs": [
    {
     "data": {
      "text/plain": [
       "<selenium.webdriver.remote.webelement.WebElement (session=\"ecf46c1d81d3a546eb70004e26e270b0\", element=\"0ef9c764-691c-43b5-a6eb-b56c92fc6014\")>"
      ]
     },
     "execution_count": 233,
     "metadata": {},
     "output_type": "execute_result"
    }
   ],
   "source": [
    "search_bttn = driver.find_element(By.XPATH,\"/html/body/div[1]/div[2]/div[3]/div/div/div[6]\")\n",
    "scrap_bttn"
   ]
  },
  {
   "cell_type": "code",
   "execution_count": 234,
   "id": "48e63c70",
   "metadata": {},
   "outputs": [
    {
     "ename": "ElementClickInterceptedException",
     "evalue": "Message: element click intercepted: Element <div class=\"qsbSubmit\">...</div> is not clickable at point (993, 266). Other element would receive the click: <div class=\"crossWrapper\">...</div>\n  (Session info: chrome=103.0.5060.114)\nStacktrace:\nBacktrace:\n\tOrdinal0 [0x00306463+2188387]\n\tOrdinal0 [0x0029E461+1762401]\n\tOrdinal0 [0x001B3D78+802168]\n\tOrdinal0 [0x001E7F9B+1015707]\n\tOrdinal0 [0x001E5F68+1007464]\n\tOrdinal0 [0x001E3C6B+998507]\n\tOrdinal0 [0x001E29D9+993753]\n\tOrdinal0 [0x001D8613+951827]\n\tOrdinal0 [0x001FC7DC+1099740]\n\tOrdinal0 [0x001D7FF4+950260]\n\tOrdinal0 [0x001FC9F4+1100276]\n\tOrdinal0 [0x0020CC22+1166370]\n\tOrdinal0 [0x001FC5F6+1099254]\n\tOrdinal0 [0x001D6BE0+945120]\n\tOrdinal0 [0x001D7AD6+948950]\n\tGetHandleVerifier [0x005A71F2+2712546]\n\tGetHandleVerifier [0x0059886D+2652765]\n\tGetHandleVerifier [0x0039002A+520730]\n\tGetHandleVerifier [0x0038EE06+516086]\n\tOrdinal0 [0x002A468B+1787531]\n\tOrdinal0 [0x002A8E88+1805960]\n\tOrdinal0 [0x002A8F75+1806197]\n\tOrdinal0 [0x002B1DF1+1842673]\n\tBaseThreadInitThunk [0x764C6739+25]\n\tRtlGetFullPathName_UEx [0x77AE8FEF+1215]\n\tRtlGetFullPathName_UEx [0x77AE8FBD+1165]\n\t(No symbol) [0x00000000]\n",
     "output_type": "error",
     "traceback": [
      "\u001b[1;31m---------------------------------------------------------------------------\u001b[0m",
      "\u001b[1;31mElementClickInterceptedException\u001b[0m          Traceback (most recent call last)",
      "\u001b[1;32m~\\AppData\\Local\\Temp/ipykernel_27752/532988326.py\u001b[0m in \u001b[0;36m<module>\u001b[1;34m\u001b[0m\n\u001b[1;32m----> 1\u001b[1;33m \u001b[0mscrap_bttn\u001b[0m\u001b[1;33m.\u001b[0m\u001b[0mclick\u001b[0m\u001b[1;33m(\u001b[0m\u001b[1;33m)\u001b[0m\u001b[1;33m\u001b[0m\u001b[1;33m\u001b[0m\u001b[0m\n\u001b[0m",
      "\u001b[1;32m~\\anaconda3\\lib\\site-packages\\selenium\\webdriver\\remote\\webelement.py\u001b[0m in \u001b[0;36mclick\u001b[1;34m(self)\u001b[0m\n\u001b[0;32m     86\u001b[0m     \u001b[1;32mdef\u001b[0m \u001b[0mclick\u001b[0m\u001b[1;33m(\u001b[0m\u001b[0mself\u001b[0m\u001b[1;33m)\u001b[0m \u001b[1;33m->\u001b[0m \u001b[1;32mNone\u001b[0m\u001b[1;33m:\u001b[0m\u001b[1;33m\u001b[0m\u001b[1;33m\u001b[0m\u001b[0m\n\u001b[0;32m     87\u001b[0m         \u001b[1;34m\"\"\"Clicks the element.\"\"\"\u001b[0m\u001b[1;33m\u001b[0m\u001b[1;33m\u001b[0m\u001b[0m\n\u001b[1;32m---> 88\u001b[1;33m         \u001b[0mself\u001b[0m\u001b[1;33m.\u001b[0m\u001b[0m_execute\u001b[0m\u001b[1;33m(\u001b[0m\u001b[0mCommand\u001b[0m\u001b[1;33m.\u001b[0m\u001b[0mCLICK_ELEMENT\u001b[0m\u001b[1;33m)\u001b[0m\u001b[1;33m\u001b[0m\u001b[1;33m\u001b[0m\u001b[0m\n\u001b[0m\u001b[0;32m     89\u001b[0m \u001b[1;33m\u001b[0m\u001b[0m\n\u001b[0;32m     90\u001b[0m     \u001b[1;32mdef\u001b[0m \u001b[0msubmit\u001b[0m\u001b[1;33m(\u001b[0m\u001b[0mself\u001b[0m\u001b[1;33m)\u001b[0m\u001b[1;33m:\u001b[0m\u001b[1;33m\u001b[0m\u001b[1;33m\u001b[0m\u001b[0m\n",
      "\u001b[1;32m~\\anaconda3\\lib\\site-packages\\selenium\\webdriver\\remote\\webelement.py\u001b[0m in \u001b[0;36m_execute\u001b[1;34m(self, command, params)\u001b[0m\n\u001b[0;32m    394\u001b[0m             \u001b[0mparams\u001b[0m \u001b[1;33m=\u001b[0m \u001b[1;33m{\u001b[0m\u001b[1;33m}\u001b[0m\u001b[1;33m\u001b[0m\u001b[1;33m\u001b[0m\u001b[0m\n\u001b[0;32m    395\u001b[0m         \u001b[0mparams\u001b[0m\u001b[1;33m[\u001b[0m\u001b[1;34m'id'\u001b[0m\u001b[1;33m]\u001b[0m \u001b[1;33m=\u001b[0m \u001b[0mself\u001b[0m\u001b[1;33m.\u001b[0m\u001b[0m_id\u001b[0m\u001b[1;33m\u001b[0m\u001b[1;33m\u001b[0m\u001b[0m\n\u001b[1;32m--> 396\u001b[1;33m         \u001b[1;32mreturn\u001b[0m \u001b[0mself\u001b[0m\u001b[1;33m.\u001b[0m\u001b[0m_parent\u001b[0m\u001b[1;33m.\u001b[0m\u001b[0mexecute\u001b[0m\u001b[1;33m(\u001b[0m\u001b[0mcommand\u001b[0m\u001b[1;33m,\u001b[0m \u001b[0mparams\u001b[0m\u001b[1;33m)\u001b[0m\u001b[1;33m\u001b[0m\u001b[1;33m\u001b[0m\u001b[0m\n\u001b[0m\u001b[0;32m    397\u001b[0m \u001b[1;33m\u001b[0m\u001b[0m\n\u001b[0;32m    398\u001b[0m     \u001b[1;32mdef\u001b[0m \u001b[0mfind_element\u001b[0m\u001b[1;33m(\u001b[0m\u001b[0mself\u001b[0m\u001b[1;33m,\u001b[0m \u001b[0mby\u001b[0m\u001b[1;33m=\u001b[0m\u001b[0mBy\u001b[0m\u001b[1;33m.\u001b[0m\u001b[0mID\u001b[0m\u001b[1;33m,\u001b[0m \u001b[0mvalue\u001b[0m\u001b[1;33m=\u001b[0m\u001b[1;32mNone\u001b[0m\u001b[1;33m)\u001b[0m \u001b[1;33m->\u001b[0m \u001b[0mWebElement\u001b[0m\u001b[1;33m:\u001b[0m\u001b[1;33m\u001b[0m\u001b[1;33m\u001b[0m\u001b[0m\n",
      "\u001b[1;32m~\\anaconda3\\lib\\site-packages\\selenium\\webdriver\\remote\\webdriver.py\u001b[0m in \u001b[0;36mexecute\u001b[1;34m(self, driver_command, params)\u001b[0m\n\u001b[0;32m    433\u001b[0m         \u001b[0mresponse\u001b[0m \u001b[1;33m=\u001b[0m \u001b[0mself\u001b[0m\u001b[1;33m.\u001b[0m\u001b[0mcommand_executor\u001b[0m\u001b[1;33m.\u001b[0m\u001b[0mexecute\u001b[0m\u001b[1;33m(\u001b[0m\u001b[0mdriver_command\u001b[0m\u001b[1;33m,\u001b[0m \u001b[0mparams\u001b[0m\u001b[1;33m)\u001b[0m\u001b[1;33m\u001b[0m\u001b[1;33m\u001b[0m\u001b[0m\n\u001b[0;32m    434\u001b[0m         \u001b[1;32mif\u001b[0m \u001b[0mresponse\u001b[0m\u001b[1;33m:\u001b[0m\u001b[1;33m\u001b[0m\u001b[1;33m\u001b[0m\u001b[0m\n\u001b[1;32m--> 435\u001b[1;33m             \u001b[0mself\u001b[0m\u001b[1;33m.\u001b[0m\u001b[0merror_handler\u001b[0m\u001b[1;33m.\u001b[0m\u001b[0mcheck_response\u001b[0m\u001b[1;33m(\u001b[0m\u001b[0mresponse\u001b[0m\u001b[1;33m)\u001b[0m\u001b[1;33m\u001b[0m\u001b[1;33m\u001b[0m\u001b[0m\n\u001b[0m\u001b[0;32m    436\u001b[0m             response['value'] = self._unwrap_value(\n\u001b[0;32m    437\u001b[0m                 response.get('value', None))\n",
      "\u001b[1;32m~\\anaconda3\\lib\\site-packages\\selenium\\webdriver\\remote\\errorhandler.py\u001b[0m in \u001b[0;36mcheck_response\u001b[1;34m(self, response)\u001b[0m\n\u001b[0;32m    245\u001b[0m                 \u001b[0malert_text\u001b[0m \u001b[1;33m=\u001b[0m \u001b[0mvalue\u001b[0m\u001b[1;33m[\u001b[0m\u001b[1;34m'alert'\u001b[0m\u001b[1;33m]\u001b[0m\u001b[1;33m.\u001b[0m\u001b[0mget\u001b[0m\u001b[1;33m(\u001b[0m\u001b[1;34m'text'\u001b[0m\u001b[1;33m)\u001b[0m\u001b[1;33m\u001b[0m\u001b[1;33m\u001b[0m\u001b[0m\n\u001b[0;32m    246\u001b[0m             \u001b[1;32mraise\u001b[0m \u001b[0mexception_class\u001b[0m\u001b[1;33m(\u001b[0m\u001b[0mmessage\u001b[0m\u001b[1;33m,\u001b[0m \u001b[0mscreen\u001b[0m\u001b[1;33m,\u001b[0m \u001b[0mstacktrace\u001b[0m\u001b[1;33m,\u001b[0m \u001b[0malert_text\u001b[0m\u001b[1;33m)\u001b[0m  \u001b[1;31m# type: ignore[call-arg]  # mypy is not smart enough here\u001b[0m\u001b[1;33m\u001b[0m\u001b[1;33m\u001b[0m\u001b[0m\n\u001b[1;32m--> 247\u001b[1;33m         \u001b[1;32mraise\u001b[0m \u001b[0mexception_class\u001b[0m\u001b[1;33m(\u001b[0m\u001b[0mmessage\u001b[0m\u001b[1;33m,\u001b[0m \u001b[0mscreen\u001b[0m\u001b[1;33m,\u001b[0m \u001b[0mstacktrace\u001b[0m\u001b[1;33m)\u001b[0m\u001b[1;33m\u001b[0m\u001b[1;33m\u001b[0m\u001b[0m\n\u001b[0m\u001b[0;32m    248\u001b[0m \u001b[1;33m\u001b[0m\u001b[0m\n\u001b[0;32m    249\u001b[0m     \u001b[1;32mdef\u001b[0m \u001b[0m_value_or_default\u001b[0m\u001b[1;33m(\u001b[0m\u001b[0mself\u001b[0m\u001b[1;33m,\u001b[0m \u001b[0mobj\u001b[0m\u001b[1;33m:\u001b[0m \u001b[0mMapping\u001b[0m\u001b[1;33m[\u001b[0m\u001b[0m_KT\u001b[0m\u001b[1;33m,\u001b[0m \u001b[0m_VT\u001b[0m\u001b[1;33m]\u001b[0m\u001b[1;33m,\u001b[0m \u001b[0mkey\u001b[0m\u001b[1;33m:\u001b[0m \u001b[0m_KT\u001b[0m\u001b[1;33m,\u001b[0m \u001b[0mdefault\u001b[0m\u001b[1;33m:\u001b[0m \u001b[0m_VT\u001b[0m\u001b[1;33m)\u001b[0m \u001b[1;33m->\u001b[0m \u001b[0m_VT\u001b[0m\u001b[1;33m:\u001b[0m\u001b[1;33m\u001b[0m\u001b[1;33m\u001b[0m\u001b[0m\n",
      "\u001b[1;31mElementClickInterceptedException\u001b[0m: Message: element click intercepted: Element <div class=\"qsbSubmit\">...</div> is not clickable at point (993, 266). Other element would receive the click: <div class=\"crossWrapper\">...</div>\n  (Session info: chrome=103.0.5060.114)\nStacktrace:\nBacktrace:\n\tOrdinal0 [0x00306463+2188387]\n\tOrdinal0 [0x0029E461+1762401]\n\tOrdinal0 [0x001B3D78+802168]\n\tOrdinal0 [0x001E7F9B+1015707]\n\tOrdinal0 [0x001E5F68+1007464]\n\tOrdinal0 [0x001E3C6B+998507]\n\tOrdinal0 [0x001E29D9+993753]\n\tOrdinal0 [0x001D8613+951827]\n\tOrdinal0 [0x001FC7DC+1099740]\n\tOrdinal0 [0x001D7FF4+950260]\n\tOrdinal0 [0x001FC9F4+1100276]\n\tOrdinal0 [0x0020CC22+1166370]\n\tOrdinal0 [0x001FC5F6+1099254]\n\tOrdinal0 [0x001D6BE0+945120]\n\tOrdinal0 [0x001D7AD6+948950]\n\tGetHandleVerifier [0x005A71F2+2712546]\n\tGetHandleVerifier [0x0059886D+2652765]\n\tGetHandleVerifier [0x0039002A+520730]\n\tGetHandleVerifier [0x0038EE06+516086]\n\tOrdinal0 [0x002A468B+1787531]\n\tOrdinal0 [0x002A8E88+1805960]\n\tOrdinal0 [0x002A8F75+1806197]\n\tOrdinal0 [0x002B1DF1+1842673]\n\tBaseThreadInitThunk [0x764C6739+25]\n\tRtlGetFullPathName_UEx [0x77AE8FEF+1215]\n\tRtlGetFullPathName_UEx [0x77AE8FBD+1165]\n\t(No symbol) [0x00000000]\n"
     ]
    }
   ],
   "source": [
    "scrap_bttn.click()"
   ]
  },
  {
   "cell_type": "markdown",
   "id": "091eeec7",
   "metadata": {},
   "source": [
    "## Extracting Job Title"
   ]
  },
  {
   "cell_type": "code",
   "execution_count": 167,
   "id": "3fac42b2",
   "metadata": {},
   "outputs": [
    {
     "data": {
      "text/plain": [
       "20"
      ]
     },
     "execution_count": 167,
     "metadata": {},
     "output_type": "execute_result"
    }
   ],
   "source": [
    "# Extracts all web elements having job titles\n",
    "job_title = driver.find_elements(By.XPATH,'//a[@class=\"title fw500 ellipsis\"]')\n",
    "len(job_title)"
   ]
  },
  {
   "cell_type": "code",
   "execution_count": 168,
   "id": "cf3d0aae",
   "metadata": {},
   "outputs": [
    {
     "data": {
      "text/plain": [
       "20"
      ]
     },
     "execution_count": 168,
     "metadata": {},
     "output_type": "execute_result"
    }
   ],
   "source": [
    "# Now the text of job title is inside the web elements extracted above\n",
    "# so we will run a for loop to iterate over the tags and will extract\n",
    "titles_tag = []\n",
    "\n",
    "for i in job_title:\n",
    "    titles_tag.append(i.text)\n",
    "len(titles_tag)"
   ]
  },
  {
   "cell_type": "code",
   "execution_count": 169,
   "id": "9f5ea560",
   "metadata": {},
   "outputs": [
    {
     "data": {
      "text/plain": [
       "['Urgent Job Opening For AI Practitioner - Data Science at Wipro Holmes',\n",
       " 'Dataiku Consultant',\n",
       " 'Research and Development -AI/ML -(PhD )',\n",
       " 'Opportunity For Data Scientist - Female Candidates ONLY',\n",
       " 'Data Scientist- Assistant Manager/Manager',\n",
       " 'Data Scientist: Artificial Intelligence',\n",
       " 'Data Scientist - IN3',\n",
       " 'Data Scientist - IN3',\n",
       " 'Senior Data Scientist, Personalization',\n",
       " 'Data Scientist',\n",
       " 'Senior Data Science Engineer',\n",
       " 'Senior Data Scientist',\n",
       " 'Data Science - Engineering Manager',\n",
       " 'Data Scientist',\n",
       " 'Data Scientist: Advanced Analytics',\n",
       " 'Data Engineer - ML Ops',\n",
       " 'DigitalBCG GAMMA Data Scientist',\n",
       " 'Data Scientist',\n",
       " 'Senior Associate - Data Science',\n",
       " 'Data Scientist']"
      ]
     },
     "execution_count": 169,
     "metadata": {},
     "output_type": "execute_result"
    }
   ],
   "source": [
    "titles_tag"
   ]
  },
  {
   "cell_type": "markdown",
   "id": "6258a209",
   "metadata": {},
   "source": [
    "## Extracting Company Name"
   ]
  },
  {
   "cell_type": "code",
   "execution_count": null,
   "id": "868713fc",
   "metadata": {},
   "outputs": [],
   "source": [
    "# Now extract all web elements having company names\n",
    "company_tags = driver.find_elements(By.XPATH,'//a[@class=\"subTitle ellipsis fleft\"]')\n",
    "len(company_tags)"
   ]
  },
  {
   "cell_type": "markdown",
   "id": "9cb8711e",
   "metadata": {},
   "source": [
    "# Q3: In this question you have to scrape data using the filters available on the webpage on naukri.com"
   ]
  },
  {
   "cell_type": "code",
   "execution_count": 76,
   "id": "827d2e4d",
   "metadata": {},
   "outputs": [],
   "source": [
    "# Connect to web driver\n",
    "driver = webdriver.Chrome(r'C:\\Users\\poonam\\Downloads\\chromedriver_win32\\chromedriver.exe')"
   ]
  },
  {
   "cell_type": "code",
   "execution_count": 77,
   "id": "c8222290",
   "metadata": {},
   "outputs": [],
   "source": [
    "url = 'https://www.naukri.com/'\n",
    "driver.get(url)"
   ]
  },
  {
   "cell_type": "code",
   "execution_count": 81,
   "id": "c64c0fc6",
   "metadata": {},
   "outputs": [
    {
     "data": {
      "text/plain": [
       "<selenium.webdriver.remote.webelement.WebElement (session=\"70d24645a3e2edf1fd32adceb8d577c9\", element=\"31f211e1-39f3-430d-95be-a5800030dabf\")>"
      ]
     },
     "execution_count": 81,
     "metadata": {},
     "output_type": "execute_result"
    }
   ],
   "source": [
    "# Finding web element for search web bar for using id\n",
    "search_job = driver.find_element(By.CLASS_NAME,\"suggestor-input\")\n",
    "search_job"
   ]
  },
  {
   "cell_type": "code",
   "execution_count": 82,
   "id": "dc9a524b",
   "metadata": {},
   "outputs": [],
   "source": [
    "# Write on search bar\n",
    "search_job.send_keys(\"Data Scientist\")"
   ]
  },
  {
   "cell_type": "code",
   "execution_count": 83,
   "id": "4783e18b",
   "metadata": {},
   "outputs": [
    {
     "data": {
      "text/plain": [
       "<selenium.webdriver.remote.webelement.WebElement (session=\"70d24645a3e2edf1fd32adceb8d577c9\", element=\"9d40207e-92b9-448a-8e88-596b92e5b3e4\")>"
      ]
     },
     "execution_count": 83,
     "metadata": {},
     "output_type": "execute_result"
    }
   ],
   "source": [
    "search_btn = driver.find_element(By.XPATH,\"/html/body/div[1]/div[2]/div[3]/div/div/div[6]\")\n",
    "search_btn"
   ]
  },
  {
   "cell_type": "code",
   "execution_count": 84,
   "id": "4fb5510a",
   "metadata": {},
   "outputs": [],
   "source": [
    "search_btn.click()"
   ]
  },
  {
   "cell_type": "code",
   "execution_count": 90,
   "id": "a168cdaa",
   "metadata": {},
   "outputs": [
    {
     "data": {
      "text/plain": [
       "<selenium.webdriver.remote.webelement.WebElement (session=\"70d24645a3e2edf1fd32adceb8d577c9\", element=\"50e8c016-6738-44c6-ab6b-5f5508b7095d\")>"
      ]
     },
     "execution_count": 90,
     "metadata": {},
     "output_type": "execute_result"
    }
   ],
   "source": [
    "# using location filter\n",
    "search_delhi = driver.find_element(By.XPATH,\"/html/body/div[1]/div[3]/div[2]/section[1]/div[2]/div[2]/div[2]/div[3]\")\n",
    "search_delhi"
   ]
  },
  {
   "cell_type": "code",
   "execution_count": 91,
   "id": "c558124c",
   "metadata": {},
   "outputs": [],
   "source": [
    "search_delhi.click()"
   ]
  },
  {
   "cell_type": "code",
   "execution_count": 92,
   "id": "a6fdc43e",
   "metadata": {},
   "outputs": [
    {
     "data": {
      "text/plain": [
       "<selenium.webdriver.remote.webelement.WebElement (session=\"70d24645a3e2edf1fd32adceb8d577c9\", element=\"d577208e-965a-4cd4-ab21-a5a9e4785663\")>"
      ]
     },
     "execution_count": 92,
     "metadata": {},
     "output_type": "execute_result"
    }
   ],
   "source": [
    "# using location filter\n",
    "search_salary = driver.find_element(By.XPATH,\"/html/body/div[1]/div[3]/div[2]/section[1]/div[2]/div[6]/div[2]/div[2]\")\n",
    "search_salary"
   ]
  },
  {
   "cell_type": "code",
   "execution_count": 93,
   "id": "e685c866",
   "metadata": {},
   "outputs": [],
   "source": [
    "search_salary.click()"
   ]
  },
  {
   "cell_type": "markdown",
   "id": "f8e02bf3",
   "metadata": {},
   "source": [
    "# Extracting job titles"
   ]
  },
  {
   "cell_type": "code",
   "execution_count": 100,
   "id": "2b2b14f9",
   "metadata": {},
   "outputs": [
    {
     "data": {
      "text/plain": [
       "20"
      ]
     },
     "execution_count": 100,
     "metadata": {},
     "output_type": "execute_result"
    }
   ],
   "source": [
    "# Extracts all web element having job titles\n",
    "Job_tags = driver.find_elements(By.XPATH,'//a[@class=\"title fw500 ellipsis\"]')\n",
    "len(Job_tags)"
   ]
  },
  {
   "cell_type": "code",
   "execution_count": 112,
   "id": "b159fe87",
   "metadata": {},
   "outputs": [
    {
     "data": {
      "text/plain": [
       "20"
      ]
     },
     "execution_count": 112,
     "metadata": {},
     "output_type": "execute_result"
    }
   ],
   "source": [
    "# Now the text of job title is inside the web elements extracted above\n",
    "# so we will run a for loop to iterate over the tags and will extract\n",
    "Job = []\n",
    "\n",
    "for i in Job_tags:\n",
    "    Job.append(i.text)\n",
    "len(Job)"
   ]
  },
  {
   "cell_type": "code",
   "execution_count": 113,
   "id": "5afd413d",
   "metadata": {},
   "outputs": [
    {
     "data": {
      "text/plain": [
       "['DigitalBCG GAMMA Data Scientist',\n",
       " 'Senior Associate - Data Science',\n",
       " 'Data Scientist - Noida/Bangalore',\n",
       " 'Data Scientist - Machine learning AI',\n",
       " 'Data Scientist',\n",
       " 'Data Scientist - Engine Algorithm',\n",
       " 'Data Scientist - MIND Infotech',\n",
       " 'Data Scientist - Predictive Analytics',\n",
       " 'Data Scientist',\n",
       " 'Data Scientist - Internet Jobs - II',\n",
       " 'Data Scientist',\n",
       " 'Machine Learning Seniors',\n",
       " 'Hiring || Data Scientist || North Delhi || 5.5 days working',\n",
       " 'Data scientist- Python',\n",
       " 'Data Scientist',\n",
       " 'Data Engineer',\n",
       " 'Dot Net Developer',\n",
       " 'Data Scientists',\n",
       " 'Data Scientist (4-8 Years)',\n",
       " 'Database Management Expert//Ghaziabad']"
      ]
     },
     "execution_count": 113,
     "metadata": {},
     "output_type": "execute_result"
    }
   ],
   "source": [
    "Job"
   ]
  },
  {
   "cell_type": "markdown",
   "id": "388db778",
   "metadata": {},
   "source": [
    "## Extraction Location"
   ]
  },
  {
   "cell_type": "code",
   "execution_count": 110,
   "id": "e2835ea8",
   "metadata": {},
   "outputs": [
    {
     "data": {
      "text/plain": [
       "20"
      ]
     },
     "execution_count": 110,
     "metadata": {},
     "output_type": "execute_result"
    }
   ],
   "source": [
    "# Extracts job location\n",
    "job_locn = driver.find_elements(By.XPATH,'//li[@class=\"fleft grey-text br2 placeHolderLi location\"]')\n",
    "len(job_locn)"
   ]
  },
  {
   "cell_type": "code",
   "execution_count": 111,
   "id": "7d58f545",
   "metadata": {},
   "outputs": [
    {
     "data": {
      "text/plain": [
       "20"
      ]
     },
     "execution_count": 111,
     "metadata": {},
     "output_type": "execute_result"
    }
   ],
   "source": [
    "Job_Location = []\n",
    "\n",
    "for i in job_locn:\n",
    "    Job_Location.append(i.text)\n",
    "len(Job_Location)"
   ]
  },
  {
   "cell_type": "code",
   "execution_count": 115,
   "id": "2368eff6",
   "metadata": {},
   "outputs": [
    {
     "data": {
      "text/plain": [
       "['New Delhi, Bangalore/Bengaluru',\n",
       " 'Mumbai, Hyderabad/Secunderabad, Gurgaon/Gurugram, Bangalore/Bengaluru',\n",
       " 'Noida, Bangalore/Bengaluru',\n",
       " 'Delhi / NCR, Bangalore/Bengaluru, Mumbai (All Areas)\\n(WFH during Covid)',\n",
       " 'Pune, Gurgaon/Gurugram, Bangalore/Bengaluru',\n",
       " 'Delhi / NCR, Kolkata, Mumbai, Hyderabad/Secunderabad, Lucknow, Chennai, Ahmedabad, Bangalore/Bengaluru',\n",
       " 'Noida',\n",
       " 'Noida, Mumbai, Chandigarh, Hyderabad/Secunderabad, Pune, Chennai, Gurgaon/Gurugram, Coimbatore, Bangalore/Bengaluru',\n",
       " 'Delhi / NCR, Bangalore/Bengaluru, Mumbai (All Areas)\\n(WFH during Covid)',\n",
       " 'Delhi / NCR, Bangalore/Bengaluru, Mumbai (All Areas)',\n",
       " 'Gurgaon/Gurugram',\n",
       " 'Hyderabad/Secunderabad, New Delhi',\n",
       " 'Delhi / NCR(Netaji Subhash Place)',\n",
       " 'Gurgaon/Gurugram',\n",
       " 'Gurgaon/Gurugram',\n",
       " 'Mumbai, New Delhi, Pune',\n",
       " 'Delhi / NCR, Gurgaon/Gurugram',\n",
       " 'Gurgaon/Gurugram',\n",
       " 'Delhi / NCR, Gurgaon/Gurugram',\n",
       " 'Ghaziabad']"
      ]
     },
     "execution_count": 115,
     "metadata": {},
     "output_type": "execute_result"
    }
   ],
   "source": [
    "Job_Location"
   ]
  },
  {
   "cell_type": "markdown",
   "id": "4683abdf",
   "metadata": {},
   "source": [
    "# Extracting Company Name"
   ]
  },
  {
   "cell_type": "code",
   "execution_count": 116,
   "id": "d93ceaea",
   "metadata": {},
   "outputs": [
    {
     "data": {
      "text/plain": [
       "20"
      ]
     },
     "execution_count": 116,
     "metadata": {},
     "output_type": "execute_result"
    }
   ],
   "source": [
    "# Extracts company name \n",
    "company_name= driver.find_elements(By.XPATH,'//a[@class=\"subTitle ellipsis fleft\"]')\n",
    "len(company_name)"
   ]
  },
  {
   "cell_type": "code",
   "execution_count": 117,
   "id": "fcb7ad97",
   "metadata": {},
   "outputs": [
    {
     "data": {
      "text/plain": [
       "20"
      ]
     },
     "execution_count": 117,
     "metadata": {},
     "output_type": "execute_result"
    }
   ],
   "source": [
    "Company = []\n",
    "\n",
    "for i in company_name:\n",
    "    Company.append(i.text)\n",
    "len(Company)"
   ]
  },
  {
   "cell_type": "code",
   "execution_count": 118,
   "id": "4e206329",
   "metadata": {},
   "outputs": [
    {
     "data": {
      "text/plain": [
       "['Boston Consulting Group',\n",
       " 'Black Turtle India Pvt Ltd',\n",
       " 'EXL',\n",
       " 'Teq Analytics',\n",
       " 'SS Supply Chain Solutions Pvt. Ltd. (3SC)',\n",
       " 'Primo Hiring',\n",
       " 'MOTHERSONSUMI INFOTECH & DESIGNS LIMITED',\n",
       " 'Confidential',\n",
       " 'Sydata Consulting India Pvt Ltd',\n",
       " 'Jobs Territory',\n",
       " 'Kellton Tech Solutions Limited',\n",
       " 'Walking Tree Consultancy Services pvt Ltd',\n",
       " 'Shriram Automall India Limited',\n",
       " 'TeamPlus Staffing Solution Pvt Ltd',\n",
       " 'T & A Solutions',\n",
       " 'excellence',\n",
       " 'Nibha Infotech Private Limited',\n",
       " 'Nibha Infotech Private Limited',\n",
       " 'Redian Software Private Limited',\n",
       " 'ABG Group']"
      ]
     },
     "execution_count": 118,
     "metadata": {},
     "output_type": "execute_result"
    }
   ],
   "source": [
    "Company"
   ]
  },
  {
   "cell_type": "markdown",
   "id": "27fa3610",
   "metadata": {},
   "source": [
    "## Extraction Experience"
   ]
  },
  {
   "cell_type": "code",
   "execution_count": 119,
   "id": "01d0dcdf",
   "metadata": {},
   "outputs": [
    {
     "data": {
      "text/plain": [
       "20"
      ]
     },
     "execution_count": 119,
     "metadata": {},
     "output_type": "execute_result"
    }
   ],
   "source": [
    "exper_reqd = driver.find_elements(By.XPATH,'//li[@class=\"fleft grey-text br2 placeHolderLi experience\"]')\n",
    "len(exper_reqd)"
   ]
  },
  {
   "cell_type": "code",
   "execution_count": 120,
   "id": "a1edbde4",
   "metadata": {},
   "outputs": [
    {
     "data": {
      "text/plain": [
       "20"
      ]
     },
     "execution_count": 120,
     "metadata": {},
     "output_type": "execute_result"
    }
   ],
   "source": [
    "Experience = []\n",
    "\n",
    "for i in exper_reqd:\n",
    "    Experience.append(i.text)\n",
    "len(Experience)"
   ]
  },
  {
   "cell_type": "code",
   "execution_count": 121,
   "id": "7045c09c",
   "metadata": {},
   "outputs": [
    {
     "data": {
      "text/plain": [
       "['2-5 Yrs',\n",
       " '4-7 Yrs',\n",
       " '5-10 Yrs',\n",
       " '3-8 Yrs',\n",
       " '2-5 Yrs',\n",
       " '1-3 Yrs',\n",
       " '4-8 Yrs',\n",
       " '1-6 Yrs',\n",
       " '3-8 Yrs',\n",
       " '3-6 Yrs',\n",
       " '3-6 Yrs',\n",
       " '2-5 Yrs',\n",
       " '4-9 Yrs',\n",
       " '3-6 Yrs',\n",
       " '2-6 Yrs',\n",
       " '4-9 Yrs',\n",
       " '3-8 Yrs',\n",
       " '5-8 Yrs',\n",
       " '4-8 Yrs',\n",
       " '1-3 Yrs']"
      ]
     },
     "execution_count": 121,
     "metadata": {},
     "output_type": "execute_result"
    }
   ],
   "source": [
    "Experience"
   ]
  },
  {
   "cell_type": "code",
   "execution_count": 122,
   "id": "e8ff64bc",
   "metadata": {},
   "outputs": [
    {
     "data": {
      "text/plain": [
       "(20, 20, 20, 20)"
      ]
     },
     "execution_count": 122,
     "metadata": {},
     "output_type": "execute_result"
    }
   ],
   "source": [
    "len(Job), len(Job_Location), len(Company), len(Experience)"
   ]
  },
  {
   "cell_type": "code",
   "execution_count": 123,
   "id": "66b8e693",
   "metadata": {},
   "outputs": [
    {
     "data": {
      "text/html": [
       "<div>\n",
       "<style scoped>\n",
       "    .dataframe tbody tr th:only-of-type {\n",
       "        vertical-align: middle;\n",
       "    }\n",
       "\n",
       "    .dataframe tbody tr th {\n",
       "        vertical-align: top;\n",
       "    }\n",
       "\n",
       "    .dataframe thead th {\n",
       "        text-align: right;\n",
       "    }\n",
       "</style>\n",
       "<table border=\"1\" class=\"dataframe\">\n",
       "  <thead>\n",
       "    <tr style=\"text-align: right;\">\n",
       "      <th></th>\n",
       "      <th>JOB</th>\n",
       "      <th>LOCATION</th>\n",
       "      <th>COMPANY</th>\n",
       "      <th>EXPERIENCE</th>\n",
       "    </tr>\n",
       "  </thead>\n",
       "  <tbody>\n",
       "    <tr>\n",
       "      <th>0</th>\n",
       "      <td>DigitalBCG GAMMA Data Scientist</td>\n",
       "      <td>New Delhi, Bangalore/Bengaluru</td>\n",
       "      <td>Boston Consulting Group</td>\n",
       "      <td>2-5 Yrs</td>\n",
       "    </tr>\n",
       "    <tr>\n",
       "      <th>1</th>\n",
       "      <td>Senior Associate - Data Science</td>\n",
       "      <td>Mumbai, Hyderabad/Secunderabad, Gurgaon/Gurugr...</td>\n",
       "      <td>Black Turtle India Pvt Ltd</td>\n",
       "      <td>4-7 Yrs</td>\n",
       "    </tr>\n",
       "    <tr>\n",
       "      <th>2</th>\n",
       "      <td>Data Scientist - Noida/Bangalore</td>\n",
       "      <td>Noida, Bangalore/Bengaluru</td>\n",
       "      <td>EXL</td>\n",
       "      <td>5-10 Yrs</td>\n",
       "    </tr>\n",
       "    <tr>\n",
       "      <th>3</th>\n",
       "      <td>Data Scientist - Machine learning AI</td>\n",
       "      <td>Delhi / NCR, Bangalore/Bengaluru, Mumbai (All ...</td>\n",
       "      <td>Teq Analytics</td>\n",
       "      <td>3-8 Yrs</td>\n",
       "    </tr>\n",
       "    <tr>\n",
       "      <th>4</th>\n",
       "      <td>Data Scientist</td>\n",
       "      <td>Pune, Gurgaon/Gurugram, Bangalore/Bengaluru</td>\n",
       "      <td>SS Supply Chain Solutions Pvt. Ltd. (3SC)</td>\n",
       "      <td>2-5 Yrs</td>\n",
       "    </tr>\n",
       "    <tr>\n",
       "      <th>5</th>\n",
       "      <td>Data Scientist - Engine Algorithm</td>\n",
       "      <td>Delhi / NCR, Kolkata, Mumbai, Hyderabad/Secund...</td>\n",
       "      <td>Primo Hiring</td>\n",
       "      <td>1-3 Yrs</td>\n",
       "    </tr>\n",
       "    <tr>\n",
       "      <th>6</th>\n",
       "      <td>Data Scientist - MIND Infotech</td>\n",
       "      <td>Noida</td>\n",
       "      <td>MOTHERSONSUMI INFOTECH &amp; DESIGNS LIMITED</td>\n",
       "      <td>4-8 Yrs</td>\n",
       "    </tr>\n",
       "    <tr>\n",
       "      <th>7</th>\n",
       "      <td>Data Scientist - Predictive Analytics</td>\n",
       "      <td>Noida, Mumbai, Chandigarh, Hyderabad/Secundera...</td>\n",
       "      <td>Confidential</td>\n",
       "      <td>1-6 Yrs</td>\n",
       "    </tr>\n",
       "    <tr>\n",
       "      <th>8</th>\n",
       "      <td>Data Scientist</td>\n",
       "      <td>Delhi / NCR, Bangalore/Bengaluru, Mumbai (All ...</td>\n",
       "      <td>Sydata Consulting India Pvt Ltd</td>\n",
       "      <td>3-8 Yrs</td>\n",
       "    </tr>\n",
       "    <tr>\n",
       "      <th>9</th>\n",
       "      <td>Data Scientist - Internet Jobs - II</td>\n",
       "      <td>Delhi / NCR, Bangalore/Bengaluru, Mumbai (All ...</td>\n",
       "      <td>Jobs Territory</td>\n",
       "      <td>3-6 Yrs</td>\n",
       "    </tr>\n",
       "    <tr>\n",
       "      <th>10</th>\n",
       "      <td>Data Scientist</td>\n",
       "      <td>Gurgaon/Gurugram</td>\n",
       "      <td>Kellton Tech Solutions Limited</td>\n",
       "      <td>3-6 Yrs</td>\n",
       "    </tr>\n",
       "    <tr>\n",
       "      <th>11</th>\n",
       "      <td>Machine Learning Seniors</td>\n",
       "      <td>Hyderabad/Secunderabad, New Delhi</td>\n",
       "      <td>Walking Tree Consultancy Services pvt Ltd</td>\n",
       "      <td>2-5 Yrs</td>\n",
       "    </tr>\n",
       "    <tr>\n",
       "      <th>12</th>\n",
       "      <td>Hiring || Data Scientist || North Delhi || 5.5...</td>\n",
       "      <td>Delhi / NCR(Netaji Subhash Place)</td>\n",
       "      <td>Shriram Automall India Limited</td>\n",
       "      <td>4-9 Yrs</td>\n",
       "    </tr>\n",
       "    <tr>\n",
       "      <th>13</th>\n",
       "      <td>Data scientist- Python</td>\n",
       "      <td>Gurgaon/Gurugram</td>\n",
       "      <td>TeamPlus Staffing Solution Pvt Ltd</td>\n",
       "      <td>3-6 Yrs</td>\n",
       "    </tr>\n",
       "    <tr>\n",
       "      <th>14</th>\n",
       "      <td>Data Scientist</td>\n",
       "      <td>Gurgaon/Gurugram</td>\n",
       "      <td>T &amp; A Solutions</td>\n",
       "      <td>2-6 Yrs</td>\n",
       "    </tr>\n",
       "    <tr>\n",
       "      <th>15</th>\n",
       "      <td>Data Engineer</td>\n",
       "      <td>Mumbai, New Delhi, Pune</td>\n",
       "      <td>excellence</td>\n",
       "      <td>4-9 Yrs</td>\n",
       "    </tr>\n",
       "    <tr>\n",
       "      <th>16</th>\n",
       "      <td>Dot Net Developer</td>\n",
       "      <td>Delhi / NCR, Gurgaon/Gurugram</td>\n",
       "      <td>Nibha Infotech Private Limited</td>\n",
       "      <td>3-8 Yrs</td>\n",
       "    </tr>\n",
       "    <tr>\n",
       "      <th>17</th>\n",
       "      <td>Data Scientists</td>\n",
       "      <td>Gurgaon/Gurugram</td>\n",
       "      <td>Nibha Infotech Private Limited</td>\n",
       "      <td>5-8 Yrs</td>\n",
       "    </tr>\n",
       "    <tr>\n",
       "      <th>18</th>\n",
       "      <td>Data Scientist (4-8 Years)</td>\n",
       "      <td>Delhi / NCR, Gurgaon/Gurugram</td>\n",
       "      <td>Redian Software Private Limited</td>\n",
       "      <td>4-8 Yrs</td>\n",
       "    </tr>\n",
       "    <tr>\n",
       "      <th>19</th>\n",
       "      <td>Database Management Expert//Ghaziabad</td>\n",
       "      <td>Ghaziabad</td>\n",
       "      <td>ABG Group</td>\n",
       "      <td>1-3 Yrs</td>\n",
       "    </tr>\n",
       "  </tbody>\n",
       "</table>\n",
       "</div>"
      ],
      "text/plain": [
       "                                                  JOB  \\\n",
       "0                     DigitalBCG GAMMA Data Scientist   \n",
       "1                     Senior Associate - Data Science   \n",
       "2                    Data Scientist - Noida/Bangalore   \n",
       "3                Data Scientist - Machine learning AI   \n",
       "4                                      Data Scientist   \n",
       "5                   Data Scientist - Engine Algorithm   \n",
       "6                      Data Scientist - MIND Infotech   \n",
       "7               Data Scientist - Predictive Analytics   \n",
       "8                                      Data Scientist   \n",
       "9                 Data Scientist - Internet Jobs - II   \n",
       "10                                     Data Scientist   \n",
       "11                           Machine Learning Seniors   \n",
       "12  Hiring || Data Scientist || North Delhi || 5.5...   \n",
       "13                             Data scientist- Python   \n",
       "14                                     Data Scientist   \n",
       "15                                      Data Engineer   \n",
       "16                                  Dot Net Developer   \n",
       "17                                    Data Scientists   \n",
       "18                         Data Scientist (4-8 Years)   \n",
       "19              Database Management Expert//Ghaziabad   \n",
       "\n",
       "                                             LOCATION  \\\n",
       "0                      New Delhi, Bangalore/Bengaluru   \n",
       "1   Mumbai, Hyderabad/Secunderabad, Gurgaon/Gurugr...   \n",
       "2                          Noida, Bangalore/Bengaluru   \n",
       "3   Delhi / NCR, Bangalore/Bengaluru, Mumbai (All ...   \n",
       "4         Pune, Gurgaon/Gurugram, Bangalore/Bengaluru   \n",
       "5   Delhi / NCR, Kolkata, Mumbai, Hyderabad/Secund...   \n",
       "6                                               Noida   \n",
       "7   Noida, Mumbai, Chandigarh, Hyderabad/Secundera...   \n",
       "8   Delhi / NCR, Bangalore/Bengaluru, Mumbai (All ...   \n",
       "9   Delhi / NCR, Bangalore/Bengaluru, Mumbai (All ...   \n",
       "10                                   Gurgaon/Gurugram   \n",
       "11                  Hyderabad/Secunderabad, New Delhi   \n",
       "12                  Delhi / NCR(Netaji Subhash Place)   \n",
       "13                                   Gurgaon/Gurugram   \n",
       "14                                   Gurgaon/Gurugram   \n",
       "15                            Mumbai, New Delhi, Pune   \n",
       "16                      Delhi / NCR, Gurgaon/Gurugram   \n",
       "17                                   Gurgaon/Gurugram   \n",
       "18                      Delhi / NCR, Gurgaon/Gurugram   \n",
       "19                                          Ghaziabad   \n",
       "\n",
       "                                      COMPANY EXPERIENCE  \n",
       "0                     Boston Consulting Group    2-5 Yrs  \n",
       "1                  Black Turtle India Pvt Ltd    4-7 Yrs  \n",
       "2                                         EXL   5-10 Yrs  \n",
       "3                               Teq Analytics    3-8 Yrs  \n",
       "4   SS Supply Chain Solutions Pvt. Ltd. (3SC)    2-5 Yrs  \n",
       "5                                Primo Hiring    1-3 Yrs  \n",
       "6    MOTHERSONSUMI INFOTECH & DESIGNS LIMITED    4-8 Yrs  \n",
       "7                                Confidential    1-6 Yrs  \n",
       "8             Sydata Consulting India Pvt Ltd    3-8 Yrs  \n",
       "9                              Jobs Territory    3-6 Yrs  \n",
       "10             Kellton Tech Solutions Limited    3-6 Yrs  \n",
       "11  Walking Tree Consultancy Services pvt Ltd    2-5 Yrs  \n",
       "12             Shriram Automall India Limited    4-9 Yrs  \n",
       "13         TeamPlus Staffing Solution Pvt Ltd    3-6 Yrs  \n",
       "14                            T & A Solutions    2-6 Yrs  \n",
       "15                                 excellence    4-9 Yrs  \n",
       "16             Nibha Infotech Private Limited    3-8 Yrs  \n",
       "17             Nibha Infotech Private Limited    5-8 Yrs  \n",
       "18            Redian Software Private Limited    4-8 Yrs  \n",
       "19                                  ABG Group    1-3 Yrs  "
      ]
     },
     "execution_count": 123,
     "metadata": {},
     "output_type": "execute_result"
    }
   ],
   "source": [
    "# Create Data Frame\n",
    "jobs = pd.DataFrame()\n",
    "jobs['JOB'] = Job\n",
    "jobs['LOCATION'] = Job_Location\n",
    "jobs['COMPANY'] = Company\n",
    "jobs['EXPERIENCE'] = Experience\n",
    "jobs"
   ]
  },
  {
   "cell_type": "code",
   "execution_count": 126,
   "id": "7c11fee1",
   "metadata": {},
   "outputs": [
    {
     "data": {
      "text/html": [
       "<div>\n",
       "<style scoped>\n",
       "    .dataframe tbody tr th:only-of-type {\n",
       "        vertical-align: middle;\n",
       "    }\n",
       "\n",
       "    .dataframe tbody tr th {\n",
       "        vertical-align: top;\n",
       "    }\n",
       "\n",
       "    .dataframe thead th {\n",
       "        text-align: right;\n",
       "    }\n",
       "</style>\n",
       "<table border=\"1\" class=\"dataframe\">\n",
       "  <thead>\n",
       "    <tr style=\"text-align: right;\">\n",
       "      <th></th>\n",
       "      <th>JOB</th>\n",
       "      <th>LOCATION</th>\n",
       "      <th>COMPANY</th>\n",
       "      <th>EXPERIENCE</th>\n",
       "    </tr>\n",
       "  </thead>\n",
       "  <tbody>\n",
       "    <tr>\n",
       "      <th>0</th>\n",
       "      <td>DigitalBCG GAMMA Data Scientist</td>\n",
       "      <td>New Delhi, Bangalore/Bengaluru</td>\n",
       "      <td>Boston Consulting Group</td>\n",
       "      <td>2-5 Yrs</td>\n",
       "    </tr>\n",
       "    <tr>\n",
       "      <th>1</th>\n",
       "      <td>Senior Associate - Data Science</td>\n",
       "      <td>Mumbai, Hyderabad/Secunderabad, Gurgaon/Gurugr...</td>\n",
       "      <td>Black Turtle India Pvt Ltd</td>\n",
       "      <td>4-7 Yrs</td>\n",
       "    </tr>\n",
       "    <tr>\n",
       "      <th>2</th>\n",
       "      <td>Data Scientist - Noida/Bangalore</td>\n",
       "      <td>Noida, Bangalore/Bengaluru</td>\n",
       "      <td>EXL</td>\n",
       "      <td>5-10 Yrs</td>\n",
       "    </tr>\n",
       "    <tr>\n",
       "      <th>3</th>\n",
       "      <td>Data Scientist - Machine learning AI</td>\n",
       "      <td>Delhi / NCR, Bangalore/Bengaluru, Mumbai (All ...</td>\n",
       "      <td>Teq Analytics</td>\n",
       "      <td>3-8 Yrs</td>\n",
       "    </tr>\n",
       "    <tr>\n",
       "      <th>4</th>\n",
       "      <td>Data Scientist</td>\n",
       "      <td>Pune, Gurgaon/Gurugram, Bangalore/Bengaluru</td>\n",
       "      <td>SS Supply Chain Solutions Pvt. Ltd. (3SC)</td>\n",
       "      <td>2-5 Yrs</td>\n",
       "    </tr>\n",
       "    <tr>\n",
       "      <th>5</th>\n",
       "      <td>Data Scientist - Engine Algorithm</td>\n",
       "      <td>Delhi / NCR, Kolkata, Mumbai, Hyderabad/Secund...</td>\n",
       "      <td>Primo Hiring</td>\n",
       "      <td>1-3 Yrs</td>\n",
       "    </tr>\n",
       "    <tr>\n",
       "      <th>6</th>\n",
       "      <td>Data Scientist - MIND Infotech</td>\n",
       "      <td>Noida</td>\n",
       "      <td>MOTHERSONSUMI INFOTECH &amp; DESIGNS LIMITED</td>\n",
       "      <td>4-8 Yrs</td>\n",
       "    </tr>\n",
       "    <tr>\n",
       "      <th>7</th>\n",
       "      <td>Data Scientist - Predictive Analytics</td>\n",
       "      <td>Noida, Mumbai, Chandigarh, Hyderabad/Secundera...</td>\n",
       "      <td>Confidential</td>\n",
       "      <td>1-6 Yrs</td>\n",
       "    </tr>\n",
       "    <tr>\n",
       "      <th>8</th>\n",
       "      <td>Data Scientist</td>\n",
       "      <td>Delhi / NCR, Bangalore/Bengaluru, Mumbai (All ...</td>\n",
       "      <td>Sydata Consulting India Pvt Ltd</td>\n",
       "      <td>3-8 Yrs</td>\n",
       "    </tr>\n",
       "    <tr>\n",
       "      <th>9</th>\n",
       "      <td>Data Scientist - Internet Jobs - II</td>\n",
       "      <td>Delhi / NCR, Bangalore/Bengaluru, Mumbai (All ...</td>\n",
       "      <td>Jobs Territory</td>\n",
       "      <td>3-6 Yrs</td>\n",
       "    </tr>\n",
       "  </tbody>\n",
       "</table>\n",
       "</div>"
      ],
      "text/plain": [
       "                                     JOB  \\\n",
       "0        DigitalBCG GAMMA Data Scientist   \n",
       "1        Senior Associate - Data Science   \n",
       "2       Data Scientist - Noida/Bangalore   \n",
       "3   Data Scientist - Machine learning AI   \n",
       "4                         Data Scientist   \n",
       "5      Data Scientist - Engine Algorithm   \n",
       "6         Data Scientist - MIND Infotech   \n",
       "7  Data Scientist - Predictive Analytics   \n",
       "8                         Data Scientist   \n",
       "9    Data Scientist - Internet Jobs - II   \n",
       "\n",
       "                                            LOCATION  \\\n",
       "0                     New Delhi, Bangalore/Bengaluru   \n",
       "1  Mumbai, Hyderabad/Secunderabad, Gurgaon/Gurugr...   \n",
       "2                         Noida, Bangalore/Bengaluru   \n",
       "3  Delhi / NCR, Bangalore/Bengaluru, Mumbai (All ...   \n",
       "4        Pune, Gurgaon/Gurugram, Bangalore/Bengaluru   \n",
       "5  Delhi / NCR, Kolkata, Mumbai, Hyderabad/Secund...   \n",
       "6                                              Noida   \n",
       "7  Noida, Mumbai, Chandigarh, Hyderabad/Secundera...   \n",
       "8  Delhi / NCR, Bangalore/Bengaluru, Mumbai (All ...   \n",
       "9  Delhi / NCR, Bangalore/Bengaluru, Mumbai (All ...   \n",
       "\n",
       "                                     COMPANY EXPERIENCE  \n",
       "0                    Boston Consulting Group    2-5 Yrs  \n",
       "1                 Black Turtle India Pvt Ltd    4-7 Yrs  \n",
       "2                                        EXL   5-10 Yrs  \n",
       "3                              Teq Analytics    3-8 Yrs  \n",
       "4  SS Supply Chain Solutions Pvt. Ltd. (3SC)    2-5 Yrs  \n",
       "5                               Primo Hiring    1-3 Yrs  \n",
       "6   MOTHERSONSUMI INFOTECH & DESIGNS LIMITED    4-8 Yrs  \n",
       "7                               Confidential    1-6 Yrs  \n",
       "8            Sydata Consulting India Pvt Ltd    3-8 Yrs  \n",
       "9                             Jobs Territory    3-6 Yrs  "
      ]
     },
     "execution_count": 126,
     "metadata": {},
     "output_type": "execute_result"
    }
   ],
   "source": [
    "jobs[0:10]"
   ]
  },
  {
   "cell_type": "markdown",
   "id": "7628250d",
   "metadata": {},
   "source": [
    "## Q4: Scrape data of first 100 sunglasses listings on flipkart.com. You have to scrape four attributes:\n",
    "1. Brand\n",
    "2. Product Description\n",
    "3. Price"
   ]
  },
  {
   "cell_type": "code",
   "execution_count": 301,
   "id": "7216afd5",
   "metadata": {},
   "outputs": [],
   "source": [
    "# Connect to web driver\n",
    "driver = webdriver.Chrome(r'C:\\Users\\poonam\\Downloads\\chromedriver_win32\\chromedriver.exe')"
   ]
  },
  {
   "cell_type": "code",
   "execution_count": 302,
   "id": "3b5017eb",
   "metadata": {},
   "outputs": [],
   "source": [
    "url = \"https://www.flipkart.com/\"\n",
    "driver.get(url)"
   ]
  },
  {
   "cell_type": "code",
   "execution_count": 303,
   "id": "898dbe01",
   "metadata": {},
   "outputs": [
    {
     "data": {
      "text/plain": [
       "<selenium.webdriver.remote.webelement.WebElement (session=\"f894d8b4c6261a77791d813b387b09a4\", element=\"0e7c9774-5068-441e-b22d-781868e70e98\")>"
      ]
     },
     "execution_count": 303,
     "metadata": {},
     "output_type": "execute_result"
    }
   ],
   "source": [
    "# Searching for sunglasses\n",
    "search_sunglasses = driver.find_element(By.CLASS_NAME,\"_3704LK\")\n",
    "search_sunglasses                                "
   ]
  },
  {
   "cell_type": "code",
   "execution_count": 304,
   "id": "18c37fae",
   "metadata": {},
   "outputs": [],
   "source": [
    "search_sunglasses.send_keys(\"sunglasses\")"
   ]
  },
  {
   "cell_type": "code",
   "execution_count": 305,
   "id": "6f5c3fa3",
   "metadata": {},
   "outputs": [
    {
     "data": {
      "text/plain": [
       "<selenium.webdriver.remote.webelement.WebElement (session=\"f894d8b4c6261a77791d813b387b09a4\", element=\"b758adfd-bcfa-42a3-85a4-84043637dedc\")>"
      ]
     },
     "execution_count": 305,
     "metadata": {},
     "output_type": "execute_result"
    }
   ],
   "source": [
    "# Click on search botton\n",
    "search_bton = driver.find_element(By.XPATH,\"/html/body/div[1]/div/div[1]/div[1]/div[2]/div[2]/form/div/button\")\n",
    "search_bton"
   ]
  },
  {
   "cell_type": "code",
   "execution_count": 306,
   "id": "cfba5bc5",
   "metadata": {},
   "outputs": [],
   "source": [
    "search_bton.click()"
   ]
  },
  {
   "cell_type": "markdown",
   "id": "b6cec736",
   "metadata": {},
   "source": [
    "## Extracting Brand Name"
   ]
  },
  {
   "cell_type": "code",
   "execution_count": 307,
   "id": "83d9c91b",
   "metadata": {},
   "outputs": [
    {
     "data": {
      "text/plain": [
       "40"
      ]
     },
     "execution_count": 307,
     "metadata": {},
     "output_type": "execute_result"
    }
   ],
   "source": [
    "brand_name= driver.find_elements(By.XPATH,'//div[@class=\"_2WkVRV\"]')\n",
    "len(brand_name)"
   ]
  },
  {
   "cell_type": "code",
   "execution_count": 308,
   "id": "87b7af87",
   "metadata": {},
   "outputs": [
    {
     "data": {
      "text/plain": [
       "40"
      ]
     },
     "execution_count": 308,
     "metadata": {},
     "output_type": "execute_result"
    }
   ],
   "source": [
    "# Now the text of brand is inside the web elements extracted above\n",
    "# so we will run a for loop to iterate over the tags and will extract\n",
    "Brand = []\n",
    "\n",
    "for i in brand_name:\n",
    "    Brand.append(i.text)\n",
    "len(Brand)"
   ]
  },
  {
   "cell_type": "code",
   "execution_count": 309,
   "id": "2da8bb55",
   "metadata": {},
   "outputs": [
    {
     "data": {
      "text/plain": [
       "['VINCENT CHASE',\n",
       " 'ROZZETTA CRAFT',\n",
       " 'DAHAAZIL',\n",
       " 'Fastrack',\n",
       " 'New Specs',\n",
       " 'PIRASO',\n",
       " 'Fastrack',\n",
       " 'LIZA ANGEL',\n",
       " 'Elligator',\n",
       " 'PIRASO',\n",
       " 'SUNBEE',\n",
       " 'ROYAL SON',\n",
       " 'PIRASO',\n",
       " 'SRPM',\n",
       " 'SUNBEE',\n",
       " 'ROZZETTA CRAFT',\n",
       " 'Lee Topper',\n",
       " 'Fastrack',\n",
       " 'SHAAH COLLECTIONS',\n",
       " 'ROYAL SON',\n",
       " 'Fastrack',\n",
       " 'ROZZETTA CRAFT',\n",
       " 'PIRASO',\n",
       " 'DEIXELS',\n",
       " 'PIRASO',\n",
       " 'Lee Topper',\n",
       " 'Fastrack',\n",
       " 'Arnette',\n",
       " 'PIRASO',\n",
       " 'Sewell',\n",
       " 'CRYSTAL CART',\n",
       " 'ROYAL SON',\n",
       " 'ROZZETTA CRAFT',\n",
       " 'VINCENT CHASE',\n",
       " 'New Specs',\n",
       " 'ROYAL SON',\n",
       " 'Mi',\n",
       " 'Fastrack',\n",
       " 'PIRASO',\n",
       " 'ROYAL SON']"
      ]
     },
     "execution_count": 309,
     "metadata": {},
     "output_type": "execute_result"
    }
   ],
   "source": [
    "Brand "
   ]
  },
  {
   "cell_type": "markdown",
   "id": "7b258a5a",
   "metadata": {},
   "source": [
    "## Extracting Product Discription"
   ]
  },
  {
   "cell_type": "code",
   "execution_count": 317,
   "id": "9e74680b",
   "metadata": {},
   "outputs": [
    {
     "data": {
      "text/plain": [
       "40"
      ]
     },
     "execution_count": 317,
     "metadata": {},
     "output_type": "execute_result"
    }
   ],
   "source": [
    "discrip= driver.find_elements(By.XPATH,'//a[@class=\"IRpwTa\"]')\n",
    "len(discrip)"
   ]
  },
  {
   "cell_type": "code",
   "execution_count": 318,
   "id": "8931efd1",
   "metadata": {},
   "outputs": [
    {
     "data": {
      "text/plain": [
       "40"
      ]
     },
     "execution_count": 318,
     "metadata": {},
     "output_type": "execute_result"
    }
   ],
   "source": [
    "# Now the discription of sunglasses are inside the web elements extracted above\n",
    "# so we will run a for loop to iterate over the tags and will extract\n",
    "Discription = []\n",
    "\n",
    "for i in discrip:\n",
    "    Discription.append(i.text)\n",
    "len(Discription)"
   ]
  },
  {
   "cell_type": "code",
   "execution_count": 319,
   "id": "584581a2",
   "metadata": {},
   "outputs": [
    {
     "data": {
      "text/plain": [
       "['by Lenskart Polarized, UV Protection Cat-eye Sunglasses...',\n",
       " 'UV Protection, Gradient Round Sunglasses (Free Size)',\n",
       " 'UV Protection, Night Vision, Riding Glasses Wayfarer, W...',\n",
       " 'UV Protection Rectangular Sunglasses (Free Size)',\n",
       " 'UV Protection Rectangular Sunglasses (Free Size)',\n",
       " 'UV Protection Aviator Sunglasses (54)',\n",
       " 'UV Protection Wayfarer Sunglasses (Free Size)',\n",
       " 'Riding Glasses, Night Vision Spectacle Sunglasses (Fre...',\n",
       " 'UV Protection Round Sunglasses (54)',\n",
       " 'UV Protection Aviator Sunglasses (58)',\n",
       " 'UV Protection, Polarized, Mirrored Retro Square Sunglas...',\n",
       " 'UV Protection Rectangular Sunglasses (50)',\n",
       " 'UV Protection Aviator Sunglasses (54)',\n",
       " 'UV Protection Wayfarer Sunglasses (50)',\n",
       " 'UV Protection, Polarized Wayfarer Sunglasses (Free Size...',\n",
       " 'UV Protection Spectacle Sunglasses (Free Size)',\n",
       " 'UV Protection Cat-eye Sunglasses (Free Size)',\n",
       " 'UV Protection Aviator Sunglasses (Free Size)',\n",
       " 'UV Protection, Polarized, Mirrored Rectangular Sunglass...',\n",
       " 'Polarized, UV Protection Retro Square Sunglasses (55)',\n",
       " 'Gradient, UV Protection Wayfarer Sunglasses (Free Size)',\n",
       " 'Polarized, Riding Glasses Sports, Wrap-around Sunglasse...',\n",
       " 'UV Protection Wayfarer Sunglasses (32)',\n",
       " 'UV Protection Aviator Sunglasses (Free Size)',\n",
       " 'UV Protection Rectangular Sunglasses (52)',\n",
       " 'Riding Glasses Wrap-around Sunglasses (Free Size)',\n",
       " 'UV Protection Aviator Sunglasses (58)',\n",
       " 'Others Retro Square Sunglasses (55)',\n",
       " 'UV Protection Aviator Sunglasses (54)',\n",
       " 'Mirrored, Night Vision, UV Protection, Riding Glasses S...',\n",
       " 'Mirrored, Night Vision Oval Sunglasses (Free Size)',\n",
       " 'Polarized Retro Square Sunglasses (61)',\n",
       " 'UV Protection Rectangular Sunglasses (Free Size)',\n",
       " 'by Lenskart Polarized, UV Protection Cat-eye Sunglasses...',\n",
       " 'Mirrored, UV Protection, Riding Glasses, Others Round S...',\n",
       " 'Polarized, UV Protection Wrap-around Sunglasses (62)',\n",
       " 'Polarized Aviator Sunglasses (Free Size)',\n",
       " 'UV Protection Shield Sunglasses (Free Size)',\n",
       " 'UV Protection Over-sized Sunglasses (65)',\n",
       " 'Polarized, UV Protection Retro Square Sunglasses (55)']"
      ]
     },
     "execution_count": 319,
     "metadata": {},
     "output_type": "execute_result"
    }
   ],
   "source": [
    "Discription"
   ]
  },
  {
   "cell_type": "markdown",
   "id": "934d71ef",
   "metadata": {},
   "source": [
    "## Extracting Sunglasses Price"
   ]
  },
  {
   "cell_type": "code",
   "execution_count": 320,
   "id": "ff6dc71f",
   "metadata": {},
   "outputs": [
    {
     "data": {
      "text/plain": [
       "40"
      ]
     },
     "execution_count": 320,
     "metadata": {},
     "output_type": "execute_result"
    }
   ],
   "source": [
    "sun_price= driver.find_elements(By.XPATH,'//div[@class=\"_30jeq3\"]')\n",
    "len(sun_price)"
   ]
  },
  {
   "cell_type": "code",
   "execution_count": 321,
   "id": "02dce8e5",
   "metadata": {},
   "outputs": [
    {
     "data": {
      "text/plain": [
       "40"
      ]
     },
     "execution_count": 321,
     "metadata": {},
     "output_type": "execute_result"
    }
   ],
   "source": [
    "Price = []\n",
    "\n",
    "for i in sun_price:\n",
    "    Price.append(i.text)\n",
    "len(Price)"
   ]
  },
  {
   "cell_type": "code",
   "execution_count": 322,
   "id": "2632705e",
   "metadata": {},
   "outputs": [
    {
     "data": {
      "text/plain": [
       "['₹799',\n",
       " '₹399',\n",
       " '₹177',\n",
       " '₹639',\n",
       " '₹264',\n",
       " '₹224',\n",
       " '₹719',\n",
       " '₹179',\n",
       " '₹298',\n",
       " '₹359',\n",
       " '₹246',\n",
       " '₹569',\n",
       " '₹224',\n",
       " '₹211',\n",
       " '₹268',\n",
       " '₹399',\n",
       " '₹229',\n",
       " '₹639',\n",
       " '₹185',\n",
       " '₹616',\n",
       " '₹639',\n",
       " '₹499',\n",
       " '₹226',\n",
       " '₹236',\n",
       " '₹306',\n",
       " '₹299',\n",
       " '₹1,039',\n",
       " '₹3,899',\n",
       " '₹246',\n",
       " '₹265',\n",
       " '₹189',\n",
       " '₹699',\n",
       " '₹319',\n",
       " '₹949',\n",
       " '₹299',\n",
       " '₹759',\n",
       " '₹1,009',\n",
       " '₹719',\n",
       " '₹410',\n",
       " '₹616']"
      ]
     },
     "execution_count": 322,
     "metadata": {},
     "output_type": "execute_result"
    }
   ],
   "source": [
    "Price"
   ]
  },
  {
   "cell_type": "code",
   "execution_count": 323,
   "id": "1945d90b",
   "metadata": {},
   "outputs": [
    {
     "data": {
      "text/plain": [
       "40"
      ]
     },
     "execution_count": 323,
     "metadata": {},
     "output_type": "execute_result"
    }
   ],
   "source": [
    "discount = driver.find_elements(By.XPATH,'//div[@class=\"_3Ay6Sb\"]')\n",
    "len(discount)"
   ]
  },
  {
   "cell_type": "code",
   "execution_count": 324,
   "id": "8997a2be",
   "metadata": {},
   "outputs": [
    {
     "data": {
      "text/plain": [
       "40"
      ]
     },
     "execution_count": 324,
     "metadata": {},
     "output_type": "execute_result"
    }
   ],
   "source": [
    "Discount = []\n",
    "\n",
    "for i in discount:\n",
    "    Discount.append(i.text)\n",
    "len(Discount)"
   ]
  },
  {
   "cell_type": "code",
   "execution_count": 325,
   "id": "1f78e770",
   "metadata": {},
   "outputs": [
    {
     "data": {
      "text/plain": [
       "['60% off',\n",
       " '80% off',\n",
       " '82% off',\n",
       " '20% off',\n",
       " '89% off',\n",
       " '85% off',\n",
       " '28% off',\n",
       " '82% off',\n",
       " '88% off',\n",
       " '86% off',\n",
       " '81% off',\n",
       " '71% off',\n",
       " '85% off',\n",
       " '83% off',\n",
       " '79% off',\n",
       " '80% off',\n",
       " '82% off',\n",
       " '20% off',\n",
       " '89% off',\n",
       " '69% off',\n",
       " '28% off',\n",
       " '75% off',\n",
       " '85% off',\n",
       " '80% off',\n",
       " '88% off',\n",
       " '88% off',\n",
       " '20% off',\n",
       " '49% off',\n",
       " '84% off',\n",
       " '82% off',\n",
       " '68% off',\n",
       " '53% off',\n",
       " '78% off',\n",
       " '52% off',\n",
       " '81% off',\n",
       " '62% off',\n",
       " '15% off',\n",
       " '20% off',\n",
       " '84% off',\n",
       " '69% off']"
      ]
     },
     "execution_count": 325,
     "metadata": {},
     "output_type": "execute_result"
    }
   ],
   "source": [
    "Discount"
   ]
  },
  {
   "cell_type": "markdown",
   "id": "747c41b0",
   "metadata": {},
   "source": [
    "## Extracting Data from next page(41-80)"
   ]
  },
  {
   "cell_type": "code",
   "execution_count": null,
   "id": "82544b01",
   "metadata": {},
   "outputs": [],
   "source": [
    "# For next Page  \n",
    "next_btn=driver.find_element(By.XPATH,\"/html/body/div/div/div[3]/div[1]/div[2]/div[12]/div/div/nav/a[11]\")\n",
    "next_btn"
   ]
  },
  {
   "cell_type": "code",
   "execution_count": 328,
   "id": "842383e8",
   "metadata": {},
   "outputs": [],
   "source": [
    "next_btn.click()"
   ]
  },
  {
   "cell_type": "markdown",
   "id": "104a3a19",
   "metadata": {},
   "source": [
    "## Extracting Brand Name"
   ]
  },
  {
   "cell_type": "code",
   "execution_count": 329,
   "id": "2bec3d62",
   "metadata": {},
   "outputs": [
    {
     "data": {
      "text/plain": [
       "40"
      ]
     },
     "execution_count": 329,
     "metadata": {},
     "output_type": "execute_result"
    }
   ],
   "source": [
    "brand_name= driver.find_elements(By.XPATH,'//div[@class=\"_2WkVRV\"]')\n",
    "len(brand_name)"
   ]
  },
  {
   "cell_type": "code",
   "execution_count": 330,
   "id": "9f8cc93d",
   "metadata": {},
   "outputs": [
    {
     "data": {
      "text/plain": [
       "40"
      ]
     },
     "execution_count": 330,
     "metadata": {},
     "output_type": "execute_result"
    }
   ],
   "source": [
    "# Now the text of brand is inside the web elements extracted above\n",
    "# so we will run a for loop to iterate over the tags and will extract\n",
    "Brand = []\n",
    "\n",
    "for i in brand_name:\n",
    "    Brand.append(i.text)\n",
    "len(Brand)"
   ]
  },
  {
   "cell_type": "code",
   "execution_count": 331,
   "id": "e6e84b49",
   "metadata": {},
   "outputs": [
    {
     "data": {
      "text/plain": [
       "['Mi',\n",
       " 'SUNBEE',\n",
       " 'ROZZETTA CRAFT',\n",
       " 'ROZZETTA CRAFT',\n",
       " 'Elligator',\n",
       " 'Lee Topper',\n",
       " 'PIRASO',\n",
       " 'ROZZETTA CRAFT',\n",
       " 'PHENOMENAL',\n",
       " 'Fastrack',\n",
       " 'VINCENT CHASE',\n",
       " 'ROYAL SON',\n",
       " 'SRPM',\n",
       " 'ROYAL SON',\n",
       " 'kingsunglasses',\n",
       " 'ROYAL SON',\n",
       " 'ROZZETTA CRAFT',\n",
       " 'ROYAL SON',\n",
       " 'kingsunglasses',\n",
       " 'Arnette',\n",
       " 'LIZA ANGEL',\n",
       " 'PIRASO',\n",
       " 'LIZA ANGEL',\n",
       " 'ROYAL SON',\n",
       " 'kingsunglasses',\n",
       " 'kingsunglasses',\n",
       " 'New Specs',\n",
       " 'ROYAL SON',\n",
       " 'DEIXELS',\n",
       " 'Silver Kartz',\n",
       " 'Singco India',\n",
       " 'ROZZETTA CRAFT',\n",
       " 'ROYAL SON',\n",
       " 'Fastrack',\n",
       " 'ROZZETTA CRAFT',\n",
       " 'Singco India',\n",
       " 'CRYSTAL CART',\n",
       " 'kingsunglasses',\n",
       " 'Elligator',\n",
       " 'GANSTA']"
      ]
     },
     "execution_count": 331,
     "metadata": {},
     "output_type": "execute_result"
    }
   ],
   "source": [
    "Brand"
   ]
  },
  {
   "cell_type": "markdown",
   "id": "444ba0da",
   "metadata": {},
   "source": [
    "## Extracting Product Discription"
   ]
  },
  {
   "cell_type": "code",
   "execution_count": 332,
   "id": "1da06035",
   "metadata": {},
   "outputs": [
    {
     "data": {
      "text/plain": [
       "40"
      ]
     },
     "execution_count": 332,
     "metadata": {},
     "output_type": "execute_result"
    }
   ],
   "source": [
    "discrip= driver.find_elements(By.XPATH,'//a[@class=\"IRpwTa\"]')\n",
    "len(discrip)"
   ]
  },
  {
   "cell_type": "code",
   "execution_count": 333,
   "id": "b4914338",
   "metadata": {},
   "outputs": [
    {
     "data": {
      "text/plain": [
       "40"
      ]
     },
     "execution_count": 333,
     "metadata": {},
     "output_type": "execute_result"
    }
   ],
   "source": [
    "# Now the discription of sunglasses are inside the web elements extracted above\n",
    "# so we will run a for loop to iterate over the tags and will extract\n",
    "Discription = []\n",
    "\n",
    "for i in discrip:\n",
    "    Discription.append(i.text)\n",
    "len(Discription)"
   ]
  },
  {
   "cell_type": "code",
   "execution_count": 334,
   "id": "984b3fe9",
   "metadata": {},
   "outputs": [
    {
     "data": {
      "text/plain": [
       "['Polarized Aviator Sunglasses (Free Size)',\n",
       " 'UV Protection, Polarized, Mirrored Wayfarer Sunglasses ...',\n",
       " 'UV Protection, Gradient Retro Square Sunglasses (Free S...',\n",
       " 'UV Protection, Gradient Round Sunglasses (Free Size)',\n",
       " 'UV Protection Round Sunglasses (53)',\n",
       " 'UV Protection Rectangular Sunglasses (Free Size)',\n",
       " 'UV Protection Aviator Sunglasses (55)',\n",
       " 'UV Protection Spectacle Sunglasses (Free Size)',\n",
       " 'UV Protection Retro Square Sunglasses (Free Size)',\n",
       " 'Gradient, UV Protection Wayfarer Sunglasses (Free Size)',\n",
       " 'by Lenskart Polarized, UV Protection Wayfarer Sunglasse...',\n",
       " 'UV Protection Rectangular Sunglasses (50)',\n",
       " 'Others Wayfarer, Retro Square Sunglasses (50)',\n",
       " 'Mirrored Aviator Sunglasses (Free Size)',\n",
       " 'UV Protection Round Sunglasses (54)',\n",
       " 'Polarized, UV Protection Retro Square Sunglasses (55)',\n",
       " 'UV Protection Retro Square Sunglasses (Free Size)',\n",
       " 'Mirrored Aviator Sunglasses (55)',\n",
       " 'UV Protection, Mirrored Aviator Sunglasses (Free Size)',\n",
       " 'Others Retro Square Sunglasses (55)',\n",
       " 'UV Protection, Night Vision, Riding Glasses Round Sungl...',\n",
       " 'UV Protection Aviator Sunglasses (54)',\n",
       " 'Riding Glasses, Night Vision Spectacle Sunglasses (Fre...',\n",
       " 'Polarized Retro Square Sunglasses (61)',\n",
       " 'UV Protection, Riding Glasses, Mirrored Wayfarer Sungla...',\n",
       " 'UV Protection Round Sunglasses (Free Size)',\n",
       " 'UV Protection Round Sunglasses (Free Size)',\n",
       " 'Polarized, UV Protection Wrap-around Sunglasses (62)',\n",
       " 'UV Protection Aviator Sunglasses (Free Size)',\n",
       " 'UV Protection Wayfarer Sunglasses (Free Size)',\n",
       " 'Gradient, Toughened Glass Lens, UV Protection Retro Squ...',\n",
       " 'UV Protection Aviator Sunglasses (62)',\n",
       " 'Polarized, UV Protection Wayfarer Sunglasses (61)',\n",
       " 'Gradient, UV Protection Wayfarer Sunglasses (Free Size)',\n",
       " 'UV Protection, Gradient Rectangular Sunglasses (Free Si...',\n",
       " 'Riding Glasses, UV Protection, Others Aviator Sunglasse...',\n",
       " 'Polarized, UV Protection, Mirrored, Gradient Rectangula...',\n",
       " 'UV Protection, Mirrored Round Sunglasses (Free Size)',\n",
       " 'UV Protection, Riding Glasses Rectangular, Retro Square...',\n",
       " 'UV Protection Aviator Sunglasses (57)']"
      ]
     },
     "execution_count": 334,
     "metadata": {},
     "output_type": "execute_result"
    }
   ],
   "source": [
    "Discription"
   ]
  },
  {
   "cell_type": "markdown",
   "id": "a1b726eb",
   "metadata": {},
   "source": [
    "# Extracting Price"
   ]
  },
  {
   "cell_type": "code",
   "execution_count": 335,
   "id": "df48a08c",
   "metadata": {},
   "outputs": [
    {
     "data": {
      "text/plain": [
       "40"
      ]
     },
     "execution_count": 335,
     "metadata": {},
     "output_type": "execute_result"
    }
   ],
   "source": [
    "sun_price= driver.find_elements(By.XPATH,'//div[@class=\"_30jeq3\"]')\n",
    "len(sun_price)"
   ]
  },
  {
   "cell_type": "code",
   "execution_count": 336,
   "id": "ddd68202",
   "metadata": {},
   "outputs": [
    {
     "data": {
      "text/plain": [
       "40"
      ]
     },
     "execution_count": 336,
     "metadata": {},
     "output_type": "execute_result"
    }
   ],
   "source": [
    "Price = []\n",
    "\n",
    "for i in sun_price:\n",
    "    Price.append(i.text)\n",
    "len(Price)"
   ]
  },
  {
   "cell_type": "code",
   "execution_count": 337,
   "id": "e5a66679",
   "metadata": {},
   "outputs": [
    {
     "data": {
      "text/plain": [
       "['₹1,009',\n",
       " '₹268',\n",
       " '₹349',\n",
       " '₹399',\n",
       " '₹207',\n",
       " '₹219',\n",
       " '₹246',\n",
       " '₹399',\n",
       " '₹369',\n",
       " '₹719',\n",
       " '₹749',\n",
       " '₹569',\n",
       " '₹207',\n",
       " '₹379',\n",
       " '₹214',\n",
       " '₹616',\n",
       " '₹499',\n",
       " '₹379',\n",
       " '₹269',\n",
       " '₹3,899',\n",
       " '₹199',\n",
       " '₹223',\n",
       " '₹179',\n",
       " '₹699',\n",
       " '₹213',\n",
       " '₹329',\n",
       " '₹268',\n",
       " '₹759',\n",
       " '₹236',\n",
       " '₹288',\n",
       " '₹629',\n",
       " '₹649',\n",
       " '₹664',\n",
       " '₹719',\n",
       " '₹399',\n",
       " '₹220',\n",
       " '₹529',\n",
       " '₹265',\n",
       " '₹379',\n",
       " '₹314']"
      ]
     },
     "execution_count": 337,
     "metadata": {},
     "output_type": "execute_result"
    }
   ],
   "source": [
    "Price"
   ]
  },
  {
   "cell_type": "markdown",
   "id": "487ee447",
   "metadata": {},
   "source": [
    "## Extracting Discount"
   ]
  },
  {
   "cell_type": "code",
   "execution_count": 338,
   "id": "03d8fc99",
   "metadata": {},
   "outputs": [
    {
     "data": {
      "text/plain": [
       "40"
      ]
     },
     "execution_count": 338,
     "metadata": {},
     "output_type": "execute_result"
    }
   ],
   "source": [
    "discount = driver.find_elements(By.XPATH,'//div[@class=\"_3Ay6Sb\"]')\n",
    "len(discount)"
   ]
  },
  {
   "cell_type": "code",
   "execution_count": 339,
   "id": "1af9b835",
   "metadata": {},
   "outputs": [
    {
     "data": {
      "text/plain": [
       "40"
      ]
     },
     "execution_count": 339,
     "metadata": {},
     "output_type": "execute_result"
    }
   ],
   "source": [
    "Discount = []\n",
    "\n",
    "for i in discount:\n",
    "    Discount.append(i.text)\n",
    "len(Discount)"
   ]
  },
  {
   "cell_type": "code",
   "execution_count": 340,
   "id": "93d93439",
   "metadata": {},
   "outputs": [
    {
     "data": {
      "text/plain": [
       "['15% off',\n",
       " '79% off',\n",
       " '82% off',\n",
       " '80% off',\n",
       " '79% off',\n",
       " '78% off',\n",
       " '84% off',\n",
       " '80% off',\n",
       " '81% off',\n",
       " '20% off',\n",
       " '70% off',\n",
       " '71% off',\n",
       " '79% off',\n",
       " '74% off',\n",
       " '78% off',\n",
       " '69% off',\n",
       " '77% off',\n",
       " '74% off',\n",
       " '85% off',\n",
       " '49% off',\n",
       " '75% off',\n",
       " '86% off',\n",
       " '82% off',\n",
       " '53% off',\n",
       " '82% off',\n",
       " '79% off',\n",
       " '79% off',\n",
       " '62% off',\n",
       " '80% off',\n",
       " '80% off',\n",
       " '80% off',\n",
       " '74% off',\n",
       " '66% off',\n",
       " '20% off',\n",
       " '80% off',\n",
       " '85% off',\n",
       " '74% off',\n",
       " '84% off',\n",
       " '74% off',\n",
       " '84% off']"
      ]
     },
     "execution_count": 340,
     "metadata": {},
     "output_type": "execute_result"
    }
   ],
   "source": [
    "Discount"
   ]
  },
  {
   "cell_type": "markdown",
   "id": "22ea71cb",
   "metadata": {},
   "source": [
    "## Extracting Next Page(above 80)"
   ]
  },
  {
   "cell_type": "code",
   "execution_count": 341,
   "id": "3297cee8",
   "metadata": {},
   "outputs": [
    {
     "data": {
      "text/plain": [
       "<selenium.webdriver.remote.webelement.WebElement (session=\"f894d8b4c6261a77791d813b387b09a4\", element=\"0afbf532-f5bf-410c-93c7-1af6089e1095\")>"
      ]
     },
     "execution_count": 341,
     "metadata": {},
     "output_type": "execute_result"
    }
   ],
   "source": [
    "# For next Page\n",
    "next_btn=driver.find_element(By.XPATH,\"/html/body/div[1]/div/div[3]/div[1]/div[2]/div[12]/div/div/nav/a[12]\")\n",
    "next_btn"
   ]
  },
  {
   "cell_type": "code",
   "execution_count": 342,
   "id": "2bfd0ef2",
   "metadata": {},
   "outputs": [],
   "source": [
    "next_btn.click()"
   ]
  },
  {
   "cell_type": "markdown",
   "id": "c9c4b8fd",
   "metadata": {},
   "source": [
    "## Extracting Brand Name"
   ]
  },
  {
   "cell_type": "code",
   "execution_count": 343,
   "id": "92b73056",
   "metadata": {},
   "outputs": [
    {
     "data": {
      "text/plain": [
       "40"
      ]
     },
     "execution_count": 343,
     "metadata": {},
     "output_type": "execute_result"
    }
   ],
   "source": [
    "brand_name= driver.find_elements(By.XPATH,'//div[@class=\"_2WkVRV\"]')\n",
    "len(brand_name)"
   ]
  },
  {
   "cell_type": "code",
   "execution_count": 344,
   "id": "9235b71f",
   "metadata": {},
   "outputs": [
    {
     "data": {
      "text/plain": [
       "40"
      ]
     },
     "execution_count": 344,
     "metadata": {},
     "output_type": "execute_result"
    }
   ],
   "source": [
    "# Now the text of brand is inside the web elements extracted above\n",
    "# so we will run a for loop to iterate over the tags and will extract\n",
    "Brand = []\n",
    "\n",
    "for i in brand_name:\n",
    "    Brand.append(i.text)\n",
    "len(Brand)"
   ]
  },
  {
   "cell_type": "code",
   "execution_count": 345,
   "id": "308ab301",
   "metadata": {},
   "outputs": [
    {
     "data": {
      "text/plain": [
       "['Fastrack',\n",
       " 'Singco India',\n",
       " 'Elligator',\n",
       " 'PIRASO',\n",
       " 'AISLIN',\n",
       " 'VINCENT CHASE',\n",
       " 'Fastrack',\n",
       " 'PIRASO',\n",
       " 'kingsunglasses',\n",
       " 'kingsunglasses',\n",
       " 'Rich Club',\n",
       " 'CRYSTAL CART',\n",
       " 'SRPM',\n",
       " 'ROYAL SON',\n",
       " 'LIZA ANGEL',\n",
       " 'CRYSTAL CART',\n",
       " 'VINCENT CHASE',\n",
       " 'Fastrack',\n",
       " 'Fastrack',\n",
       " 'CRYSTAL CART',\n",
       " 'New Specs',\n",
       " 'ROYAL SON',\n",
       " 'Mi',\n",
       " 'ROZZETTA CRAFT',\n",
       " 'ROYAL SON',\n",
       " 'Fastrack',\n",
       " 'Roadster',\n",
       " 'ROYAL SON',\n",
       " 'Fastrack',\n",
       " 'SRPM',\n",
       " 'VINCENT CHASE',\n",
       " 'DEIXELS',\n",
       " 'Mi',\n",
       " 'Fastrack',\n",
       " 'Elligator',\n",
       " 'ROYAL SON',\n",
       " 'Fastrack',\n",
       " 'ROZZETTA CRAFT',\n",
       " 'ROYAL SON',\n",
       " 'ROZZETTA CRAFT']"
      ]
     },
     "execution_count": 345,
     "metadata": {},
     "output_type": "execute_result"
    }
   ],
   "source": [
    "Brand"
   ]
  },
  {
   "cell_type": "markdown",
   "id": "01fcbb35",
   "metadata": {},
   "source": [
    "## Extracting Discription"
   ]
  },
  {
   "cell_type": "code",
   "execution_count": null,
   "id": "abc0c6b9",
   "metadata": {},
   "outputs": [],
   "source": [
    "discrip= driver.find_elements(By.XPATH,'//a[@class=\"IRpwTa\"]') \n",
    "len(discrip)"
   ]
  },
  {
   "cell_type": "code",
   "execution_count": 347,
   "id": "cb0953d9",
   "metadata": {},
   "outputs": [
    {
     "data": {
      "text/plain": [
       "40"
      ]
     },
     "execution_count": 347,
     "metadata": {},
     "output_type": "execute_result"
    }
   ],
   "source": [
    "# Now the discription of sunglasses are inside the web elements extracted above\n",
    "# so we will run a for loop to iterate over the tags and will extract\n",
    "Discription = []\n",
    "\n",
    "for i in discrip:\n",
    "    Discription.append(i.text)\n",
    "len(Discription)"
   ]
  },
  {
   "cell_type": "code",
   "execution_count": 348,
   "id": "de6bcc18",
   "metadata": {},
   "outputs": [
    {
     "data": {
      "text/plain": [
       "['Gradient, UV Protection Wayfarer Sunglasses (Free Size)',\n",
       " 'Gradient, Toughened Glass Lens, UV Protection Retro Squ...',\n",
       " 'UV Protection, Riding Glasses Rectangular, Retro Square...',\n",
       " 'UV Protection Rectangular Sunglasses (52)',\n",
       " 'UV Protection, Gradient Butterfly, Retro Square Sunglas...',\n",
       " 'Polarized, UV Protection Round Sunglasses (51)',\n",
       " 'UV Protection Wayfarer Sunglasses (Free Size)',\n",
       " 'UV Protection Over-sized Sunglasses (64)',\n",
       " 'Mirrored, UV Protection Wayfarer Sunglasses (Free Size)',\n",
       " 'UV Protection Rectangular Sunglasses (55)',\n",
       " 'UV Protection, Others Round Sunglasses (48)',\n",
       " 'Polarized, UV Protection, Gradient, Riding Glasses Rect...',\n",
       " 'UV Protection Wayfarer Sunglasses (53)',\n",
       " 'UV Protection, Gradient Butterfly Sunglasses (62)',\n",
       " 'UV Protection, Riding Glasses, Night Vision Spectacle ...',\n",
       " 'UV Protection, Gradient Round Sunglasses (Free Size)',\n",
       " 'by Lenskart Polarized, UV Protection Rectangular Sungla...',\n",
       " 'UV Protection Wayfarer Sunglasses (Free Size)',\n",
       " 'UV Protection Shield Sunglasses (Free Size)',\n",
       " 'Polarized, Gradient, UV Protection, Mirrored Over-sized...',\n",
       " 'UV Protection Rectangular Sunglasses (Free Size)',\n",
       " 'Mirrored Aviator Sunglasses (58)',\n",
       " 'Polarized Aviator Sunglasses (Free Size)',\n",
       " 'UV Protection Spectacle Sunglasses (Free Size)',\n",
       " 'Mirrored Aviator Sunglasses (55)',\n",
       " 'UV Protection Round Sunglasses (55)',\n",
       " 'UV Protection Oval Sunglasses (58)',\n",
       " 'UV Protection Rectangular Sunglasses (50)',\n",
       " 'UV Protection Wayfarer Sunglasses (Free Size)',\n",
       " 'Night Vision, UV Protection Round Sunglasses (54)',\n",
       " 'by Lenskart Polarized, UV Protection Aviator Sunglasses...',\n",
       " 'UV Protection Aviator Sunglasses (Free Size)',\n",
       " 'Polarized Wayfarer Sunglasses (Free Size)',\n",
       " 'UV Protection Wayfarer Sunglasses (55)',\n",
       " 'UV Protection Retro Square, Round Sunglasses (54)',\n",
       " 'Polarized, UV Protection Retro Square Sunglasses (55)',\n",
       " 'UV Protection Aviator Sunglasses (58)',\n",
       " 'UV Protection, Gradient Round Sunglasses (Free Size)',\n",
       " 'UV Protection, Gradient Wayfarer Sunglasses (55)',\n",
       " 'UV Protection Aviator Sunglasses (62)']"
      ]
     },
     "execution_count": 348,
     "metadata": {},
     "output_type": "execute_result"
    }
   ],
   "source": [
    "Discription"
   ]
  },
  {
   "cell_type": "markdown",
   "id": "cbced412",
   "metadata": {},
   "source": [
    "## Extracting Price"
   ]
  },
  {
   "cell_type": "code",
   "execution_count": 349,
   "id": "83c0f2ca",
   "metadata": {},
   "outputs": [
    {
     "data": {
      "text/plain": [
       "40"
      ]
     },
     "execution_count": 349,
     "metadata": {},
     "output_type": "execute_result"
    }
   ],
   "source": [
    "sun_price= driver.find_elements(By.XPATH,'//div[@class=\"_30jeq3\"]')\n",
    "len(sun_price)"
   ]
  },
  {
   "cell_type": "code",
   "execution_count": 350,
   "id": "f16fe872",
   "metadata": {},
   "outputs": [
    {
     "data": {
      "text/plain": [
       "40"
      ]
     },
     "execution_count": 350,
     "metadata": {},
     "output_type": "execute_result"
    }
   ],
   "source": [
    "Price = []\n",
    "\n",
    "for i in sun_price:\n",
    "    Price.append(i.text)\n",
    "len(Price)"
   ]
  },
  {
   "cell_type": "code",
   "execution_count": 351,
   "id": "47d29efe",
   "metadata": {},
   "outputs": [
    {
     "data": {
      "text/plain": [
       "['₹719',\n",
       " '₹567',\n",
       " '₹379',\n",
       " '₹306',\n",
       " '₹470',\n",
       " '₹1,099',\n",
       " '₹849',\n",
       " '₹439',\n",
       " '₹269',\n",
       " '₹189',\n",
       " '₹260',\n",
       " '₹329',\n",
       " '₹235',\n",
       " '₹699',\n",
       " '₹169',\n",
       " '₹429',\n",
       " '₹749',\n",
       " '₹719',\n",
       " '₹809',\n",
       " '₹249',\n",
       " '₹189',\n",
       " '₹379',\n",
       " '₹949',\n",
       " '₹399',\n",
       " '₹379',\n",
       " '₹979',\n",
       " '₹649',\n",
       " '₹569',\n",
       " '₹639',\n",
       " '₹233',\n",
       " '₹949',\n",
       " '₹236',\n",
       " '₹849',\n",
       " '₹721',\n",
       " '₹329',\n",
       " '₹616',\n",
       " '₹1,169',\n",
       " '₹399',\n",
       " '₹217',\n",
       " '₹649']"
      ]
     },
     "execution_count": 351,
     "metadata": {},
     "output_type": "execute_result"
    }
   ],
   "source": [
    "Price"
   ]
  },
  {
   "cell_type": "markdown",
   "id": "c7489705",
   "metadata": {},
   "source": [
    "## Extracting Discount"
   ]
  },
  {
   "cell_type": "code",
   "execution_count": 352,
   "id": "ddc64d2c",
   "metadata": {},
   "outputs": [
    {
     "data": {
      "text/plain": [
       "40"
      ]
     },
     "execution_count": 352,
     "metadata": {},
     "output_type": "execute_result"
    }
   ],
   "source": [
    "discount = driver.find_elements(By.XPATH,'//div[@class=\"_3Ay6Sb\"]')\n",
    "len(discount)"
   ]
  },
  {
   "cell_type": "code",
   "execution_count": 353,
   "id": "467c535b",
   "metadata": {},
   "outputs": [
    {
     "data": {
      "text/plain": [
       "40"
      ]
     },
     "execution_count": 353,
     "metadata": {},
     "output_type": "execute_result"
    }
   ],
   "source": [
    "Discount = []\n",
    "\n",
    "for i in discount:\n",
    "    Discount.append(i.text)\n",
    "len(Discount)"
   ]
  },
  {
   "cell_type": "code",
   "execution_count": 354,
   "id": "0d07f308",
   "metadata": {},
   "outputs": [
    {
     "data": {
      "text/plain": [
       "['20% off',\n",
       " '81% off',\n",
       " '74% off',\n",
       " '88% off',\n",
       " '69% off',\n",
       " '45% off',\n",
       " '15% off',\n",
       " '83% off',\n",
       " '82% off',\n",
       " '85% off',\n",
       " '67% off',\n",
       " '78% off',\n",
       " '76% off',\n",
       " '65% off',\n",
       " '66% off',\n",
       " '78% off',\n",
       " '62% off',\n",
       " '20% off',\n",
       " '10% off',\n",
       " '87% off',\n",
       " '88% off',\n",
       " '74% off',\n",
       " '20% off',\n",
       " '80% off',\n",
       " '74% off',\n",
       " '2% off',\n",
       " '35% off',\n",
       " '71% off',\n",
       " '20% off',\n",
       " '76% off',\n",
       " '52% off',\n",
       " '80% off',\n",
       " '15% off',\n",
       " '9% off',\n",
       " '83% off',\n",
       " '69% off',\n",
       " '10% off',\n",
       " '80% off',\n",
       " '78% off',\n",
       " '74% off']"
      ]
     },
     "execution_count": 354,
     "metadata": {},
     "output_type": "execute_result"
    }
   ],
   "source": [
    "Discount"
   ]
  },
  {
   "cell_type": "code",
   "execution_count": 355,
   "id": "75ee39c7",
   "metadata": {},
   "outputs": [
    {
     "data": {
      "text/plain": [
       "(40, 40, 40, 40)"
      ]
     },
     "execution_count": 355,
     "metadata": {},
     "output_type": "execute_result"
    }
   ],
   "source": [
    "len(Brand), len(Discription), len(Price), len(Discount)"
   ]
  },
  {
   "cell_type": "code",
   "execution_count": 356,
   "id": "bb563e47",
   "metadata": {},
   "outputs": [
    {
     "data": {
      "text/html": [
       "<div>\n",
       "<style scoped>\n",
       "    .dataframe tbody tr th:only-of-type {\n",
       "        vertical-align: middle;\n",
       "    }\n",
       "\n",
       "    .dataframe tbody tr th {\n",
       "        vertical-align: top;\n",
       "    }\n",
       "\n",
       "    .dataframe thead th {\n",
       "        text-align: right;\n",
       "    }\n",
       "</style>\n",
       "<table border=\"1\" class=\"dataframe\">\n",
       "  <thead>\n",
       "    <tr style=\"text-align: right;\">\n",
       "      <th></th>\n",
       "      <th>BRAND</th>\n",
       "      <th>DISCRIPTION</th>\n",
       "      <th>PRICE</th>\n",
       "      <th>DISCOUNT</th>\n",
       "    </tr>\n",
       "  </thead>\n",
       "  <tbody>\n",
       "    <tr>\n",
       "      <th>0</th>\n",
       "      <td>Fastrack</td>\n",
       "      <td>Gradient, UV Protection Wayfarer Sunglasses (F...</td>\n",
       "      <td>₹719</td>\n",
       "      <td>20% off</td>\n",
       "    </tr>\n",
       "    <tr>\n",
       "      <th>1</th>\n",
       "      <td>Singco India</td>\n",
       "      <td>Gradient, Toughened Glass Lens, UV Protection ...</td>\n",
       "      <td>₹567</td>\n",
       "      <td>81% off</td>\n",
       "    </tr>\n",
       "    <tr>\n",
       "      <th>2</th>\n",
       "      <td>Elligator</td>\n",
       "      <td>UV Protection, Riding Glasses Rectangular, Ret...</td>\n",
       "      <td>₹379</td>\n",
       "      <td>74% off</td>\n",
       "    </tr>\n",
       "    <tr>\n",
       "      <th>3</th>\n",
       "      <td>PIRASO</td>\n",
       "      <td>UV Protection Rectangular Sunglasses (52)</td>\n",
       "      <td>₹306</td>\n",
       "      <td>88% off</td>\n",
       "    </tr>\n",
       "    <tr>\n",
       "      <th>4</th>\n",
       "      <td>AISLIN</td>\n",
       "      <td>UV Protection, Gradient Butterfly, Retro Squar...</td>\n",
       "      <td>₹470</td>\n",
       "      <td>69% off</td>\n",
       "    </tr>\n",
       "    <tr>\n",
       "      <th>5</th>\n",
       "      <td>VINCENT CHASE</td>\n",
       "      <td>Polarized, UV Protection Round Sunglasses (51)</td>\n",
       "      <td>₹1,099</td>\n",
       "      <td>45% off</td>\n",
       "    </tr>\n",
       "    <tr>\n",
       "      <th>6</th>\n",
       "      <td>Fastrack</td>\n",
       "      <td>UV Protection Wayfarer Sunglasses (Free Size)</td>\n",
       "      <td>₹849</td>\n",
       "      <td>15% off</td>\n",
       "    </tr>\n",
       "    <tr>\n",
       "      <th>7</th>\n",
       "      <td>PIRASO</td>\n",
       "      <td>UV Protection Over-sized Sunglasses (64)</td>\n",
       "      <td>₹439</td>\n",
       "      <td>83% off</td>\n",
       "    </tr>\n",
       "    <tr>\n",
       "      <th>8</th>\n",
       "      <td>kingsunglasses</td>\n",
       "      <td>Mirrored, UV Protection Wayfarer Sunglasses (F...</td>\n",
       "      <td>₹269</td>\n",
       "      <td>82% off</td>\n",
       "    </tr>\n",
       "    <tr>\n",
       "      <th>9</th>\n",
       "      <td>kingsunglasses</td>\n",
       "      <td>UV Protection Rectangular Sunglasses (55)</td>\n",
       "      <td>₹189</td>\n",
       "      <td>85% off</td>\n",
       "    </tr>\n",
       "    <tr>\n",
       "      <th>10</th>\n",
       "      <td>Rich Club</td>\n",
       "      <td>UV Protection, Others Round Sunglasses (48)</td>\n",
       "      <td>₹260</td>\n",
       "      <td>67% off</td>\n",
       "    </tr>\n",
       "    <tr>\n",
       "      <th>11</th>\n",
       "      <td>CRYSTAL CART</td>\n",
       "      <td>Polarized, UV Protection, Gradient, Riding Gla...</td>\n",
       "      <td>₹329</td>\n",
       "      <td>78% off</td>\n",
       "    </tr>\n",
       "    <tr>\n",
       "      <th>12</th>\n",
       "      <td>SRPM</td>\n",
       "      <td>UV Protection Wayfarer Sunglasses (53)</td>\n",
       "      <td>₹235</td>\n",
       "      <td>76% off</td>\n",
       "    </tr>\n",
       "    <tr>\n",
       "      <th>13</th>\n",
       "      <td>ROYAL SON</td>\n",
       "      <td>UV Protection, Gradient Butterfly Sunglasses (62)</td>\n",
       "      <td>₹699</td>\n",
       "      <td>65% off</td>\n",
       "    </tr>\n",
       "    <tr>\n",
       "      <th>14</th>\n",
       "      <td>LIZA ANGEL</td>\n",
       "      <td>UV Protection, Riding Glasses, Night Vision Sp...</td>\n",
       "      <td>₹169</td>\n",
       "      <td>66% off</td>\n",
       "    </tr>\n",
       "    <tr>\n",
       "      <th>15</th>\n",
       "      <td>CRYSTAL CART</td>\n",
       "      <td>UV Protection, Gradient Round Sunglasses (Free...</td>\n",
       "      <td>₹429</td>\n",
       "      <td>78% off</td>\n",
       "    </tr>\n",
       "    <tr>\n",
       "      <th>16</th>\n",
       "      <td>VINCENT CHASE</td>\n",
       "      <td>by Lenskart Polarized, UV Protection Rectangul...</td>\n",
       "      <td>₹749</td>\n",
       "      <td>62% off</td>\n",
       "    </tr>\n",
       "    <tr>\n",
       "      <th>17</th>\n",
       "      <td>Fastrack</td>\n",
       "      <td>UV Protection Wayfarer Sunglasses (Free Size)</td>\n",
       "      <td>₹719</td>\n",
       "      <td>20% off</td>\n",
       "    </tr>\n",
       "    <tr>\n",
       "      <th>18</th>\n",
       "      <td>Fastrack</td>\n",
       "      <td>UV Protection Shield Sunglasses (Free Size)</td>\n",
       "      <td>₹809</td>\n",
       "      <td>10% off</td>\n",
       "    </tr>\n",
       "    <tr>\n",
       "      <th>19</th>\n",
       "      <td>CRYSTAL CART</td>\n",
       "      <td>Polarized, Gradient, UV Protection, Mirrored O...</td>\n",
       "      <td>₹249</td>\n",
       "      <td>87% off</td>\n",
       "    </tr>\n",
       "    <tr>\n",
       "      <th>20</th>\n",
       "      <td>New Specs</td>\n",
       "      <td>UV Protection Rectangular Sunglasses (Free Size)</td>\n",
       "      <td>₹189</td>\n",
       "      <td>88% off</td>\n",
       "    </tr>\n",
       "    <tr>\n",
       "      <th>21</th>\n",
       "      <td>ROYAL SON</td>\n",
       "      <td>Mirrored Aviator Sunglasses (58)</td>\n",
       "      <td>₹379</td>\n",
       "      <td>74% off</td>\n",
       "    </tr>\n",
       "    <tr>\n",
       "      <th>22</th>\n",
       "      <td>Mi</td>\n",
       "      <td>Polarized Aviator Sunglasses (Free Size)</td>\n",
       "      <td>₹949</td>\n",
       "      <td>20% off</td>\n",
       "    </tr>\n",
       "    <tr>\n",
       "      <th>23</th>\n",
       "      <td>ROZZETTA CRAFT</td>\n",
       "      <td>UV Protection Spectacle Sunglasses (Free Size)</td>\n",
       "      <td>₹399</td>\n",
       "      <td>80% off</td>\n",
       "    </tr>\n",
       "    <tr>\n",
       "      <th>24</th>\n",
       "      <td>ROYAL SON</td>\n",
       "      <td>Mirrored Aviator Sunglasses (55)</td>\n",
       "      <td>₹379</td>\n",
       "      <td>74% off</td>\n",
       "    </tr>\n",
       "    <tr>\n",
       "      <th>25</th>\n",
       "      <td>Fastrack</td>\n",
       "      <td>UV Protection Round Sunglasses (55)</td>\n",
       "      <td>₹979</td>\n",
       "      <td>2% off</td>\n",
       "    </tr>\n",
       "    <tr>\n",
       "      <th>26</th>\n",
       "      <td>Roadster</td>\n",
       "      <td>UV Protection Oval Sunglasses (58)</td>\n",
       "      <td>₹649</td>\n",
       "      <td>35% off</td>\n",
       "    </tr>\n",
       "    <tr>\n",
       "      <th>27</th>\n",
       "      <td>ROYAL SON</td>\n",
       "      <td>UV Protection Rectangular Sunglasses (50)</td>\n",
       "      <td>₹569</td>\n",
       "      <td>71% off</td>\n",
       "    </tr>\n",
       "    <tr>\n",
       "      <th>28</th>\n",
       "      <td>Fastrack</td>\n",
       "      <td>UV Protection Wayfarer Sunglasses (Free Size)</td>\n",
       "      <td>₹639</td>\n",
       "      <td>20% off</td>\n",
       "    </tr>\n",
       "    <tr>\n",
       "      <th>29</th>\n",
       "      <td>SRPM</td>\n",
       "      <td>Night Vision, UV Protection Round Sunglasses (54)</td>\n",
       "      <td>₹233</td>\n",
       "      <td>76% off</td>\n",
       "    </tr>\n",
       "    <tr>\n",
       "      <th>30</th>\n",
       "      <td>VINCENT CHASE</td>\n",
       "      <td>by Lenskart Polarized, UV Protection Aviator S...</td>\n",
       "      <td>₹949</td>\n",
       "      <td>52% off</td>\n",
       "    </tr>\n",
       "    <tr>\n",
       "      <th>31</th>\n",
       "      <td>DEIXELS</td>\n",
       "      <td>UV Protection Aviator Sunglasses (Free Size)</td>\n",
       "      <td>₹236</td>\n",
       "      <td>80% off</td>\n",
       "    </tr>\n",
       "    <tr>\n",
       "      <th>32</th>\n",
       "      <td>Mi</td>\n",
       "      <td>Polarized Wayfarer Sunglasses (Free Size)</td>\n",
       "      <td>₹849</td>\n",
       "      <td>15% off</td>\n",
       "    </tr>\n",
       "    <tr>\n",
       "      <th>33</th>\n",
       "      <td>Fastrack</td>\n",
       "      <td>UV Protection Wayfarer Sunglasses (55)</td>\n",
       "      <td>₹721</td>\n",
       "      <td>9% off</td>\n",
       "    </tr>\n",
       "    <tr>\n",
       "      <th>34</th>\n",
       "      <td>Elligator</td>\n",
       "      <td>UV Protection Retro Square, Round Sunglasses (54)</td>\n",
       "      <td>₹329</td>\n",
       "      <td>83% off</td>\n",
       "    </tr>\n",
       "    <tr>\n",
       "      <th>35</th>\n",
       "      <td>ROYAL SON</td>\n",
       "      <td>Polarized, UV Protection Retro Square Sunglass...</td>\n",
       "      <td>₹616</td>\n",
       "      <td>69% off</td>\n",
       "    </tr>\n",
       "    <tr>\n",
       "      <th>36</th>\n",
       "      <td>Fastrack</td>\n",
       "      <td>UV Protection Aviator Sunglasses (58)</td>\n",
       "      <td>₹1,169</td>\n",
       "      <td>10% off</td>\n",
       "    </tr>\n",
       "    <tr>\n",
       "      <th>37</th>\n",
       "      <td>ROZZETTA CRAFT</td>\n",
       "      <td>UV Protection, Gradient Round Sunglasses (Free...</td>\n",
       "      <td>₹399</td>\n",
       "      <td>80% off</td>\n",
       "    </tr>\n",
       "    <tr>\n",
       "      <th>38</th>\n",
       "      <td>ROYAL SON</td>\n",
       "      <td>UV Protection, Gradient Wayfarer Sunglasses (55)</td>\n",
       "      <td>₹217</td>\n",
       "      <td>78% off</td>\n",
       "    </tr>\n",
       "    <tr>\n",
       "      <th>39</th>\n",
       "      <td>ROZZETTA CRAFT</td>\n",
       "      <td>UV Protection Aviator Sunglasses (62)</td>\n",
       "      <td>₹649</td>\n",
       "      <td>74% off</td>\n",
       "    </tr>\n",
       "  </tbody>\n",
       "</table>\n",
       "</div>"
      ],
      "text/plain": [
       "             BRAND                                        DISCRIPTION   PRICE  \\\n",
       "0         Fastrack  Gradient, UV Protection Wayfarer Sunglasses (F...    ₹719   \n",
       "1     Singco India  Gradient, Toughened Glass Lens, UV Protection ...    ₹567   \n",
       "2        Elligator  UV Protection, Riding Glasses Rectangular, Ret...    ₹379   \n",
       "3           PIRASO          UV Protection Rectangular Sunglasses (52)    ₹306   \n",
       "4           AISLIN  UV Protection, Gradient Butterfly, Retro Squar...    ₹470   \n",
       "5    VINCENT CHASE     Polarized, UV Protection Round Sunglasses (51)  ₹1,099   \n",
       "6         Fastrack      UV Protection Wayfarer Sunglasses (Free Size)    ₹849   \n",
       "7           PIRASO           UV Protection Over-sized Sunglasses (64)    ₹439   \n",
       "8   kingsunglasses  Mirrored, UV Protection Wayfarer Sunglasses (F...    ₹269   \n",
       "9   kingsunglasses          UV Protection Rectangular Sunglasses (55)    ₹189   \n",
       "10       Rich Club        UV Protection, Others Round Sunglasses (48)    ₹260   \n",
       "11    CRYSTAL CART  Polarized, UV Protection, Gradient, Riding Gla...    ₹329   \n",
       "12            SRPM             UV Protection Wayfarer Sunglasses (53)    ₹235   \n",
       "13       ROYAL SON  UV Protection, Gradient Butterfly Sunglasses (62)    ₹699   \n",
       "14      LIZA ANGEL  UV Protection, Riding Glasses, Night Vision Sp...    ₹169   \n",
       "15    CRYSTAL CART  UV Protection, Gradient Round Sunglasses (Free...    ₹429   \n",
       "16   VINCENT CHASE  by Lenskart Polarized, UV Protection Rectangul...    ₹749   \n",
       "17        Fastrack      UV Protection Wayfarer Sunglasses (Free Size)    ₹719   \n",
       "18        Fastrack        UV Protection Shield Sunglasses (Free Size)    ₹809   \n",
       "19    CRYSTAL CART  Polarized, Gradient, UV Protection, Mirrored O...    ₹249   \n",
       "20       New Specs   UV Protection Rectangular Sunglasses (Free Size)    ₹189   \n",
       "21       ROYAL SON                   Mirrored Aviator Sunglasses (58)    ₹379   \n",
       "22              Mi           Polarized Aviator Sunglasses (Free Size)    ₹949   \n",
       "23  ROZZETTA CRAFT     UV Protection Spectacle Sunglasses (Free Size)    ₹399   \n",
       "24       ROYAL SON                   Mirrored Aviator Sunglasses (55)    ₹379   \n",
       "25        Fastrack                UV Protection Round Sunglasses (55)    ₹979   \n",
       "26        Roadster                 UV Protection Oval Sunglasses (58)    ₹649   \n",
       "27       ROYAL SON          UV Protection Rectangular Sunglasses (50)    ₹569   \n",
       "28        Fastrack      UV Protection Wayfarer Sunglasses (Free Size)    ₹639   \n",
       "29            SRPM  Night Vision, UV Protection Round Sunglasses (54)    ₹233   \n",
       "30   VINCENT CHASE  by Lenskart Polarized, UV Protection Aviator S...    ₹949   \n",
       "31         DEIXELS       UV Protection Aviator Sunglasses (Free Size)    ₹236   \n",
       "32              Mi          Polarized Wayfarer Sunglasses (Free Size)    ₹849   \n",
       "33        Fastrack             UV Protection Wayfarer Sunglasses (55)    ₹721   \n",
       "34       Elligator  UV Protection Retro Square, Round Sunglasses (54)    ₹329   \n",
       "35       ROYAL SON  Polarized, UV Protection Retro Square Sunglass...    ₹616   \n",
       "36        Fastrack              UV Protection Aviator Sunglasses (58)  ₹1,169   \n",
       "37  ROZZETTA CRAFT  UV Protection, Gradient Round Sunglasses (Free...    ₹399   \n",
       "38       ROYAL SON   UV Protection, Gradient Wayfarer Sunglasses (55)    ₹217   \n",
       "39  ROZZETTA CRAFT              UV Protection Aviator Sunglasses (62)    ₹649   \n",
       "\n",
       "   DISCOUNT  \n",
       "0   20% off  \n",
       "1   81% off  \n",
       "2   74% off  \n",
       "3   88% off  \n",
       "4   69% off  \n",
       "5   45% off  \n",
       "6   15% off  \n",
       "7   83% off  \n",
       "8   82% off  \n",
       "9   85% off  \n",
       "10  67% off  \n",
       "11  78% off  \n",
       "12  76% off  \n",
       "13  65% off  \n",
       "14  66% off  \n",
       "15  78% off  \n",
       "16  62% off  \n",
       "17  20% off  \n",
       "18  10% off  \n",
       "19  87% off  \n",
       "20  88% off  \n",
       "21  74% off  \n",
       "22  20% off  \n",
       "23  80% off  \n",
       "24  74% off  \n",
       "25   2% off  \n",
       "26  35% off  \n",
       "27  71% off  \n",
       "28  20% off  \n",
       "29  76% off  \n",
       "30  52% off  \n",
       "31  80% off  \n",
       "32  15% off  \n",
       "33   9% off  \n",
       "34  83% off  \n",
       "35  69% off  \n",
       "36  10% off  \n",
       "37  80% off  \n",
       "38  78% off  \n",
       "39  74% off  "
      ]
     },
     "execution_count": 356,
     "metadata": {},
     "output_type": "execute_result"
    }
   ],
   "source": [
    "# Create Data Frame\n",
    "Sunglasses = pd.DataFrame()\n",
    "Sunglasses['BRAND'] = Brand\n",
    "Sunglasses['DISCRIPTION'] = Discription\n",
    "Sunglasses['PRICE'] = Price\n",
    "Sunglasses['DISCOUNT'] = Discount\n",
    "Sunglasses"
   ]
  },
  {
   "cell_type": "code",
   "execution_count": 357,
   "id": "94c71296",
   "metadata": {},
   "outputs": [
    {
     "data": {
      "text/html": [
       "<div>\n",
       "<style scoped>\n",
       "    .dataframe tbody tr th:only-of-type {\n",
       "        vertical-align: middle;\n",
       "    }\n",
       "\n",
       "    .dataframe tbody tr th {\n",
       "        vertical-align: top;\n",
       "    }\n",
       "\n",
       "    .dataframe thead th {\n",
       "        text-align: right;\n",
       "    }\n",
       "</style>\n",
       "<table border=\"1\" class=\"dataframe\">\n",
       "  <thead>\n",
       "    <tr style=\"text-align: right;\">\n",
       "      <th></th>\n",
       "      <th>BRAND</th>\n",
       "      <th>DISCRIPTION</th>\n",
       "      <th>PRICE</th>\n",
       "      <th>DISCOUNT</th>\n",
       "    </tr>\n",
       "  </thead>\n",
       "  <tbody>\n",
       "    <tr>\n",
       "      <th>0</th>\n",
       "      <td>Fastrack</td>\n",
       "      <td>Gradient, UV Protection Wayfarer Sunglasses (F...</td>\n",
       "      <td>₹719</td>\n",
       "      <td>20% off</td>\n",
       "    </tr>\n",
       "    <tr>\n",
       "      <th>1</th>\n",
       "      <td>Singco India</td>\n",
       "      <td>Gradient, Toughened Glass Lens, UV Protection ...</td>\n",
       "      <td>₹567</td>\n",
       "      <td>81% off</td>\n",
       "    </tr>\n",
       "    <tr>\n",
       "      <th>2</th>\n",
       "      <td>Elligator</td>\n",
       "      <td>UV Protection, Riding Glasses Rectangular, Ret...</td>\n",
       "      <td>₹379</td>\n",
       "      <td>74% off</td>\n",
       "    </tr>\n",
       "    <tr>\n",
       "      <th>3</th>\n",
       "      <td>PIRASO</td>\n",
       "      <td>UV Protection Rectangular Sunglasses (52)</td>\n",
       "      <td>₹306</td>\n",
       "      <td>88% off</td>\n",
       "    </tr>\n",
       "    <tr>\n",
       "      <th>4</th>\n",
       "      <td>AISLIN</td>\n",
       "      <td>UV Protection, Gradient Butterfly, Retro Squar...</td>\n",
       "      <td>₹470</td>\n",
       "      <td>69% off</td>\n",
       "    </tr>\n",
       "    <tr>\n",
       "      <th>5</th>\n",
       "      <td>VINCENT CHASE</td>\n",
       "      <td>Polarized, UV Protection Round Sunglasses (51)</td>\n",
       "      <td>₹1,099</td>\n",
       "      <td>45% off</td>\n",
       "    </tr>\n",
       "    <tr>\n",
       "      <th>6</th>\n",
       "      <td>Fastrack</td>\n",
       "      <td>UV Protection Wayfarer Sunglasses (Free Size)</td>\n",
       "      <td>₹849</td>\n",
       "      <td>15% off</td>\n",
       "    </tr>\n",
       "    <tr>\n",
       "      <th>7</th>\n",
       "      <td>PIRASO</td>\n",
       "      <td>UV Protection Over-sized Sunglasses (64)</td>\n",
       "      <td>₹439</td>\n",
       "      <td>83% off</td>\n",
       "    </tr>\n",
       "    <tr>\n",
       "      <th>8</th>\n",
       "      <td>kingsunglasses</td>\n",
       "      <td>Mirrored, UV Protection Wayfarer Sunglasses (F...</td>\n",
       "      <td>₹269</td>\n",
       "      <td>82% off</td>\n",
       "    </tr>\n",
       "    <tr>\n",
       "      <th>9</th>\n",
       "      <td>kingsunglasses</td>\n",
       "      <td>UV Protection Rectangular Sunglasses (55)</td>\n",
       "      <td>₹189</td>\n",
       "      <td>85% off</td>\n",
       "    </tr>\n",
       "    <tr>\n",
       "      <th>10</th>\n",
       "      <td>Rich Club</td>\n",
       "      <td>UV Protection, Others Round Sunglasses (48)</td>\n",
       "      <td>₹260</td>\n",
       "      <td>67% off</td>\n",
       "    </tr>\n",
       "    <tr>\n",
       "      <th>11</th>\n",
       "      <td>CRYSTAL CART</td>\n",
       "      <td>Polarized, UV Protection, Gradient, Riding Gla...</td>\n",
       "      <td>₹329</td>\n",
       "      <td>78% off</td>\n",
       "    </tr>\n",
       "    <tr>\n",
       "      <th>12</th>\n",
       "      <td>SRPM</td>\n",
       "      <td>UV Protection Wayfarer Sunglasses (53)</td>\n",
       "      <td>₹235</td>\n",
       "      <td>76% off</td>\n",
       "    </tr>\n",
       "    <tr>\n",
       "      <th>13</th>\n",
       "      <td>ROYAL SON</td>\n",
       "      <td>UV Protection, Gradient Butterfly Sunglasses (62)</td>\n",
       "      <td>₹699</td>\n",
       "      <td>65% off</td>\n",
       "    </tr>\n",
       "    <tr>\n",
       "      <th>14</th>\n",
       "      <td>LIZA ANGEL</td>\n",
       "      <td>UV Protection, Riding Glasses, Night Vision Sp...</td>\n",
       "      <td>₹169</td>\n",
       "      <td>66% off</td>\n",
       "    </tr>\n",
       "    <tr>\n",
       "      <th>15</th>\n",
       "      <td>CRYSTAL CART</td>\n",
       "      <td>UV Protection, Gradient Round Sunglasses (Free...</td>\n",
       "      <td>₹429</td>\n",
       "      <td>78% off</td>\n",
       "    </tr>\n",
       "    <tr>\n",
       "      <th>16</th>\n",
       "      <td>VINCENT CHASE</td>\n",
       "      <td>by Lenskart Polarized, UV Protection Rectangul...</td>\n",
       "      <td>₹749</td>\n",
       "      <td>62% off</td>\n",
       "    </tr>\n",
       "    <tr>\n",
       "      <th>17</th>\n",
       "      <td>Fastrack</td>\n",
       "      <td>UV Protection Wayfarer Sunglasses (Free Size)</td>\n",
       "      <td>₹719</td>\n",
       "      <td>20% off</td>\n",
       "    </tr>\n",
       "    <tr>\n",
       "      <th>18</th>\n",
       "      <td>Fastrack</td>\n",
       "      <td>UV Protection Shield Sunglasses (Free Size)</td>\n",
       "      <td>₹809</td>\n",
       "      <td>10% off</td>\n",
       "    </tr>\n",
       "    <tr>\n",
       "      <th>19</th>\n",
       "      <td>CRYSTAL CART</td>\n",
       "      <td>Polarized, Gradient, UV Protection, Mirrored O...</td>\n",
       "      <td>₹249</td>\n",
       "      <td>87% off</td>\n",
       "    </tr>\n",
       "    <tr>\n",
       "      <th>20</th>\n",
       "      <td>New Specs</td>\n",
       "      <td>UV Protection Rectangular Sunglasses (Free Size)</td>\n",
       "      <td>₹189</td>\n",
       "      <td>88% off</td>\n",
       "    </tr>\n",
       "    <tr>\n",
       "      <th>21</th>\n",
       "      <td>ROYAL SON</td>\n",
       "      <td>Mirrored Aviator Sunglasses (58)</td>\n",
       "      <td>₹379</td>\n",
       "      <td>74% off</td>\n",
       "    </tr>\n",
       "    <tr>\n",
       "      <th>22</th>\n",
       "      <td>Mi</td>\n",
       "      <td>Polarized Aviator Sunglasses (Free Size)</td>\n",
       "      <td>₹949</td>\n",
       "      <td>20% off</td>\n",
       "    </tr>\n",
       "    <tr>\n",
       "      <th>23</th>\n",
       "      <td>ROZZETTA CRAFT</td>\n",
       "      <td>UV Protection Spectacle Sunglasses (Free Size)</td>\n",
       "      <td>₹399</td>\n",
       "      <td>80% off</td>\n",
       "    </tr>\n",
       "    <tr>\n",
       "      <th>24</th>\n",
       "      <td>ROYAL SON</td>\n",
       "      <td>Mirrored Aviator Sunglasses (55)</td>\n",
       "      <td>₹379</td>\n",
       "      <td>74% off</td>\n",
       "    </tr>\n",
       "    <tr>\n",
       "      <th>25</th>\n",
       "      <td>Fastrack</td>\n",
       "      <td>UV Protection Round Sunglasses (55)</td>\n",
       "      <td>₹979</td>\n",
       "      <td>2% off</td>\n",
       "    </tr>\n",
       "    <tr>\n",
       "      <th>26</th>\n",
       "      <td>Roadster</td>\n",
       "      <td>UV Protection Oval Sunglasses (58)</td>\n",
       "      <td>₹649</td>\n",
       "      <td>35% off</td>\n",
       "    </tr>\n",
       "    <tr>\n",
       "      <th>27</th>\n",
       "      <td>ROYAL SON</td>\n",
       "      <td>UV Protection Rectangular Sunglasses (50)</td>\n",
       "      <td>₹569</td>\n",
       "      <td>71% off</td>\n",
       "    </tr>\n",
       "    <tr>\n",
       "      <th>28</th>\n",
       "      <td>Fastrack</td>\n",
       "      <td>UV Protection Wayfarer Sunglasses (Free Size)</td>\n",
       "      <td>₹639</td>\n",
       "      <td>20% off</td>\n",
       "    </tr>\n",
       "    <tr>\n",
       "      <th>29</th>\n",
       "      <td>SRPM</td>\n",
       "      <td>Night Vision, UV Protection Round Sunglasses (54)</td>\n",
       "      <td>₹233</td>\n",
       "      <td>76% off</td>\n",
       "    </tr>\n",
       "    <tr>\n",
       "      <th>30</th>\n",
       "      <td>VINCENT CHASE</td>\n",
       "      <td>by Lenskart Polarized, UV Protection Aviator S...</td>\n",
       "      <td>₹949</td>\n",
       "      <td>52% off</td>\n",
       "    </tr>\n",
       "    <tr>\n",
       "      <th>31</th>\n",
       "      <td>DEIXELS</td>\n",
       "      <td>UV Protection Aviator Sunglasses (Free Size)</td>\n",
       "      <td>₹236</td>\n",
       "      <td>80% off</td>\n",
       "    </tr>\n",
       "    <tr>\n",
       "      <th>32</th>\n",
       "      <td>Mi</td>\n",
       "      <td>Polarized Wayfarer Sunglasses (Free Size)</td>\n",
       "      <td>₹849</td>\n",
       "      <td>15% off</td>\n",
       "    </tr>\n",
       "    <tr>\n",
       "      <th>33</th>\n",
       "      <td>Fastrack</td>\n",
       "      <td>UV Protection Wayfarer Sunglasses (55)</td>\n",
       "      <td>₹721</td>\n",
       "      <td>9% off</td>\n",
       "    </tr>\n",
       "    <tr>\n",
       "      <th>34</th>\n",
       "      <td>Elligator</td>\n",
       "      <td>UV Protection Retro Square, Round Sunglasses (54)</td>\n",
       "      <td>₹329</td>\n",
       "      <td>83% off</td>\n",
       "    </tr>\n",
       "    <tr>\n",
       "      <th>35</th>\n",
       "      <td>ROYAL SON</td>\n",
       "      <td>Polarized, UV Protection Retro Square Sunglass...</td>\n",
       "      <td>₹616</td>\n",
       "      <td>69% off</td>\n",
       "    </tr>\n",
       "    <tr>\n",
       "      <th>36</th>\n",
       "      <td>Fastrack</td>\n",
       "      <td>UV Protection Aviator Sunglasses (58)</td>\n",
       "      <td>₹1,169</td>\n",
       "      <td>10% off</td>\n",
       "    </tr>\n",
       "    <tr>\n",
       "      <th>37</th>\n",
       "      <td>ROZZETTA CRAFT</td>\n",
       "      <td>UV Protection, Gradient Round Sunglasses (Free...</td>\n",
       "      <td>₹399</td>\n",
       "      <td>80% off</td>\n",
       "    </tr>\n",
       "    <tr>\n",
       "      <th>38</th>\n",
       "      <td>ROYAL SON</td>\n",
       "      <td>UV Protection, Gradient Wayfarer Sunglasses (55)</td>\n",
       "      <td>₹217</td>\n",
       "      <td>78% off</td>\n",
       "    </tr>\n",
       "    <tr>\n",
       "      <th>39</th>\n",
       "      <td>ROZZETTA CRAFT</td>\n",
       "      <td>UV Protection Aviator Sunglasses (62)</td>\n",
       "      <td>₹649</td>\n",
       "      <td>74% off</td>\n",
       "    </tr>\n",
       "  </tbody>\n",
       "</table>\n",
       "</div>"
      ],
      "text/plain": [
       "             BRAND                                        DISCRIPTION   PRICE  \\\n",
       "0         Fastrack  Gradient, UV Protection Wayfarer Sunglasses (F...    ₹719   \n",
       "1     Singco India  Gradient, Toughened Glass Lens, UV Protection ...    ₹567   \n",
       "2        Elligator  UV Protection, Riding Glasses Rectangular, Ret...    ₹379   \n",
       "3           PIRASO          UV Protection Rectangular Sunglasses (52)    ₹306   \n",
       "4           AISLIN  UV Protection, Gradient Butterfly, Retro Squar...    ₹470   \n",
       "5    VINCENT CHASE     Polarized, UV Protection Round Sunglasses (51)  ₹1,099   \n",
       "6         Fastrack      UV Protection Wayfarer Sunglasses (Free Size)    ₹849   \n",
       "7           PIRASO           UV Protection Over-sized Sunglasses (64)    ₹439   \n",
       "8   kingsunglasses  Mirrored, UV Protection Wayfarer Sunglasses (F...    ₹269   \n",
       "9   kingsunglasses          UV Protection Rectangular Sunglasses (55)    ₹189   \n",
       "10       Rich Club        UV Protection, Others Round Sunglasses (48)    ₹260   \n",
       "11    CRYSTAL CART  Polarized, UV Protection, Gradient, Riding Gla...    ₹329   \n",
       "12            SRPM             UV Protection Wayfarer Sunglasses (53)    ₹235   \n",
       "13       ROYAL SON  UV Protection, Gradient Butterfly Sunglasses (62)    ₹699   \n",
       "14      LIZA ANGEL  UV Protection, Riding Glasses, Night Vision Sp...    ₹169   \n",
       "15    CRYSTAL CART  UV Protection, Gradient Round Sunglasses (Free...    ₹429   \n",
       "16   VINCENT CHASE  by Lenskart Polarized, UV Protection Rectangul...    ₹749   \n",
       "17        Fastrack      UV Protection Wayfarer Sunglasses (Free Size)    ₹719   \n",
       "18        Fastrack        UV Protection Shield Sunglasses (Free Size)    ₹809   \n",
       "19    CRYSTAL CART  Polarized, Gradient, UV Protection, Mirrored O...    ₹249   \n",
       "20       New Specs   UV Protection Rectangular Sunglasses (Free Size)    ₹189   \n",
       "21       ROYAL SON                   Mirrored Aviator Sunglasses (58)    ₹379   \n",
       "22              Mi           Polarized Aviator Sunglasses (Free Size)    ₹949   \n",
       "23  ROZZETTA CRAFT     UV Protection Spectacle Sunglasses (Free Size)    ₹399   \n",
       "24       ROYAL SON                   Mirrored Aviator Sunglasses (55)    ₹379   \n",
       "25        Fastrack                UV Protection Round Sunglasses (55)    ₹979   \n",
       "26        Roadster                 UV Protection Oval Sunglasses (58)    ₹649   \n",
       "27       ROYAL SON          UV Protection Rectangular Sunglasses (50)    ₹569   \n",
       "28        Fastrack      UV Protection Wayfarer Sunglasses (Free Size)    ₹639   \n",
       "29            SRPM  Night Vision, UV Protection Round Sunglasses (54)    ₹233   \n",
       "30   VINCENT CHASE  by Lenskart Polarized, UV Protection Aviator S...    ₹949   \n",
       "31         DEIXELS       UV Protection Aviator Sunglasses (Free Size)    ₹236   \n",
       "32              Mi          Polarized Wayfarer Sunglasses (Free Size)    ₹849   \n",
       "33        Fastrack             UV Protection Wayfarer Sunglasses (55)    ₹721   \n",
       "34       Elligator  UV Protection Retro Square, Round Sunglasses (54)    ₹329   \n",
       "35       ROYAL SON  Polarized, UV Protection Retro Square Sunglass...    ₹616   \n",
       "36        Fastrack              UV Protection Aviator Sunglasses (58)  ₹1,169   \n",
       "37  ROZZETTA CRAFT  UV Protection, Gradient Round Sunglasses (Free...    ₹399   \n",
       "38       ROYAL SON   UV Protection, Gradient Wayfarer Sunglasses (55)    ₹217   \n",
       "39  ROZZETTA CRAFT              UV Protection Aviator Sunglasses (62)    ₹649   \n",
       "\n",
       "   DISCOUNT  \n",
       "0   20% off  \n",
       "1   81% off  \n",
       "2   74% off  \n",
       "3   88% off  \n",
       "4   69% off  \n",
       "5   45% off  \n",
       "6   15% off  \n",
       "7   83% off  \n",
       "8   82% off  \n",
       "9   85% off  \n",
       "10  67% off  \n",
       "11  78% off  \n",
       "12  76% off  \n",
       "13  65% off  \n",
       "14  66% off  \n",
       "15  78% off  \n",
       "16  62% off  \n",
       "17  20% off  \n",
       "18  10% off  \n",
       "19  87% off  \n",
       "20  88% off  \n",
       "21  74% off  \n",
       "22  20% off  \n",
       "23  80% off  \n",
       "24  74% off  \n",
       "25   2% off  \n",
       "26  35% off  \n",
       "27  71% off  \n",
       "28  20% off  \n",
       "29  76% off  \n",
       "30  52% off  \n",
       "31  80% off  \n",
       "32  15% off  \n",
       "33   9% off  \n",
       "34  83% off  \n",
       "35  69% off  \n",
       "36  10% off  \n",
       "37  80% off  \n",
       "38  78% off  \n",
       "39  74% off  "
      ]
     },
     "execution_count": 357,
     "metadata": {},
     "output_type": "execute_result"
    }
   ],
   "source": [
    "Sunglasses[0:100]"
   ]
  },
  {
   "cell_type": "markdown",
   "id": "8735ce48",
   "metadata": {},
   "source": [
    "## Q5: Scrape 100 reviews data from flipkart.com for iphone11 phone.This task will be done in following steps:1. First get the webpage https://www.flipkart.com/ 2. Enter “iphone 11” in “Search” field . 3. Then click the search button.You will reach to the below shown webpage "
   ]
  },
  {
   "cell_type": "code",
   "execution_count": 358,
   "id": "41f5f3c8",
   "metadata": {},
   "outputs": [],
   "source": [
    "# Connect to web driver\n",
    "driver = webdriver.Chrome(r'C:\\Users\\poonam\\Downloads\\chromedriver_win32\\chromedriver.exe')"
   ]
  },
  {
   "cell_type": "code",
   "execution_count": 359,
   "id": "bac4d198",
   "metadata": {},
   "outputs": [],
   "source": [
    "url = \"https://www.flipkart.com/\"\n",
    "driver.get(url)"
   ]
  },
  {
   "cell_type": "code",
   "execution_count": 360,
   "id": "7143ee96",
   "metadata": {},
   "outputs": [
    {
     "data": {
      "text/plain": [
       "<selenium.webdriver.remote.webelement.WebElement (session=\"7fe0ee0468387a387ac8fb300902bf88\", element=\"b0767855-2585-42d1-9439-698c64a3923d\")>"
      ]
     },
     "execution_count": 360,
     "metadata": {},
     "output_type": "execute_result"
    }
   ],
   "source": [
    "# Finding web element for search web bar for using id\n",
    "search_iphone = driver.find_element(By.CLASS_NAME,\"_3704LK\")\n",
    "search_iphone"
   ]
  },
  {
   "cell_type": "code",
   "execution_count": 361,
   "id": "ffcbfbf4",
   "metadata": {},
   "outputs": [],
   "source": [
    "search_iphone.send_keys(\"iphone11\")"
   ]
  },
  {
   "cell_type": "code",
   "execution_count": 362,
   "id": "bd1fc5cf",
   "metadata": {},
   "outputs": [
    {
     "data": {
      "text/plain": [
       "<selenium.webdriver.remote.webelement.WebElement (session=\"7fe0ee0468387a387ac8fb300902bf88\", element=\"4e8997b5-6ee2-4229-8151-b4bf1354d03b\")>"
      ]
     },
     "execution_count": 362,
     "metadata": {},
     "output_type": "execute_result"
    }
   ],
   "source": [
    "# Click on search botton\n",
    "search_btttn = driver.find_element(By.XPATH,\"/html/body/div[1]/div/div[1]/div[1]/div[2]/div[2]/form/div/button\")\n",
    "search_btttn"
   ]
  },
  {
   "cell_type": "code",
   "execution_count": 363,
   "id": "44f08ce8",
   "metadata": {},
   "outputs": [],
   "source": [
    "search_btttn.click()"
   ]
  },
  {
   "cell_type": "code",
   "execution_count": 364,
   "id": "70710a8d",
   "metadata": {},
   "outputs": [
    {
     "data": {
      "text/plain": [
       "<selenium.webdriver.remote.webelement.WebElement (session=\"7fe0ee0468387a387ac8fb300902bf88\", element=\"17459622-57c0-4253-8972-807dbc1a973b\")>"
      ]
     },
     "execution_count": 364,
     "metadata": {},
     "output_type": "execute_result"
    }
   ],
   "source": [
    "# Click on search botton\n",
    "mob_click = driver.find_element(By.XPATH,\"_3UAT2v _16PBlm\")\n",
    "mob_click"
   ]
  },
  {
   "cell_type": "code",
   "execution_count": 365,
   "id": "c8274de5",
   "metadata": {},
   "outputs": [],
   "source": [
    "mob_click.click()"
   ]
  },
  {
   "cell_type": "code",
   "execution_count": 375,
   "id": "580c4f25",
   "metadata": {},
   "outputs": [
    {
     "ename": "NoSuchElementException",
     "evalue": "Message: no such element: Unable to locate element: {\"method\":\"xpath\",\"selector\":\"/html/body/div[1]/div/div[3]/div[1]/div[2]/div[9]/div[6]/div/a/div\"}\n  (Session info: chrome=103.0.5060.114)\nStacktrace:\nBacktrace:\n\tOrdinal0 [0x00306463+2188387]\n\tOrdinal0 [0x0029E461+1762401]\n\tOrdinal0 [0x001B3D78+802168]\n\tOrdinal0 [0x001E1880+989312]\n\tOrdinal0 [0x001E1B1B+989979]\n\tOrdinal0 [0x0020E912+1173778]\n\tOrdinal0 [0x001FC824+1099812]\n\tOrdinal0 [0x0020CC22+1166370]\n\tOrdinal0 [0x001FC5F6+1099254]\n\tOrdinal0 [0x001D6BE0+945120]\n\tOrdinal0 [0x001D7AD6+948950]\n\tGetHandleVerifier [0x005A71F2+2712546]\n\tGetHandleVerifier [0x0059886D+2652765]\n\tGetHandleVerifier [0x0039002A+520730]\n\tGetHandleVerifier [0x0038EE06+516086]\n\tOrdinal0 [0x002A468B+1787531]\n\tOrdinal0 [0x002A8E88+1805960]\n\tOrdinal0 [0x002A8F75+1806197]\n\tOrdinal0 [0x002B1DF1+1842673]\n\tBaseThreadInitThunk [0x764C6739+25]\n\tRtlGetFullPathName_UEx [0x77AE8FEF+1215]\n\tRtlGetFullPathName_UEx [0x77AE8FBD+1165]\n\t(No symbol) [0x00000000]\n",
     "output_type": "error",
     "traceback": [
      "\u001b[1;31m---------------------------------------------------------------------------\u001b[0m",
      "\u001b[1;31mNoSuchElementException\u001b[0m                    Traceback (most recent call last)",
      "\u001b[1;32m~\\AppData\\Local\\Temp/ipykernel_27752/3483422715.py\u001b[0m in \u001b[0;36m<module>\u001b[1;34m\u001b[0m\n\u001b[1;32m----> 1\u001b[1;33m \u001b[0mreview_click\u001b[0m \u001b[1;33m=\u001b[0m \u001b[0mdriver\u001b[0m\u001b[1;33m.\u001b[0m\u001b[0mfind_element\u001b[0m\u001b[1;33m(\u001b[0m\u001b[0mBy\u001b[0m\u001b[1;33m.\u001b[0m\u001b[0mXPATH\u001b[0m\u001b[1;33m,\u001b[0m\u001b[1;34m\"/html/body/div[1]/div/div[3]/div[1]/div[2]/div[9]/div[6]/div/a/div\"\u001b[0m\u001b[1;33m)\u001b[0m\u001b[1;33m\u001b[0m\u001b[1;33m\u001b[0m\u001b[0m\n\u001b[0m\u001b[0;32m      2\u001b[0m \u001b[0mreview_click\u001b[0m\u001b[1;33m\u001b[0m\u001b[1;33m\u001b[0m\u001b[0m\n",
      "\u001b[1;32m~\\anaconda3\\lib\\site-packages\\selenium\\webdriver\\remote\\webdriver.py\u001b[0m in \u001b[0;36mfind_element\u001b[1;34m(self, by, value)\u001b[0m\n\u001b[0;32m    855\u001b[0m             \u001b[0mvalue\u001b[0m \u001b[1;33m=\u001b[0m \u001b[1;34m'[name=\"%s\"]'\u001b[0m \u001b[1;33m%\u001b[0m \u001b[0mvalue\u001b[0m\u001b[1;33m\u001b[0m\u001b[1;33m\u001b[0m\u001b[0m\n\u001b[0;32m    856\u001b[0m \u001b[1;33m\u001b[0m\u001b[0m\n\u001b[1;32m--> 857\u001b[1;33m         return self.execute(Command.FIND_ELEMENT, {\n\u001b[0m\u001b[0;32m    858\u001b[0m             \u001b[1;34m'using'\u001b[0m\u001b[1;33m:\u001b[0m \u001b[0mby\u001b[0m\u001b[1;33m,\u001b[0m\u001b[1;33m\u001b[0m\u001b[1;33m\u001b[0m\u001b[0m\n\u001b[0;32m    859\u001b[0m             'value': value})['value']\n",
      "\u001b[1;32m~\\anaconda3\\lib\\site-packages\\selenium\\webdriver\\remote\\webdriver.py\u001b[0m in \u001b[0;36mexecute\u001b[1;34m(self, driver_command, params)\u001b[0m\n\u001b[0;32m    433\u001b[0m         \u001b[0mresponse\u001b[0m \u001b[1;33m=\u001b[0m \u001b[0mself\u001b[0m\u001b[1;33m.\u001b[0m\u001b[0mcommand_executor\u001b[0m\u001b[1;33m.\u001b[0m\u001b[0mexecute\u001b[0m\u001b[1;33m(\u001b[0m\u001b[0mdriver_command\u001b[0m\u001b[1;33m,\u001b[0m \u001b[0mparams\u001b[0m\u001b[1;33m)\u001b[0m\u001b[1;33m\u001b[0m\u001b[1;33m\u001b[0m\u001b[0m\n\u001b[0;32m    434\u001b[0m         \u001b[1;32mif\u001b[0m \u001b[0mresponse\u001b[0m\u001b[1;33m:\u001b[0m\u001b[1;33m\u001b[0m\u001b[1;33m\u001b[0m\u001b[0m\n\u001b[1;32m--> 435\u001b[1;33m             \u001b[0mself\u001b[0m\u001b[1;33m.\u001b[0m\u001b[0merror_handler\u001b[0m\u001b[1;33m.\u001b[0m\u001b[0mcheck_response\u001b[0m\u001b[1;33m(\u001b[0m\u001b[0mresponse\u001b[0m\u001b[1;33m)\u001b[0m\u001b[1;33m\u001b[0m\u001b[1;33m\u001b[0m\u001b[0m\n\u001b[0m\u001b[0;32m    436\u001b[0m             response['value'] = self._unwrap_value(\n\u001b[0;32m    437\u001b[0m                 response.get('value', None))\n",
      "\u001b[1;32m~\\anaconda3\\lib\\site-packages\\selenium\\webdriver\\remote\\errorhandler.py\u001b[0m in \u001b[0;36mcheck_response\u001b[1;34m(self, response)\u001b[0m\n\u001b[0;32m    245\u001b[0m                 \u001b[0malert_text\u001b[0m \u001b[1;33m=\u001b[0m \u001b[0mvalue\u001b[0m\u001b[1;33m[\u001b[0m\u001b[1;34m'alert'\u001b[0m\u001b[1;33m]\u001b[0m\u001b[1;33m.\u001b[0m\u001b[0mget\u001b[0m\u001b[1;33m(\u001b[0m\u001b[1;34m'text'\u001b[0m\u001b[1;33m)\u001b[0m\u001b[1;33m\u001b[0m\u001b[1;33m\u001b[0m\u001b[0m\n\u001b[0;32m    246\u001b[0m             \u001b[1;32mraise\u001b[0m \u001b[0mexception_class\u001b[0m\u001b[1;33m(\u001b[0m\u001b[0mmessage\u001b[0m\u001b[1;33m,\u001b[0m \u001b[0mscreen\u001b[0m\u001b[1;33m,\u001b[0m \u001b[0mstacktrace\u001b[0m\u001b[1;33m,\u001b[0m \u001b[0malert_text\u001b[0m\u001b[1;33m)\u001b[0m  \u001b[1;31m# type: ignore[call-arg]  # mypy is not smart enough here\u001b[0m\u001b[1;33m\u001b[0m\u001b[1;33m\u001b[0m\u001b[0m\n\u001b[1;32m--> 247\u001b[1;33m         \u001b[1;32mraise\u001b[0m \u001b[0mexception_class\u001b[0m\u001b[1;33m(\u001b[0m\u001b[0mmessage\u001b[0m\u001b[1;33m,\u001b[0m \u001b[0mscreen\u001b[0m\u001b[1;33m,\u001b[0m \u001b[0mstacktrace\u001b[0m\u001b[1;33m)\u001b[0m\u001b[1;33m\u001b[0m\u001b[1;33m\u001b[0m\u001b[0m\n\u001b[0m\u001b[0;32m    248\u001b[0m \u001b[1;33m\u001b[0m\u001b[0m\n\u001b[0;32m    249\u001b[0m     \u001b[1;32mdef\u001b[0m \u001b[0m_value_or_default\u001b[0m\u001b[1;33m(\u001b[0m\u001b[0mself\u001b[0m\u001b[1;33m,\u001b[0m \u001b[0mobj\u001b[0m\u001b[1;33m:\u001b[0m \u001b[0mMapping\u001b[0m\u001b[1;33m[\u001b[0m\u001b[0m_KT\u001b[0m\u001b[1;33m,\u001b[0m \u001b[0m_VT\u001b[0m\u001b[1;33m]\u001b[0m\u001b[1;33m,\u001b[0m \u001b[0mkey\u001b[0m\u001b[1;33m:\u001b[0m \u001b[0m_KT\u001b[0m\u001b[1;33m,\u001b[0m \u001b[0mdefault\u001b[0m\u001b[1;33m:\u001b[0m \u001b[0m_VT\u001b[0m\u001b[1;33m)\u001b[0m \u001b[1;33m->\u001b[0m \u001b[0m_VT\u001b[0m\u001b[1;33m:\u001b[0m\u001b[1;33m\u001b[0m\u001b[1;33m\u001b[0m\u001b[0m\n",
      "\u001b[1;31mNoSuchElementException\u001b[0m: Message: no such element: Unable to locate element: {\"method\":\"xpath\",\"selector\":\"/html/body/div[1]/div/div[3]/div[1]/div[2]/div[9]/div[6]/div/a/div\"}\n  (Session info: chrome=103.0.5060.114)\nStacktrace:\nBacktrace:\n\tOrdinal0 [0x00306463+2188387]\n\tOrdinal0 [0x0029E461+1762401]\n\tOrdinal0 [0x001B3D78+802168]\n\tOrdinal0 [0x001E1880+989312]\n\tOrdinal0 [0x001E1B1B+989979]\n\tOrdinal0 [0x0020E912+1173778]\n\tOrdinal0 [0x001FC824+1099812]\n\tOrdinal0 [0x0020CC22+1166370]\n\tOrdinal0 [0x001FC5F6+1099254]\n\tOrdinal0 [0x001D6BE0+945120]\n\tOrdinal0 [0x001D7AD6+948950]\n\tGetHandleVerifier [0x005A71F2+2712546]\n\tGetHandleVerifier [0x0059886D+2652765]\n\tGetHandleVerifier [0x0039002A+520730]\n\tGetHandleVerifier [0x0038EE06+516086]\n\tOrdinal0 [0x002A468B+1787531]\n\tOrdinal0 [0x002A8E88+1805960]\n\tOrdinal0 [0x002A8F75+1806197]\n\tOrdinal0 [0x002B1DF1+1842673]\n\tBaseThreadInitThunk [0x764C6739+25]\n\tRtlGetFullPathName_UEx [0x77AE8FEF+1215]\n\tRtlGetFullPathName_UEx [0x77AE8FBD+1165]\n\t(No symbol) [0x00000000]\n"
     ]
    }
   ],
   "source": [
    "review_click = driver.find_element(By.XPATH,\"/html/body/div[1]/div/div[3]/div[1]/div[2]/div[9]/div[6]/div/a/div\")\n",
    "review_click"
   ]
  },
  {
   "cell_type": "markdown",
   "id": "7e87f030",
   "metadata": {},
   "source": [
    "## Q6: Scrape data for first 100 sneakers you find when you visit flipkart.com and search for “sneakers” in the search field. You have to scrape 4 attributes of each sneaker: 1. Brand 2. Product Description 3. Price As shown in the below image, you have to scrape the tick marked attributes.\n"
   ]
  },
  {
   "cell_type": "code",
   "execution_count": 376,
   "id": "1b77fb2b",
   "metadata": {},
   "outputs": [],
   "source": [
    "# Connect to web driver\n",
    "driver = webdriver.Chrome(r'C:\\Users\\poonam\\Downloads\\chromedriver_win32\\chromedriver.exe')"
   ]
  },
  {
   "cell_type": "code",
   "execution_count": 377,
   "id": "baec5541",
   "metadata": {},
   "outputs": [],
   "source": [
    "url = \"https://www.flipkart.com/\"\n",
    "driver.get(url)"
   ]
  },
  {
   "cell_type": "code",
   "execution_count": 382,
   "id": "aa994653",
   "metadata": {},
   "outputs": [
    {
     "data": {
      "text/plain": [
       "<selenium.webdriver.remote.webelement.WebElement (session=\"074a6f0b73409220951bdf6c71d58634\", element=\"79690778-b19f-4fba-ac95-3d1987ae8ee5\")>"
      ]
     },
     "execution_count": 382,
     "metadata": {},
     "output_type": "execute_result"
    }
   ],
   "source": [
    "# Finding web element for search web bar for using id\n",
    "search_product = driver.find_element(By.CLASS_NAME,\"_3704LK\")\n",
    "search_product"
   ]
  },
  {
   "cell_type": "code",
   "execution_count": 383,
   "id": "414c2c9b",
   "metadata": {},
   "outputs": [],
   "source": [
    "search_product.send_keys(\"sneaker\")"
   ]
  },
  {
   "cell_type": "code",
   "execution_count": 384,
   "id": "05e473e9",
   "metadata": {},
   "outputs": [
    {
     "data": {
      "text/plain": [
       "<selenium.webdriver.remote.webelement.WebElement (session=\"074a6f0b73409220951bdf6c71d58634\", element=\"6516f65e-93d6-4f28-a2f2-30747ac3a634\")>"
      ]
     },
     "execution_count": 384,
     "metadata": {},
     "output_type": "execute_result"
    }
   ],
   "source": [
    "# Click on search botton\n",
    "search_click = driver.find_element(By.XPATH,\"/html/body/div[1]/div/div[1]/div[1]/div[2]/div[2]/form/div/button\")\n",
    "search_click"
   ]
  },
  {
   "cell_type": "code",
   "execution_count": 385,
   "id": "81cc819d",
   "metadata": {},
   "outputs": [],
   "source": [
    "search_click.click()"
   ]
  },
  {
   "cell_type": "markdown",
   "id": "191af7e2",
   "metadata": {},
   "source": [
    "## Extracting Brand Name"
   ]
  },
  {
   "cell_type": "code",
   "execution_count": 386,
   "id": "89d0c6d6",
   "metadata": {},
   "outputs": [
    {
     "data": {
      "text/plain": [
       "40"
      ]
     },
     "execution_count": 386,
     "metadata": {},
     "output_type": "execute_result"
    }
   ],
   "source": [
    "brand_sneaker= driver.find_elements(By.XPATH,'//div[@class=\"_2WkVRV\"]')\n",
    "len(brand_sneaker)"
   ]
  },
  {
   "cell_type": "code",
   "execution_count": 387,
   "id": "cd98cf42",
   "metadata": {},
   "outputs": [
    {
     "data": {
      "text/plain": [
       "40"
      ]
     },
     "execution_count": 387,
     "metadata": {},
     "output_type": "execute_result"
    }
   ],
   "source": [
    "# Now the text of brand is inside the web elements extracted above\n",
    "# so we will run a for loop to iterate over the tags and will extract\n",
    "Brand = []\n",
    "\n",
    "for i in brand_sneaker:\n",
    "    Brand.append(i.text)\n",
    "len(Brand)"
   ]
  },
  {
   "cell_type": "code",
   "execution_count": 388,
   "id": "3833d942",
   "metadata": {},
   "outputs": [
    {
     "data": {
      "text/plain": [
       "['NANAMI',\n",
       " 'ZF - ALFIYA',\n",
       " 'BRUTON',\n",
       " 'Magnolia',\n",
       " 'URBANBOX',\n",
       " 'SFR',\n",
       " 'PUMA',\n",
       " 'JK PORT',\n",
       " 'HOTSTYLE',\n",
       " 'aadi',\n",
       " 'BRUTON',\n",
       " 'PUMA',\n",
       " 'BIRDE',\n",
       " 'Labbin',\n",
       " 'BIRDE',\n",
       " 'aadi',\n",
       " 'PUMA',\n",
       " 'D-SNEAKERZ',\n",
       " 'CLYMB',\n",
       " 'Numenzo',\n",
       " 'Kraasa',\n",
       " 'ONECENTRE',\n",
       " 'BIRDE',\n",
       " 'PUMA',\n",
       " 'KWIK FIT',\n",
       " 'BIRDE',\n",
       " 'Kraasa',\n",
       " 'Bacan',\n",
       " 'PUMA',\n",
       " 'KNIGHT WALKERS',\n",
       " 'ASTEROID',\n",
       " 'PUMA',\n",
       " 'Kraasa',\n",
       " 'corsac',\n",
       " 'BRUTON',\n",
       " 'PUMA',\n",
       " 'aadi',\n",
       " 'PUMA',\n",
       " 'SCATCHITE',\n",
       " 'BROSS']"
      ]
     },
     "execution_count": 388,
     "metadata": {},
     "output_type": "execute_result"
    }
   ],
   "source": [
    "Brand"
   ]
  },
  {
   "cell_type": "markdown",
   "id": "b84097d3",
   "metadata": {},
   "source": [
    "## Extracting Product Discription"
   ]
  },
  {
   "cell_type": "code",
   "execution_count": 393,
   "id": "f12b828e",
   "metadata": {},
   "outputs": [
    {
     "data": {
      "text/plain": [
       "37"
      ]
     },
     "execution_count": 393,
     "metadata": {},
     "output_type": "execute_result"
    }
   ],
   "source": [
    "discription = driver.find_elements(By.XPATH,'//a[@class=\"IRpwTa\"]')\n",
    "len(discription)"
   ]
  },
  {
   "cell_type": "code",
   "execution_count": 394,
   "id": "b4ae18a9",
   "metadata": {},
   "outputs": [
    {
     "data": {
      "text/plain": [
       "37"
      ]
     },
     "execution_count": 394,
     "metadata": {},
     "output_type": "execute_result"
    }
   ],
   "source": [
    "# Now the discription of sneakers are inside the web elements extracted above\n",
    "# so we will run a for loop to iterate over the tags and will extract\n",
    "Discriptions = []\n",
    "\n",
    "for i in discription:\n",
    "    Discriptions.append(i.text)\n",
    "len(Discriptions)"
   ]
  },
  {
   "cell_type": "code",
   "execution_count": 395,
   "id": "d9ef1bdb",
   "metadata": {},
   "outputs": [
    {
     "data": {
      "text/plain": [
       "['Sneakers For Men',\n",
       " 'Sneakers For Men',\n",
       " 'Modern Trendy Sneakers Shoes Sneakers For Men',\n",
       " 'Sneakers For Men',\n",
       " 'Puma Smash v2 L Sneakers For Men',\n",
       " 'JK PORT Fashionable and Smart Sneakers For Men Sneakers...',\n",
       " 'Sneakers For Men',\n",
       " 'Sneakers For Men',\n",
       " 'Modern Trendy Sneakers Shoes Sneakers For Men',\n",
       " 'Ferrari Electron E Pro Sneakers For Men',\n",
       " 'Stylish Comfortable Lightweight, Breathable Walking Sho...',\n",
       " 'Sneakers For Men',\n",
       " 'Sports Running Shoes Sneakers For Men',\n",
       " 'Sneakers For Men',\n",
       " 'Smash v2 L Sneakers For Men',\n",
       " \"Casual , Partywear Sneakers Shoes For Men's And Boys Wh...\",\n",
       " 'Sneakers For Men',\n",
       " 'Sneakers For Men',\n",
       " 'Shark-41 Sneakers For Men',\n",
       " 'STR2 Sneakers For Men',\n",
       " 'Stylish Comfortable Lightweight, Breathable Walking Sho...',\n",
       " 'RS-X³ Twill AirMesh Sneakers For Men',\n",
       " 'Kwik FIT casual sneaker shoes and partywear shoes Casua...',\n",
       " 'Stylish Comfortable Lightweight, Breathable Casual Walk...',\n",
       " 'Series 7 Sneakers For Men',\n",
       " 'Sneakers For Men',\n",
       " 'Puma Smash v2 L Sneakers For Men',\n",
       " 'SS1100 Sneakers For Men',\n",
       " \"Luxury Branded Fashionable Men's Casual Walking Partywe...\",\n",
       " 'Mirage Sport Remix Sneakers For Men',\n",
       " 'Casuals, Canvas, Partywear Sneakers For Men',\n",
       " 'STYLISH MENS BLACK SNEAKER Sneakers For Men',\n",
       " 'Lightweight Pack Of 1 Trendy Sneakers Sneakers For Men',\n",
       " 'Simha Sneakers For Men',\n",
       " 'Sneakers For Men',\n",
       " 'Blend Sneakers For Men',\n",
       " 'Sneakers Sneakers For Men']"
      ]
     },
     "execution_count": 395,
     "metadata": {},
     "output_type": "execute_result"
    }
   ],
   "source": [
    "Discriptions"
   ]
  },
  {
   "cell_type": "markdown",
   "id": "311bb4af",
   "metadata": {},
   "source": [
    "## Extracting Sneakers Price"
   ]
  },
  {
   "cell_type": "code",
   "execution_count": 396,
   "id": "7bf83209",
   "metadata": {},
   "outputs": [
    {
     "data": {
      "text/plain": [
       "40"
      ]
     },
     "execution_count": 396,
     "metadata": {},
     "output_type": "execute_result"
    }
   ],
   "source": [
    "sneaker_price= driver.find_elements(By.XPATH,'//div[@class=\"_30jeq3\"]')\n",
    "len(sneaker_price)"
   ]
  },
  {
   "cell_type": "code",
   "execution_count": 398,
   "id": "ee75e8d2",
   "metadata": {},
   "outputs": [
    {
     "data": {
      "text/plain": [
       "40"
      ]
     },
     "execution_count": 398,
     "metadata": {},
     "output_type": "execute_result"
    }
   ],
   "source": [
    "Price = []\n",
    "\n",
    "for i in sneaker_price:\n",
    "     Price.append(i.text)\n",
    "len(Price)"
   ]
  },
  {
   "cell_type": "code",
   "execution_count": 399,
   "id": "b722a3b4",
   "metadata": {},
   "outputs": [
    {
     "data": {
      "text/plain": [
       "['₹549',\n",
       " '₹399',\n",
       " '₹269',\n",
       " '₹399',\n",
       " '₹198',\n",
       " '₹299',\n",
       " '₹1,918',\n",
       " '₹539',\n",
       " '₹258',\n",
       " '₹319',\n",
       " '₹299',\n",
       " '₹3,834',\n",
       " '₹299',\n",
       " '₹449',\n",
       " '₹249',\n",
       " '₹399',\n",
       " '₹2,064',\n",
       " '₹299',\n",
       " '₹519',\n",
       " '₹494',\n",
       " '₹479',\n",
       " '₹299',\n",
       " '₹335',\n",
       " '₹4,140',\n",
       " '₹397',\n",
       " '₹299',\n",
       " '₹479',\n",
       " '₹450',\n",
       " '₹2,064',\n",
       " '₹664',\n",
       " '₹499',\n",
       " '₹4,049',\n",
       " '₹479',\n",
       " '₹474',\n",
       " '₹199',\n",
       " '₹1,709',\n",
       " '₹299',\n",
       " '₹1,769',\n",
       " '₹360',\n",
       " '₹449']"
      ]
     },
     "execution_count": 399,
     "metadata": {},
     "output_type": "execute_result"
    }
   ],
   "source": [
    "Price"
   ]
  },
  {
   "cell_type": "markdown",
   "id": "0d6d2989",
   "metadata": {},
   "source": [
    "## Extracting Offers"
   ]
  },
  {
   "cell_type": "code",
   "execution_count": 400,
   "id": "154738fe",
   "metadata": {},
   "outputs": [
    {
     "data": {
      "text/plain": [
       "40"
      ]
     },
     "execution_count": 400,
     "metadata": {},
     "output_type": "execute_result"
    }
   ],
   "source": [
    "discount = driver.find_elements(By.XPATH,'//div[@class=\"_3Ay6Sb\"]')\n",
    "len(discount)"
   ]
  },
  {
   "cell_type": "code",
   "execution_count": 401,
   "id": "6b58a1fc",
   "metadata": {},
   "outputs": [
    {
     "data": {
      "text/plain": [
       "40"
      ]
     },
     "execution_count": 401,
     "metadata": {},
     "output_type": "execute_result"
    }
   ],
   "source": [
    "Discount = []\n",
    "\n",
    "for i in discount:\n",
    "    Discount.append(i.text)\n",
    "len(Discount)"
   ]
  },
  {
   "cell_type": "code",
   "execution_count": 402,
   "id": "a6a8a3b8",
   "metadata": {},
   "outputs": [
    {
     "data": {
      "text/plain": [
       "['72% off',\n",
       " '60% off',\n",
       " '79% off',\n",
       " '60% off',\n",
       " '80% off',\n",
       " '70% off',\n",
       " '45% off',\n",
       " '46% off',\n",
       " '74% off',\n",
       " '68% off',\n",
       " '76% off',\n",
       " '41% off',\n",
       " '70% off',\n",
       " '55% off',\n",
       " '75% off',\n",
       " '80% off',\n",
       " '41% off',\n",
       " '54% off',\n",
       " '65% off',\n",
       " '61% off',\n",
       " '52% off',\n",
       " '50% off',\n",
       " '66% off',\n",
       " '58% off',\n",
       " '80% off',\n",
       " '70% off',\n",
       " '52% off',\n",
       " '54% off',\n",
       " '41% off',\n",
       " '66% off',\n",
       " '75% off',\n",
       " '55% off',\n",
       " '52% off',\n",
       " '68% off',\n",
       " '66% off',\n",
       " '43% off',\n",
       " '70% off',\n",
       " '41% off',\n",
       " '63% off',\n",
       " '55% off']"
      ]
     },
     "execution_count": 402,
     "metadata": {},
     "output_type": "execute_result"
    }
   ],
   "source": [
    "Discount"
   ]
  },
  {
   "cell_type": "markdown",
   "id": "d2d383b1",
   "metadata": {},
   "source": [
    "## Extracting Data from next page(41 to 80)"
   ]
  },
  {
   "cell_type": "code",
   "execution_count": 403,
   "id": "ae5a5a30",
   "metadata": {},
   "outputs": [
    {
     "data": {
      "text/plain": [
       "<selenium.webdriver.remote.webelement.WebElement (session=\"074a6f0b73409220951bdf6c71d58634\", element=\"c47db6b6-8ff7-4531-8ecb-b8190b5ae93e\")>"
      ]
     },
     "execution_count": 403,
     "metadata": {},
     "output_type": "execute_result"
    }
   ],
   "source": [
    "# For next Page  \n",
    "next_btn=driver.find_element(By.XPATH,\"/html/body/div/div/div[3]/div[1]/div[2]/div[12]/div/div/nav/a[11]\")\n",
    "next_btn"
   ]
  },
  {
   "cell_type": "code",
   "execution_count": 404,
   "id": "1e2b7be1",
   "metadata": {},
   "outputs": [],
   "source": [
    "next_btn.click()"
   ]
  },
  {
   "cell_type": "markdown",
   "id": "12a0522d",
   "metadata": {},
   "source": [
    "## Extracting Brand name"
   ]
  },
  {
   "cell_type": "code",
   "execution_count": null,
   "id": "b6d87e70",
   "metadata": {},
   "outputs": [],
   "source": []
  },
  {
   "cell_type": "code",
   "execution_count": 406,
   "id": "066b963d",
   "metadata": {},
   "outputs": [
    {
     "data": {
      "text/plain": [
       "40"
      ]
     },
     "execution_count": 406,
     "metadata": {},
     "output_type": "execute_result"
    }
   ],
   "source": [
    "# Now the text of brand is inside the web elements extracted above\n",
    "# so we will run a for loop to iterate over the tags and will extract\n",
    "Brand = []\n",
    "\n",
    "for i in brand_sneaker:\n",
    "    Brand.append(i.text)\n",
    "len(Brand)"
   ]
  },
  {
   "cell_type": "code",
   "execution_count": 407,
   "id": "0e607d20",
   "metadata": {},
   "outputs": [
    {
     "data": {
      "text/plain": [
       "['Chevit',\n",
       " 'Rzisbo',\n",
       " 'Airland',\n",
       " 'ZF - ALFIYA',\n",
       " 'LE GREEM',\n",
       " 'Shoes Bank',\n",
       " 'Magnolia',\n",
       " 'Scull Wings',\n",
       " 'Kzaara',\n",
       " 'BRUTON',\n",
       " 'BRUTON',\n",
       " 'PUMA',\n",
       " 'BIRDE',\n",
       " 'PUMA',\n",
       " 'ASTEROID',\n",
       " 'aadi',\n",
       " 'aadi',\n",
       " 'PUMA',\n",
       " 'SPARX',\n",
       " 'Numenzo',\n",
       " 'PUMA',\n",
       " 'Robbie jones',\n",
       " 'PEXLO',\n",
       " 'Bacan',\n",
       " 'Airland',\n",
       " 'Noztile',\n",
       " 'WHITE WALKERS',\n",
       " 'BROSS',\n",
       " 'PEXLO',\n",
       " 'AMICO',\n",
       " 'BRUTON',\n",
       " 'Ardeo',\n",
       " 'Roadster',\n",
       " 'luxury fashion',\n",
       " 'Dizzler',\n",
       " 'Ktiz',\n",
       " 'Layasa',\n",
       " 'Numenzo',\n",
       " 'Chevit',\n",
       " 'NANAMI']"
      ]
     },
     "execution_count": 407,
     "metadata": {},
     "output_type": "execute_result"
    }
   ],
   "source": [
    "Brand"
   ]
  },
  {
   "cell_type": "markdown",
   "id": "7713ce3a",
   "metadata": {},
   "source": [
    "## Extracting Product Discription"
   ]
  },
  {
   "cell_type": "code",
   "execution_count": 408,
   "id": "d6ce2551",
   "metadata": {},
   "outputs": [
    {
     "data": {
      "text/plain": [
       "34"
      ]
     },
     "execution_count": 408,
     "metadata": {},
     "output_type": "execute_result"
    }
   ],
   "source": [
    "discrip= driver.find_elements(By.XPATH,'//a[@class=\"IRpwTa\"]') \n",
    "len(discrip)"
   ]
  },
  {
   "cell_type": "code",
   "execution_count": 410,
   "id": "7e19c0ad",
   "metadata": {},
   "outputs": [
    {
     "data": {
      "text/plain": [
       "34"
      ]
     },
     "execution_count": 410,
     "metadata": {},
     "output_type": "execute_result"
    }
   ],
   "source": [
    "# Now the discription of sneakers are inside the web elements extracted above\n",
    "# so we will run a for loop to iterate over the tags and will extract\n",
    "Discriptions = []\n",
    "\n",
    "for i in discrip:\n",
    "    Discriptions.append(i.text)\n",
    "len(Discriptions)"
   ]
  },
  {
   "cell_type": "code",
   "execution_count": 411,
   "id": "0c458968",
   "metadata": {},
   "outputs": [
    {
     "data": {
      "text/plain": [
       "['Super Stylish & Trendy Combo Pack of 02 Pairs Sneakers ...',\n",
       " 'Sneakers For Men',\n",
       " 'shoe Sneakers For Men',\n",
       " 'Sneakers For Men',\n",
       " 'Comfortable & Ultra Light Weight Sneaker Sneakers For M...',\n",
       " \"White Sneaker For Men's/Boy's Sneakers For Men\",\n",
       " 'Sneakers For Men',\n",
       " 'Sneakers For Men',\n",
       " 'Sneaker Sneakers For Men',\n",
       " 'Lattest Sneakers Shoe Sneakers For Men',\n",
       " 'Ferrari Electron E Pro Sneakers For Men',\n",
       " 'Stylish Comfortable Lightweight, Breathable Walking Sho...',\n",
       " 'Blend Sneakers For Men',\n",
       " 'Original Luxury Branded Black Fancy Casual Walking Part...',\n",
       " 'Sneakers For Men',\n",
       " 'Mesh | Ultralightweight | Comfortable | Breathable Walk...',\n",
       " 'Puma Smash v2 L Sneakers For Men',\n",
       " 'Men White Sneakers Sneakers For Men',\n",
       " 'Sneakers For Men',\n",
       " 'ST Activate V2 Sneakers For Men',\n",
       " 'Casual Sneakers Canvas Shoes For Men Sneakers For Men',\n",
       " 'Combo Pack of 3 Casual Shoes, Sneakers For Men',\n",
       " 'Sneakers For Men',\n",
       " '1259 smart black lace-ups sneakers for men Sneakers For...',\n",
       " 'Sneakers For Men',\n",
       " 'Stylish & Trending Outdoor Walking Comfortable Sneakers...',\n",
       " 'Combo Pack of 3 Casual Shoes Sneakers For Men',\n",
       " 'Sneakers For Men',\n",
       " 'Combo Pack Of 2 Latest Stylish Casual Shoes for Men Lac...',\n",
       " 'Sneakers For Men',\n",
       " 'Fashionable sneaker shoes Sneakers For Men',\n",
       " 'Sneakers For Men',\n",
       " \"Men's Combo Pack of 02 Shoes for Men Casual Sneakers Ou...\",\n",
       " 'Sneakers For Men']"
      ]
     },
     "execution_count": 411,
     "metadata": {},
     "output_type": "execute_result"
    }
   ],
   "source": [
    "Discriptions"
   ]
  },
  {
   "cell_type": "markdown",
   "id": "3bd7a2d2",
   "metadata": {},
   "source": [
    "## Extracting Product Price"
   ]
  },
  {
   "cell_type": "code",
   "execution_count": 412,
   "id": "fa9cc628",
   "metadata": {},
   "outputs": [
    {
     "data": {
      "text/plain": [
       "40"
      ]
     },
     "execution_count": 412,
     "metadata": {},
     "output_type": "execute_result"
    }
   ],
   "source": [
    "sneaker_price= driver.find_elements(By.XPATH,'//div[@class=\"_30jeq3\"]')\n",
    "len(sneaker_price)"
   ]
  },
  {
   "cell_type": "code",
   "execution_count": 413,
   "id": "85393d13",
   "metadata": {},
   "outputs": [
    {
     "data": {
      "text/plain": [
       "40"
      ]
     },
     "execution_count": 413,
     "metadata": {},
     "output_type": "execute_result"
    }
   ],
   "source": [
    "Price = []\n",
    "\n",
    "for i in sneaker_price:\n",
    "     Price.append(i.text)\n",
    "len(Price)"
   ]
  },
  {
   "cell_type": "code",
   "execution_count": 414,
   "id": "4bf62c56",
   "metadata": {},
   "outputs": [
    {
     "data": {
      "text/plain": [
       "['₹649',\n",
       " '₹464',\n",
       " '₹207',\n",
       " '₹399',\n",
       " '₹424',\n",
       " '₹298',\n",
       " '₹399',\n",
       " '₹599',\n",
       " '₹254',\n",
       " '₹269',\n",
       " '₹269',\n",
       " '₹3,834',\n",
       " '₹335',\n",
       " '₹1,769',\n",
       " '₹499',\n",
       " '₹399',\n",
       " '₹799',\n",
       " '₹1,763',\n",
       " '₹721',\n",
       " '₹494',\n",
       " '₹1,644',\n",
       " '₹449',\n",
       " '₹530',\n",
       " '₹450',\n",
       " '₹210',\n",
       " '₹399',\n",
       " '₹599',\n",
       " '₹449',\n",
       " '₹633',\n",
       " '₹494',\n",
       " '₹499',\n",
       " '₹544',\n",
       " '₹1,189',\n",
       " '₹474',\n",
       " '₹449',\n",
       " '₹499',\n",
       " '₹499',\n",
       " '₹539',\n",
       " '₹466',\n",
       " '₹549']"
      ]
     },
     "execution_count": 414,
     "metadata": {},
     "output_type": "execute_result"
    }
   ],
   "source": [
    "Price"
   ]
  },
  {
   "cell_type": "markdown",
   "id": "5c1645e9",
   "metadata": {},
   "source": [
    "## Extracting Offers"
   ]
  },
  {
   "cell_type": "code",
   "execution_count": 415,
   "id": "c6602e1b",
   "metadata": {},
   "outputs": [
    {
     "data": {
      "text/plain": [
       "40"
      ]
     },
     "execution_count": 415,
     "metadata": {},
     "output_type": "execute_result"
    }
   ],
   "source": [
    "discount = driver.find_elements(By.XPATH,'//div[@class=\"_3Ay6Sb\"]')\n",
    "len(discount)"
   ]
  },
  {
   "cell_type": "code",
   "execution_count": 416,
   "id": "35bac460",
   "metadata": {},
   "outputs": [
    {
     "data": {
      "text/plain": [
       "40"
      ]
     },
     "execution_count": 416,
     "metadata": {},
     "output_type": "execute_result"
    }
   ],
   "source": [
    "Discount = []\n",
    "\n",
    "for i in discount:\n",
    "    Discount.append(i.text)\n",
    "len(Discount)"
   ]
  },
  {
   "cell_type": "code",
   "execution_count": 417,
   "id": "7862e85b",
   "metadata": {},
   "outputs": [
    {
     "data": {
      "text/plain": [
       "['65% off',\n",
       " '53% off',\n",
       " '58% off',\n",
       " '60% off',\n",
       " '57% off',\n",
       " '70% off',\n",
       " '60% off',\n",
       " '53% off',\n",
       " '74% off',\n",
       " '79% off',\n",
       " '79% off',\n",
       " '41% off',\n",
       " '66% off',\n",
       " '41% off',\n",
       " '50% off',\n",
       " '80% off',\n",
       " '60% off',\n",
       " '49% off',\n",
       " '15% off',\n",
       " '61% off',\n",
       " '53% off',\n",
       " '55% off',\n",
       " '77% off',\n",
       " '54% off',\n",
       " '57% off',\n",
       " '80% off',\n",
       " '50% off',\n",
       " '55% off',\n",
       " '57% off',\n",
       " '50% off',\n",
       " '80% off',\n",
       " '58% off',\n",
       " '63% off',\n",
       " '76% off',\n",
       " '37% off',\n",
       " '50% off',\n",
       " '50% off',\n",
       " '82% off',\n",
       " '57% off',\n",
       " '72% off']"
      ]
     },
     "execution_count": 417,
     "metadata": {},
     "output_type": "execute_result"
    }
   ],
   "source": [
    "Discount"
   ]
  },
  {
   "cell_type": "markdown",
   "id": "805bd9f7",
   "metadata": {},
   "source": [
    "## Extracting Data from next page(80 to 120)"
   ]
  },
  {
   "cell_type": "markdown",
   "id": "af1e6549",
   "metadata": {},
   "source": [
    "## Extracting Brand Name"
   ]
  },
  {
   "cell_type": "code",
   "execution_count": 418,
   "id": "13f93eac",
   "metadata": {},
   "outputs": [
    {
     "data": {
      "text/plain": [
       "40"
      ]
     },
     "execution_count": 418,
     "metadata": {},
     "output_type": "execute_result"
    }
   ],
   "source": [
    "brand_sneaker= driver.find_elements(By.XPATH,'//div[@class=\"_2WkVRV\"]')\n",
    "len(brand_sneaker)"
   ]
  },
  {
   "cell_type": "code",
   "execution_count": 419,
   "id": "47184337",
   "metadata": {},
   "outputs": [
    {
     "data": {
      "text/plain": [
       "40"
      ]
     },
     "execution_count": 419,
     "metadata": {},
     "output_type": "execute_result"
    }
   ],
   "source": [
    "# Now the text of brand is inside the web elements extracted above\n",
    "# so we will run a for loop to iterate over the tags and will extract\n",
    "Brand = []\n",
    "\n",
    "for i in brand_sneaker:\n",
    "    Brand.append(i.text)\n",
    "len(Brand)"
   ]
  },
  {
   "cell_type": "code",
   "execution_count": 420,
   "id": "91376ebb",
   "metadata": {},
   "outputs": [
    {
     "data": {
      "text/plain": [
       "['Chevit',\n",
       " 'Rzisbo',\n",
       " 'Airland',\n",
       " 'ZF - ALFIYA',\n",
       " 'LE GREEM',\n",
       " 'Shoes Bank',\n",
       " 'Magnolia',\n",
       " 'Scull Wings',\n",
       " 'Kzaara',\n",
       " 'BRUTON',\n",
       " 'BRUTON',\n",
       " 'PUMA',\n",
       " 'BIRDE',\n",
       " 'PUMA',\n",
       " 'ASTEROID',\n",
       " 'aadi',\n",
       " 'aadi',\n",
       " 'PUMA',\n",
       " 'SPARX',\n",
       " 'Numenzo',\n",
       " 'PUMA',\n",
       " 'Robbie jones',\n",
       " 'PEXLO',\n",
       " 'Bacan',\n",
       " 'Airland',\n",
       " 'Noztile',\n",
       " 'WHITE WALKERS',\n",
       " 'BROSS',\n",
       " 'PEXLO',\n",
       " 'AMICO',\n",
       " 'BRUTON',\n",
       " 'Ardeo',\n",
       " 'Roadster',\n",
       " 'luxury fashion',\n",
       " 'Dizzler',\n",
       " 'Ktiz',\n",
       " 'Layasa',\n",
       " 'Numenzo',\n",
       " 'Chevit',\n",
       " 'NANAMI']"
      ]
     },
     "execution_count": 420,
     "metadata": {},
     "output_type": "execute_result"
    }
   ],
   "source": [
    "Brand"
   ]
  },
  {
   "cell_type": "markdown",
   "id": "52b3c5e4",
   "metadata": {},
   "source": [
    "## Extracting Product Discription"
   ]
  },
  {
   "cell_type": "code",
   "execution_count": 421,
   "id": "13b9faac",
   "metadata": {},
   "outputs": [
    {
     "data": {
      "text/plain": [
       "34"
      ]
     },
     "execution_count": 421,
     "metadata": {},
     "output_type": "execute_result"
    }
   ],
   "source": [
    "discrip= driver.find_elements(By.XPATH,'//a[@class=\"IRpwTa\"]') \n",
    "len(discrip)"
   ]
  },
  {
   "cell_type": "code",
   "execution_count": 422,
   "id": "aa7ad276",
   "metadata": {},
   "outputs": [
    {
     "data": {
      "text/plain": [
       "34"
      ]
     },
     "execution_count": 422,
     "metadata": {},
     "output_type": "execute_result"
    }
   ],
   "source": [
    "# Now the discription of sneakers are inside the web elements extracted above\n",
    "# so we will run a for loop to iterate over the tags and will extract\n",
    "Discriptions = []\n",
    "\n",
    "for i in discrip:\n",
    "    Discriptions.append(i.text)\n",
    "len(Discriptions)"
   ]
  },
  {
   "cell_type": "code",
   "execution_count": 423,
   "id": "f9275346",
   "metadata": {},
   "outputs": [
    {
     "data": {
      "text/plain": [
       "['Super Stylish & Trendy Combo Pack of 02 Pairs Sneakers ...',\n",
       " 'Sneakers For Men',\n",
       " 'shoe Sneakers For Men',\n",
       " 'Sneakers For Men',\n",
       " 'Comfortable & Ultra Light Weight Sneaker Sneakers For M...',\n",
       " \"White Sneaker For Men's/Boy's Sneakers For Men\",\n",
       " 'Sneakers For Men',\n",
       " 'Sneakers For Men',\n",
       " 'Sneaker Sneakers For Men',\n",
       " 'Lattest Sneakers Shoe Sneakers For Men',\n",
       " 'Ferrari Electron E Pro Sneakers For Men',\n",
       " 'Stylish Comfortable Lightweight, Breathable Walking Sho...',\n",
       " 'Blend Sneakers For Men',\n",
       " 'Original Luxury Branded Black Fancy Casual Walking Part...',\n",
       " 'Sneakers For Men',\n",
       " 'Mesh | Ultralightweight | Comfortable | Breathable Walk...',\n",
       " 'Puma Smash v2 L Sneakers For Men',\n",
       " 'Men White Sneakers Sneakers For Men',\n",
       " 'Sneakers For Men',\n",
       " 'ST Activate V2 Sneakers For Men',\n",
       " 'Casual Sneakers Canvas Shoes For Men Sneakers For Men',\n",
       " 'Combo Pack of 3 Casual Shoes, Sneakers For Men',\n",
       " 'Sneakers For Men',\n",
       " '1259 smart black lace-ups sneakers for men Sneakers For...',\n",
       " 'Sneakers For Men',\n",
       " 'Stylish & Trending Outdoor Walking Comfortable Sneakers...',\n",
       " 'Combo Pack of 3 Casual Shoes Sneakers For Men',\n",
       " 'Sneakers For Men',\n",
       " 'Combo Pack Of 2 Latest Stylish Casual Shoes for Men Lac...',\n",
       " 'Sneakers For Men',\n",
       " 'Fashionable sneaker shoes Sneakers For Men',\n",
       " 'Sneakers For Men',\n",
       " \"Men's Combo Pack of 02 Shoes for Men Casual Sneakers Ou...\",\n",
       " 'Sneakers For Men']"
      ]
     },
     "execution_count": 423,
     "metadata": {},
     "output_type": "execute_result"
    }
   ],
   "source": [
    "Discriptions"
   ]
  },
  {
   "cell_type": "markdown",
   "id": "7915f782",
   "metadata": {},
   "source": [
    "## Extracting Product Price"
   ]
  },
  {
   "cell_type": "code",
   "execution_count": 424,
   "id": "91520640",
   "metadata": {},
   "outputs": [
    {
     "data": {
      "text/plain": [
       "40"
      ]
     },
     "execution_count": 424,
     "metadata": {},
     "output_type": "execute_result"
    }
   ],
   "source": [
    "sneaker_price= driver.find_elements(By.XPATH,'//div[@class=\"_30jeq3\"]')\n",
    "len(sneaker_price)"
   ]
  },
  {
   "cell_type": "code",
   "execution_count": 425,
   "id": "e7bbc3f6",
   "metadata": {},
   "outputs": [
    {
     "data": {
      "text/plain": [
       "40"
      ]
     },
     "execution_count": 425,
     "metadata": {},
     "output_type": "execute_result"
    }
   ],
   "source": [
    "Price = []\n",
    "\n",
    "for i in sneaker_price:\n",
    "     Price.append(i.text)\n",
    "len(Price)"
   ]
  },
  {
   "cell_type": "code",
   "execution_count": 426,
   "id": "51467049",
   "metadata": {},
   "outputs": [
    {
     "data": {
      "text/plain": [
       "['₹649',\n",
       " '₹464',\n",
       " '₹207',\n",
       " '₹399',\n",
       " '₹424',\n",
       " '₹298',\n",
       " '₹399',\n",
       " '₹599',\n",
       " '₹254',\n",
       " '₹269',\n",
       " '₹269',\n",
       " '₹3,834',\n",
       " '₹335',\n",
       " '₹1,769',\n",
       " '₹499',\n",
       " '₹399',\n",
       " '₹799',\n",
       " '₹1,763',\n",
       " '₹721',\n",
       " '₹494',\n",
       " '₹1,644',\n",
       " '₹449',\n",
       " '₹530',\n",
       " '₹450',\n",
       " '₹210',\n",
       " '₹399',\n",
       " '₹599',\n",
       " '₹449',\n",
       " '₹633',\n",
       " '₹494',\n",
       " '₹499',\n",
       " '₹544',\n",
       " '₹1,189',\n",
       " '₹474',\n",
       " '₹449',\n",
       " '₹499',\n",
       " '₹499',\n",
       " '₹539',\n",
       " '₹466',\n",
       " '₹549']"
      ]
     },
     "execution_count": 426,
     "metadata": {},
     "output_type": "execute_result"
    }
   ],
   "source": [
    "Price"
   ]
  },
  {
   "cell_type": "markdown",
   "id": "bf593fab",
   "metadata": {},
   "source": [
    "# Extracting Product Offer"
   ]
  },
  {
   "cell_type": "code",
   "execution_count": 427,
   "id": "e8123e26",
   "metadata": {},
   "outputs": [
    {
     "data": {
      "text/plain": [
       "40"
      ]
     },
     "execution_count": 427,
     "metadata": {},
     "output_type": "execute_result"
    }
   ],
   "source": [
    "discount = driver.find_elements(By.XPATH,'//div[@class=\"_3Ay6Sb\"]')\n",
    "len(discount)"
   ]
  },
  {
   "cell_type": "code",
   "execution_count": 428,
   "id": "b1cff44c",
   "metadata": {},
   "outputs": [
    {
     "data": {
      "text/plain": [
       "40"
      ]
     },
     "execution_count": 428,
     "metadata": {},
     "output_type": "execute_result"
    }
   ],
   "source": [
    "Discount = []\n",
    "\n",
    "for i in discount:\n",
    "    Discount.append(i.text)\n",
    "len(Discount)"
   ]
  },
  {
   "cell_type": "code",
   "execution_count": 429,
   "id": "7d1c1218",
   "metadata": {},
   "outputs": [
    {
     "data": {
      "text/plain": [
       "['65% off',\n",
       " '53% off',\n",
       " '58% off',\n",
       " '60% off',\n",
       " '57% off',\n",
       " '70% off',\n",
       " '60% off',\n",
       " '53% off',\n",
       " '74% off',\n",
       " '79% off',\n",
       " '79% off',\n",
       " '41% off',\n",
       " '66% off',\n",
       " '41% off',\n",
       " '50% off',\n",
       " '80% off',\n",
       " '60% off',\n",
       " '49% off',\n",
       " '15% off',\n",
       " '61% off',\n",
       " '53% off',\n",
       " '55% off',\n",
       " '77% off',\n",
       " '54% off',\n",
       " '57% off',\n",
       " '80% off',\n",
       " '50% off',\n",
       " '55% off',\n",
       " '57% off',\n",
       " '50% off',\n",
       " '80% off',\n",
       " '58% off',\n",
       " '63% off',\n",
       " '76% off',\n",
       " '37% off',\n",
       " '50% off',\n",
       " '50% off',\n",
       " '82% off',\n",
       " '57% off',\n",
       " '72% off']"
      ]
     },
     "execution_count": 429,
     "metadata": {},
     "output_type": "execute_result"
    }
   ],
   "source": [
    "Discount"
   ]
  },
  {
   "cell_type": "code",
   "execution_count": null,
   "id": "2bf431a8",
   "metadata": {},
   "outputs": [],
   "source": []
  },
  {
   "cell_type": "markdown",
   "id": "57d83ab1",
   "metadata": {},
   "source": [
    "## Q7: Go to the link - https://www.myntra.com/shoes Set second Price filter and Color filter to “Black”, as shown in the below image.\n"
   ]
  },
  {
   "cell_type": "code",
   "execution_count": 3,
   "id": "0b75288b",
   "metadata": {},
   "outputs": [],
   "source": [
    "# Connect to web driver\n",
    "driver = webdriver.Chrome(r'C:\\Users\\poonam\\Downloads\\chromedriver_win32\\chromedriver.exe')"
   ]
  },
  {
   "cell_type": "code",
   "execution_count": 4,
   "id": "b920704f",
   "metadata": {},
   "outputs": [
    {
     "ename": "WebDriverException",
     "evalue": "Message: unknown error: cannot determine loading status\nfrom unknown error: unexpected command response\n  (Session info: chrome=103.0.5060.114)\nStacktrace:\nBacktrace:\n\tOrdinal0 [0x00466463+2188387]\n\tOrdinal0 [0x003FE461+1762401]\n\tOrdinal0 [0x00313D78+802168]\n\tOrdinal0 [0x00307210+750096]\n\tOrdinal0 [0x0030675A+747354]\n\tOrdinal0 [0x00305D3F+744767]\n\tOrdinal0 [0x00304C28+740392]\n\tOrdinal0 [0x00305228+741928]\n\tOrdinal0 [0x0030EF2F+782127]\n\tOrdinal0 [0x00319FBB+827323]\n\tOrdinal0 [0x0031D310+840464]\n\tOrdinal0 [0x003054F6+742646]\n\tOrdinal0 [0x00319BF3+826355]\n\tOrdinal0 [0x0036CF6D+1167213]\n\tOrdinal0 [0x0035C5F6+1099254]\n\tOrdinal0 [0x00336BE0+945120]\n\tOrdinal0 [0x00337AD6+948950]\n\tGetHandleVerifier [0x007071F2+2712546]\n\tGetHandleVerifier [0x006F886D+2652765]\n\tGetHandleVerifier [0x004F002A+520730]\n\tGetHandleVerifier [0x004EEE06+516086]\n\tOrdinal0 [0x0040468B+1787531]\n\tOrdinal0 [0x00408E88+1805960]\n\tOrdinal0 [0x00408F75+1806197]\n\tOrdinal0 [0x00411DF1+1842673]\n\tBaseThreadInitThunk [0x764C6739+25]\n\tRtlGetFullPathName_UEx [0x77AE8FEF+1215]\n\tRtlGetFullPathName_UEx [0x77AE8FBD+1165]\n",
     "output_type": "error",
     "traceback": [
      "\u001b[1;31m---------------------------------------------------------------------------\u001b[0m",
      "\u001b[1;31mWebDriverException\u001b[0m                        Traceback (most recent call last)",
      "\u001b[1;32m~\\AppData\\Local\\Temp/ipykernel_6676/2489305639.py\u001b[0m in \u001b[0;36m<module>\u001b[1;34m\u001b[0m\n\u001b[0;32m      1\u001b[0m \u001b[0murl\u001b[0m \u001b[1;33m=\u001b[0m\u001b[1;34m'https://www.myntra.com/shoes'\u001b[0m\u001b[1;33m\u001b[0m\u001b[1;33m\u001b[0m\u001b[0m\n\u001b[1;32m----> 2\u001b[1;33m \u001b[0mdriver\u001b[0m\u001b[1;33m.\u001b[0m\u001b[0mget\u001b[0m\u001b[1;33m(\u001b[0m\u001b[0murl\u001b[0m\u001b[1;33m)\u001b[0m\u001b[1;33m\u001b[0m\u001b[1;33m\u001b[0m\u001b[0m\n\u001b[0m",
      "\u001b[1;32m~\\anaconda3\\lib\\site-packages\\selenium\\webdriver\\remote\\webdriver.py\u001b[0m in \u001b[0;36mget\u001b[1;34m(self, url)\u001b[0m\n\u001b[0;32m    445\u001b[0m         \u001b[0mLoads\u001b[0m \u001b[0ma\u001b[0m \u001b[0mweb\u001b[0m \u001b[0mpage\u001b[0m \u001b[1;32min\u001b[0m \u001b[0mthe\u001b[0m \u001b[0mcurrent\u001b[0m \u001b[0mbrowser\u001b[0m \u001b[0msession\u001b[0m\u001b[1;33m.\u001b[0m\u001b[1;33m\u001b[0m\u001b[1;33m\u001b[0m\u001b[0m\n\u001b[0;32m    446\u001b[0m         \"\"\"\n\u001b[1;32m--> 447\u001b[1;33m         \u001b[0mself\u001b[0m\u001b[1;33m.\u001b[0m\u001b[0mexecute\u001b[0m\u001b[1;33m(\u001b[0m\u001b[0mCommand\u001b[0m\u001b[1;33m.\u001b[0m\u001b[0mGET\u001b[0m\u001b[1;33m,\u001b[0m \u001b[1;33m{\u001b[0m\u001b[1;34m'url'\u001b[0m\u001b[1;33m:\u001b[0m \u001b[0murl\u001b[0m\u001b[1;33m}\u001b[0m\u001b[1;33m)\u001b[0m\u001b[1;33m\u001b[0m\u001b[1;33m\u001b[0m\u001b[0m\n\u001b[0m\u001b[0;32m    448\u001b[0m \u001b[1;33m\u001b[0m\u001b[0m\n\u001b[0;32m    449\u001b[0m     \u001b[1;33m@\u001b[0m\u001b[0mproperty\u001b[0m\u001b[1;33m\u001b[0m\u001b[1;33m\u001b[0m\u001b[0m\n",
      "\u001b[1;32m~\\anaconda3\\lib\\site-packages\\selenium\\webdriver\\remote\\webdriver.py\u001b[0m in \u001b[0;36mexecute\u001b[1;34m(self, driver_command, params)\u001b[0m\n\u001b[0;32m    433\u001b[0m         \u001b[0mresponse\u001b[0m \u001b[1;33m=\u001b[0m \u001b[0mself\u001b[0m\u001b[1;33m.\u001b[0m\u001b[0mcommand_executor\u001b[0m\u001b[1;33m.\u001b[0m\u001b[0mexecute\u001b[0m\u001b[1;33m(\u001b[0m\u001b[0mdriver_command\u001b[0m\u001b[1;33m,\u001b[0m \u001b[0mparams\u001b[0m\u001b[1;33m)\u001b[0m\u001b[1;33m\u001b[0m\u001b[1;33m\u001b[0m\u001b[0m\n\u001b[0;32m    434\u001b[0m         \u001b[1;32mif\u001b[0m \u001b[0mresponse\u001b[0m\u001b[1;33m:\u001b[0m\u001b[1;33m\u001b[0m\u001b[1;33m\u001b[0m\u001b[0m\n\u001b[1;32m--> 435\u001b[1;33m             \u001b[0mself\u001b[0m\u001b[1;33m.\u001b[0m\u001b[0merror_handler\u001b[0m\u001b[1;33m.\u001b[0m\u001b[0mcheck_response\u001b[0m\u001b[1;33m(\u001b[0m\u001b[0mresponse\u001b[0m\u001b[1;33m)\u001b[0m\u001b[1;33m\u001b[0m\u001b[1;33m\u001b[0m\u001b[0m\n\u001b[0m\u001b[0;32m    436\u001b[0m             response['value'] = self._unwrap_value(\n\u001b[0;32m    437\u001b[0m                 response.get('value', None))\n",
      "\u001b[1;32m~\\anaconda3\\lib\\site-packages\\selenium\\webdriver\\remote\\errorhandler.py\u001b[0m in \u001b[0;36mcheck_response\u001b[1;34m(self, response)\u001b[0m\n\u001b[0;32m    245\u001b[0m                 \u001b[0malert_text\u001b[0m \u001b[1;33m=\u001b[0m \u001b[0mvalue\u001b[0m\u001b[1;33m[\u001b[0m\u001b[1;34m'alert'\u001b[0m\u001b[1;33m]\u001b[0m\u001b[1;33m.\u001b[0m\u001b[0mget\u001b[0m\u001b[1;33m(\u001b[0m\u001b[1;34m'text'\u001b[0m\u001b[1;33m)\u001b[0m\u001b[1;33m\u001b[0m\u001b[1;33m\u001b[0m\u001b[0m\n\u001b[0;32m    246\u001b[0m             \u001b[1;32mraise\u001b[0m \u001b[0mexception_class\u001b[0m\u001b[1;33m(\u001b[0m\u001b[0mmessage\u001b[0m\u001b[1;33m,\u001b[0m \u001b[0mscreen\u001b[0m\u001b[1;33m,\u001b[0m \u001b[0mstacktrace\u001b[0m\u001b[1;33m,\u001b[0m \u001b[0malert_text\u001b[0m\u001b[1;33m)\u001b[0m  \u001b[1;31m# type: ignore[call-arg]  # mypy is not smart enough here\u001b[0m\u001b[1;33m\u001b[0m\u001b[1;33m\u001b[0m\u001b[0m\n\u001b[1;32m--> 247\u001b[1;33m         \u001b[1;32mraise\u001b[0m \u001b[0mexception_class\u001b[0m\u001b[1;33m(\u001b[0m\u001b[0mmessage\u001b[0m\u001b[1;33m,\u001b[0m \u001b[0mscreen\u001b[0m\u001b[1;33m,\u001b[0m \u001b[0mstacktrace\u001b[0m\u001b[1;33m)\u001b[0m\u001b[1;33m\u001b[0m\u001b[1;33m\u001b[0m\u001b[0m\n\u001b[0m\u001b[0;32m    248\u001b[0m \u001b[1;33m\u001b[0m\u001b[0m\n\u001b[0;32m    249\u001b[0m     \u001b[1;32mdef\u001b[0m \u001b[0m_value_or_default\u001b[0m\u001b[1;33m(\u001b[0m\u001b[0mself\u001b[0m\u001b[1;33m,\u001b[0m \u001b[0mobj\u001b[0m\u001b[1;33m:\u001b[0m \u001b[0mMapping\u001b[0m\u001b[1;33m[\u001b[0m\u001b[0m_KT\u001b[0m\u001b[1;33m,\u001b[0m \u001b[0m_VT\u001b[0m\u001b[1;33m]\u001b[0m\u001b[1;33m,\u001b[0m \u001b[0mkey\u001b[0m\u001b[1;33m:\u001b[0m \u001b[0m_KT\u001b[0m\u001b[1;33m,\u001b[0m \u001b[0mdefault\u001b[0m\u001b[1;33m:\u001b[0m \u001b[0m_VT\u001b[0m\u001b[1;33m)\u001b[0m \u001b[1;33m->\u001b[0m \u001b[0m_VT\u001b[0m\u001b[1;33m:\u001b[0m\u001b[1;33m\u001b[0m\u001b[1;33m\u001b[0m\u001b[0m\n",
      "\u001b[1;31mWebDriverException\u001b[0m: Message: unknown error: cannot determine loading status\nfrom unknown error: unexpected command response\n  (Session info: chrome=103.0.5060.114)\nStacktrace:\nBacktrace:\n\tOrdinal0 [0x00466463+2188387]\n\tOrdinal0 [0x003FE461+1762401]\n\tOrdinal0 [0x00313D78+802168]\n\tOrdinal0 [0x00307210+750096]\n\tOrdinal0 [0x0030675A+747354]\n\tOrdinal0 [0x00305D3F+744767]\n\tOrdinal0 [0x00304C28+740392]\n\tOrdinal0 [0x00305228+741928]\n\tOrdinal0 [0x0030EF2F+782127]\n\tOrdinal0 [0x00319FBB+827323]\n\tOrdinal0 [0x0031D310+840464]\n\tOrdinal0 [0x003054F6+742646]\n\tOrdinal0 [0x00319BF3+826355]\n\tOrdinal0 [0x0036CF6D+1167213]\n\tOrdinal0 [0x0035C5F6+1099254]\n\tOrdinal0 [0x00336BE0+945120]\n\tOrdinal0 [0x00337AD6+948950]\n\tGetHandleVerifier [0x007071F2+2712546]\n\tGetHandleVerifier [0x006F886D+2652765]\n\tGetHandleVerifier [0x004F002A+520730]\n\tGetHandleVerifier [0x004EEE06+516086]\n\tOrdinal0 [0x0040468B+1787531]\n\tOrdinal0 [0x00408E88+1805960]\n\tOrdinal0 [0x00408F75+1806197]\n\tOrdinal0 [0x00411DF1+1842673]\n\tBaseThreadInitThunk [0x764C6739+25]\n\tRtlGetFullPathName_UEx [0x77AE8FEF+1215]\n\tRtlGetFullPathName_UEx [0x77AE8FBD+1165]\n"
     ]
    }
   ],
   "source": [
    "url ='https://www.myntra.com/shoes'\n",
    "driver.get(url)"
   ]
  },
  {
   "cell_type": "code",
   "execution_count": 5,
   "id": "94f051b8",
   "metadata": {},
   "outputs": [
    {
     "data": {
      "text/plain": [
       "<selenium.webdriver.remote.webelement.WebElement (session=\"936aaa7c7c53006d1eea2bc3d436481f\", element=\"795dc51c-58a6-4484-b3ef-93897ba62c37\")>"
      ]
     },
     "execution_count": 5,
     "metadata": {},
     "output_type": "execute_result"
    }
   ],
   "source": [
    "# price filter\n",
    "price_filter = driver.find_element(By.XPATH,\"/html/body/div[2]/div/div[1]/main/div[3]/div[1]/section/div/div[5]/ul/li[2]/label\")\n",
    "price_filter"
   ]
  },
  {
   "cell_type": "code",
   "execution_count": 6,
   "id": "d58bf0fd",
   "metadata": {},
   "outputs": [],
   "source": [
    "price_filter.click()"
   ]
  },
  {
   "cell_type": "code",
   "execution_count": 7,
   "id": "dab5abac",
   "metadata": {},
   "outputs": [
    {
     "data": {
      "text/plain": [
       "<selenium.webdriver.remote.webelement.WebElement (session=\"936aaa7c7c53006d1eea2bc3d436481f\", element=\"947b8801-5fc6-4328-8392-d58b62ee0b71\")>"
      ]
     },
     "execution_count": 7,
     "metadata": {},
     "output_type": "execute_result"
    }
   ],
   "source": [
    "# filter black color\n",
    "color_filter = driver.find_element(By.XPATH,\"/html/body/div[2]/div/div[1]/main/div[3]/div[1]/section/div/div[6]/ul/li[1]/label\")\n",
    "color_filter"
   ]
  },
  {
   "cell_type": "code",
   "execution_count": 8,
   "id": "c451705b",
   "metadata": {},
   "outputs": [],
   "source": [
    "color_filter.click()"
   ]
  },
  {
   "cell_type": "markdown",
   "id": "4c129d86",
   "metadata": {},
   "source": [
    "## Extracting Brand Name"
   ]
  },
  {
   "cell_type": "code",
   "execution_count": 9,
   "id": "0943083b",
   "metadata": {},
   "outputs": [
    {
     "data": {
      "text/plain": [
       "50"
      ]
     },
     "execution_count": 9,
     "metadata": {},
     "output_type": "execute_result"
    }
   ],
   "source": [
    "#Now extract all brand names using parent tags\n",
    "brand = driver.find_elements(By.XPATH,'//h3[@class=\"product-brand\"]')\n",
    "len(brand)"
   ]
  },
  {
   "cell_type": "code",
   "execution_count": 10,
   "id": "8efc779f",
   "metadata": {},
   "outputs": [
    {
     "data": {
      "text/plain": [
       "50"
      ]
     },
     "execution_count": 10,
     "metadata": {},
     "output_type": "execute_result"
    }
   ],
   "source": [
    "Brand_Name = []\n",
    "\n",
    "for i in brand:\n",
    "    Brand_Name.append(i.text)\n",
    "len(Brand_Name)"
   ]
  },
  {
   "cell_type": "code",
   "execution_count": 444,
   "id": "da6eef05",
   "metadata": {},
   "outputs": [
    {
     "data": {
      "text/plain": [
       "['Chevit',\n",
       " 'Rzisbo',\n",
       " 'Airland',\n",
       " 'ZF - ALFIYA',\n",
       " 'LE GREEM',\n",
       " 'Shoes Bank',\n",
       " 'Magnolia',\n",
       " 'Scull Wings',\n",
       " 'Kzaara',\n",
       " 'BRUTON',\n",
       " 'BRUTON',\n",
       " 'PUMA',\n",
       " 'BIRDE',\n",
       " 'PUMA',\n",
       " 'ASTEROID',\n",
       " 'aadi',\n",
       " 'aadi',\n",
       " 'PUMA',\n",
       " 'SPARX',\n",
       " 'Numenzo',\n",
       " 'PUMA',\n",
       " 'Robbie jones',\n",
       " 'PEXLO',\n",
       " 'Bacan',\n",
       " 'Airland',\n",
       " 'Noztile',\n",
       " 'WHITE WALKERS',\n",
       " 'BROSS',\n",
       " 'PEXLO',\n",
       " 'AMICO',\n",
       " 'BRUTON',\n",
       " 'Ardeo',\n",
       " 'Roadster',\n",
       " 'luxury fashion',\n",
       " 'Dizzler',\n",
       " 'Ktiz',\n",
       " 'Layasa',\n",
       " 'Numenzo',\n",
       " 'Chevit',\n",
       " 'NANAMI']"
      ]
     },
     "execution_count": 444,
     "metadata": {},
     "output_type": "execute_result"
    }
   ],
   "source": [
    "Brand"
   ]
  },
  {
   "cell_type": "markdown",
   "id": "accc6a4d",
   "metadata": {},
   "source": [
    "## Extracting Shoes Discription"
   ]
  },
  {
   "cell_type": "code",
   "execution_count": 11,
   "id": "a69c61e1",
   "metadata": {},
   "outputs": [
    {
     "data": {
      "text/plain": [
       "50"
      ]
     },
     "execution_count": 11,
     "metadata": {},
     "output_type": "execute_result"
    }
   ],
   "source": [
    "# Now extract discription using parent tags\n",
    "description = driver.find_elements(By.XPATH,'//h4[@class=\"product-product\"]')\n",
    "len(description)"
   ]
  },
  {
   "cell_type": "code",
   "execution_count": 12,
   "id": "0ff58c05",
   "metadata": {},
   "outputs": [
    {
     "data": {
      "text/plain": [
       "50"
      ]
     },
     "execution_count": 12,
     "metadata": {},
     "output_type": "execute_result"
    }
   ],
   "source": [
    "Shoes_Description = []\n",
    "\n",
    "for i in description:\n",
    "    Shoes_Description.append(i.text)\n",
    "len(Shoes_Description)"
   ]
  },
  {
   "cell_type": "code",
   "execution_count": 452,
   "id": "9f740953",
   "metadata": {},
   "outputs": [
    {
     "data": {
      "text/plain": [
       "['Men React Infinity 3 Running',\n",
       " 'Men Running Shoes',\n",
       " 'Men Black Sneakers',\n",
       " 'Men Walking Shoes',\n",
       " 'Women Walking Shoes',\n",
       " 'Flex Essential Running Shoes',\n",
       " 'Men Woven Design Sneakers',\n",
       " 'Men Herlz Running Shoes',\n",
       " 'Men Walking Shoes',\n",
       " 'Men Walking Shoes',\n",
       " 'Men Leather Loafers',\n",
       " 'Men Walking Shoes',\n",
       " 'Men PU Sneakers',\n",
       " 'Men Walking Shoes',\n",
       " 'Men Walking Shoes',\n",
       " 'Men Walking Shoes',\n",
       " 'Women Walking Shoes',\n",
       " 'Men Running Shoes',\n",
       " 'Men Running Shoes',\n",
       " 'Men Solid Leather Formal Slip-Ons',\n",
       " 'Men Defiant Generation Tennis',\n",
       " 'Men Metalite Running Shoe',\n",
       " 'Men Textured Trekking Shoes',\n",
       " 'Men Solid Formal Slip On Loafers',\n",
       " 'Men PU Loafers',\n",
       " 'Men Street Run Running Shoes',\n",
       " 'Men Walking Shoes',\n",
       " 'Men PU Sneakers',\n",
       " 'Women Slides',\n",
       " 'Women Sneakers',\n",
       " 'Men Sneakers',\n",
       " 'Women Walking Shoes',\n",
       " 'Women Walking Shoes',\n",
       " 'Men Running Shoes',\n",
       " 'Men Leather Loafers',\n",
       " 'Suede Wedge Sandals',\n",
       " 'Men Loafers',\n",
       " 'Men Running Shoes',\n",
       " 'Men Sneakers',\n",
       " 'Men Running Shoes',\n",
       " 'Men Running Shoes',\n",
       " 'Women Stride Walker Shoes',\n",
       " 'Men Lightweight Flat Boots',\n",
       " 'Men SRG 3 FK Training Shoes',\n",
       " 'Men Solid Leather Formal Derby',\n",
       " 'Walking Shoes',\n",
       " 'Men Zoom C Pro HC Tennis Shoes',\n",
       " 'Women Walk Ride Running Shoes',\n",
       " 'Men Walking Shoes',\n",
       " 'Men Walking Shoes']"
      ]
     },
     "execution_count": 452,
     "metadata": {},
     "output_type": "execute_result"
    }
   ],
   "source": [
    "Shoes_Description"
   ]
  },
  {
   "cell_type": "markdown",
   "id": "2165b58e",
   "metadata": {},
   "source": [
    "## Extraxting Shoes Price"
   ]
  },
  {
   "cell_type": "code",
   "execution_count": 13,
   "id": "8badd1b4",
   "metadata": {},
   "outputs": [
    {
     "data": {
      "text/plain": [
       "50"
      ]
     },
     "execution_count": 13,
     "metadata": {},
     "output_type": "execute_result"
    }
   ],
   "source": [
    "# Now extract shoes price using parent tags\n",
    "price = driver.find_elements(By.XPATH,'//div[@class=\"product-price\"]')\n",
    "len(price)"
   ]
  },
  {
   "cell_type": "code",
   "execution_count": 14,
   "id": "8951f565",
   "metadata": {},
   "outputs": [
    {
     "data": {
      "text/plain": [
       "50"
      ]
     },
     "execution_count": 14,
     "metadata": {},
     "output_type": "execute_result"
    }
   ],
   "source": [
    "Shoe_Price = []\n",
    "\n",
    "for i in price:\n",
    "    Shoe_Price.append(i.text)\n",
    "len(Shoe_Price)"
   ]
  },
  {
   "cell_type": "code",
   "execution_count": 456,
   "id": "f8ab5e8e",
   "metadata": {},
   "outputs": [
    {
     "data": {
      "text/plain": [
       "['Rs. 11895Rs. 13995(15% OFF)',\n",
       " 'Rs. 1649Rs. 5499(70% OFF)',\n",
       " 'Rs. 2024Rs. 4499(55% OFF)',\n",
       " 'Rs. 1469Rs. 4899(70% OFF)',\n",
       " 'Rs. 1829Rs. 6099(70% OFF)',\n",
       " 'Rs. 2099Rs. 2999(30% OFF)',\n",
       " 'Rs. 1149Rs. 4499(Rs. 3350 OFF)',\n",
       " 'Rs. 1999Rs. 3999(50% OFF)',\n",
       " 'Rs. 1649Rs. 5499(70% OFF)',\n",
       " 'Rs. 1919Rs. 3199(40% OFF)',\n",
       " 'Rs. 7799Rs. 12999(40% OFF)',\n",
       " 'Rs. 1589Rs. 5299(70% OFF)',\n",
       " 'Rs. 2079Rs. 3199(35% OFF)',\n",
       " 'Rs. 1949Rs. 6499(70% OFF)',\n",
       " 'Rs. 1889Rs. 6299(70% OFF)',\n",
       " 'Rs. 1889Rs. 6299(70% OFF)',\n",
       " 'Rs. 1529Rs. 5099(70% OFF)',\n",
       " 'Rs. 1487Rs. 1599(7% OFF)',\n",
       " 'Rs. 1924Rs. 3499(45% OFF)',\n",
       " 'Rs. 7649Rs. 8999(15% OFF)',\n",
       " 'Rs. 8999Rs. 9999(10% OFF)',\n",
       " 'Rs. 2519Rs. 5599(55% OFF)',\n",
       " 'Rs. 2199Rs. 3999(45% OFF)',\n",
       " 'Rs. 2099Rs. 6999(70% OFF)',\n",
       " 'Rs. 1919Rs. 3199(40% OFF)',\n",
       " 'Rs. 2159Rs. 4799(55% OFF)',\n",
       " 'Rs. 1529Rs. 5099(70% OFF)',\n",
       " 'Rs. 2559Rs. 3199(20% OFF)',\n",
       " 'Rs. 1499',\n",
       " 'Rs. 1924Rs. 3499(45% OFF)',\n",
       " 'Rs. 2039Rs. 3399(40% OFF)',\n",
       " 'Rs. 1259Rs. 4199(70% OFF)',\n",
       " 'Rs. 1349Rs. 4499(70% OFF)',\n",
       " 'Rs. 1599Rs. 1699(Rs. 100 OFF)',\n",
       " 'Rs. 1743Rs. 2490(30% OFF)',\n",
       " 'Rs. 1733Rs. 3095(44% OFF)',\n",
       " 'Rs. 2099Rs. 6999(70% OFF)',\n",
       " 'Rs. 1574Rs. 1699(Rs. 125 OFF)',\n",
       " 'Rs. 2199Rs. 3999(45% OFF)',\n",
       " 'Rs. 1214Rs. 1349(10% OFF)',\n",
       " 'Rs. 2249Rs. 4999(55% OFF)',\n",
       " 'Rs. 1954Rs. 2299(15% OFF)',\n",
       " 'Rs. 1319Rs. 5999(78% OFF)',\n",
       " 'Rs. 8895',\n",
       " 'Rs. 2099Rs. 6999(70% OFF)',\n",
       " 'Rs. 1589Rs. 5299(70% OFF)',\n",
       " 'Rs. 7560Rs. 8895(15% OFF)',\n",
       " 'Rs. 1304Rs. 2899(55% OFF)',\n",
       " 'Rs. 1799Rs. 5999(70% OFF)',\n",
       " 'Rs. 1589Rs. 5299(70% OFF)']"
      ]
     },
     "execution_count": 456,
     "metadata": {},
     "output_type": "execute_result"
    }
   ],
   "source": [
    "Shoe_Price"
   ]
  },
  {
   "cell_type": "markdown",
   "id": "5a4a38f2",
   "metadata": {},
   "source": [
    "## Going to next page"
   ]
  },
  {
   "cell_type": "code",
   "execution_count": 15,
   "id": "bc487df8",
   "metadata": {},
   "outputs": [
    {
     "data": {
      "text/plain": [
       "<selenium.webdriver.remote.webelement.WebElement (session=\"936aaa7c7c53006d1eea2bc3d436481f\", element=\"486998f0-fcc7-4a5b-bd28-5a056e99198e\")>"
      ]
     },
     "execution_count": 15,
     "metadata": {},
     "output_type": "execute_result"
    }
   ],
   "source": [
    "next_btn = driver.find_element(By.XPATH,\"/html/body/div[2]/div/div[1]/main/div[3]/div[2]/div/div[2]/section/div[2]/ul/li[12]/a\")\n",
    "next_btn"
   ]
  },
  {
   "cell_type": "code",
   "execution_count": 16,
   "id": "a6bb6067",
   "metadata": {},
   "outputs": [],
   "source": [
    "next_btn.click()"
   ]
  },
  {
   "cell_type": "markdown",
   "id": "6777119c",
   "metadata": {},
   "source": [
    "## Extracting Brand Name From Next Page"
   ]
  },
  {
   "cell_type": "code",
   "execution_count": null,
   "id": "45f95eeb",
   "metadata": {},
   "outputs": [],
   "source": [
    "# Now extract all brand names using parent tags\n",
    "brand=driver.find_elements(By.XPATH,'//h3[@class=\"product-brand\"]') \n",
    "len(brand)"
   ]
  },
  {
   "cell_type": "code",
   "execution_count": 18,
   "id": "1dd5ae55",
   "metadata": {},
   "outputs": [
    {
     "data": {
      "text/plain": [
       "50"
      ]
     },
     "execution_count": 18,
     "metadata": {},
     "output_type": "execute_result"
    }
   ],
   "source": [
    "Brand_Name = []\n",
    "\n",
    "for i in brand:\n",
    "    Brand_Name.append(i.text)\n",
    "len(Brand_Name)"
   ]
  },
  {
   "cell_type": "code",
   "execution_count": 20,
   "id": "e4c4291c",
   "metadata": {},
   "outputs": [
    {
     "data": {
      "text/plain": [
       "['Hush Puppies',\n",
       " 'Geox',\n",
       " 'fitflop',\n",
       " 'Geox',\n",
       " 'fitflop',\n",
       " 'Geox',\n",
       " 'Puma',\n",
       " 'Columbia',\n",
       " 'UNDER ARMOUR',\n",
       " 'ASICS',\n",
       " 'Geox',\n",
       " 'Geox',\n",
       " 'Saint G',\n",
       " 'Puma',\n",
       " 'KIPRUN By Decathlon',\n",
       " 'TOMS',\n",
       " 'Bugatti',\n",
       " 'Geox',\n",
       " 'KIPRUN By Decathlon',\n",
       " 'Puma',\n",
       " 'TOMS',\n",
       " 'Cole Haan',\n",
       " 'ROSSO BRUNELLO',\n",
       " 'J.FONTINI',\n",
       " 'ADIDAS Originals',\n",
       " 'Heel & Buckle London',\n",
       " 'ROSSO BRUNELLO',\n",
       " 'Geox',\n",
       " 'Louis Philippe',\n",
       " 'J.FONTINI',\n",
       " 'Bugatti',\n",
       " 'Columbia',\n",
       " 'Heel & Buckle London',\n",
       " 'Clarks',\n",
       " 'Puma',\n",
       " 'Hush Puppies',\n",
       " 'Saint G',\n",
       " 'Geox',\n",
       " 'DAVINCHI',\n",
       " 'Geox',\n",
       " 'Saint G',\n",
       " 'fitflop',\n",
       " 'Geox',\n",
       " 'Saint G',\n",
       " 'fitflop',\n",
       " 'fitflop',\n",
       " 'fitflop',\n",
       " 'Geox',\n",
       " 'Columbia',\n",
       " 'Clarks']"
      ]
     },
     "execution_count": 20,
     "metadata": {},
     "output_type": "execute_result"
    }
   ],
   "source": [
    "Brand_Name"
   ]
  },
  {
   "cell_type": "markdown",
   "id": "e370d2be",
   "metadata": {},
   "source": [
    "## Extracting Discription"
   ]
  },
  {
   "cell_type": "code",
   "execution_count": 21,
   "id": "8627a4e5",
   "metadata": {},
   "outputs": [
    {
     "data": {
      "text/plain": [
       "50"
      ]
     },
     "execution_count": 21,
     "metadata": {},
     "output_type": "execute_result"
    }
   ],
   "source": [
    "# Now extract discription using parent tags\n",
    "description = driver.find_elements(By.XPATH,'//h4[@class=\"product-product\"]')\n",
    "len(description)"
   ]
  },
  {
   "cell_type": "code",
   "execution_count": 24,
   "id": "1b7ed3a3",
   "metadata": {},
   "outputs": [
    {
     "data": {
      "text/plain": [
       "50"
      ]
     },
     "execution_count": 24,
     "metadata": {},
     "output_type": "execute_result"
    }
   ],
   "source": [
    "Shoes_Description = []\n",
    "\n",
    "for i in description:\n",
    "    Shoes_Description.append(i.text)\n",
    "len(Shoes_Description)"
   ]
  },
  {
   "cell_type": "code",
   "execution_count": 25,
   "id": "c0731fc4",
   "metadata": {},
   "outputs": [
    {
     "data": {
      "text/plain": [
       "['Men Solid Leather Formal Slip-Ons',\n",
       " 'Women Ballerinas Flats',\n",
       " 'Flatform Sandals with Buckles',\n",
       " 'Men Perforations Sneakers',\n",
       " 'Leather Flatform Sandals',\n",
       " 'Men Leather Sneakers',\n",
       " 'Women Magnify Nitro Running',\n",
       " 'Women Trekking Shoes',\n",
       " 'Women Charged Breeze Running',\n",
       " 'Women Running Shoes',\n",
       " 'Men Leather Sneakers',\n",
       " 'Leather Block Sandals',\n",
       " 'Leather Block Sandals',\n",
       " 'Men M Nitro Running Shoess',\n",
       " 'Men Running Sports Shoes',\n",
       " 'Men Alpargata Slip-On Sneakers',\n",
       " 'Men Textured Leather High-Top Flat Boots',\n",
       " 'Men Leather Sneakers',\n",
       " 'Men Running Shoes',\n",
       " 'Unisex KING Pro 21 Football',\n",
       " 'Men Sneakers',\n",
       " 'Men GENERATION ZEROGRAND STITCHLITE',\n",
       " 'Men Leather Slip-On Sneakers',\n",
       " 'Men Leather Fashion',\n",
       " 'Women Ozelia Sneakers',\n",
       " 'Men Leather Sneakers',\n",
       " 'Men Perforations Leather Slip-On Sneakers',\n",
       " 'Men Textured Leather Sneakers',\n",
       " 'Men Textured Leather Loafers',\n",
       " 'Men Solid Loafers',\n",
       " 'Men Black Formal Derby Shoes',\n",
       " 'Cascade Peak II Jacket',\n",
       " 'Men Textured Leather Formal Loafers',\n",
       " 'Men Woven Design Suede Flat Boots',\n",
       " 'Women RS-Z Luminous Sneakers',\n",
       " 'Men Solid Formal Slip-Ons',\n",
       " 'Men Solid Leather Formal Boots',\n",
       " 'Textured Leather Block Pumps',\n",
       " 'Men Textured Formal Leather Loafers',\n",
       " 'Leather Block Pumps',\n",
       " 'Leather Block Sandals with Buckles',\n",
       " 'Embellished Leather Flatform Sandals',\n",
       " 'Women Leather Sneakers',\n",
       " 'Leather Block',\n",
       " 'Embellished Leather Flatform Sandals',\n",
       " 'Embellished PU Comfort Pumps',\n",
       " 'Embellished Leather Wedge Sandals',\n",
       " 'Women Leather Slip-On Sneakers',\n",
       " 'Women REDMOND V2 TrekkingShoe',\n",
       " 'Women Solid Leather Sneakers']"
      ]
     },
     "execution_count": 25,
     "metadata": {},
     "output_type": "execute_result"
    }
   ],
   "source": [
    "Shoes_Description"
   ]
  },
  {
   "cell_type": "markdown",
   "id": "77f274fa",
   "metadata": {},
   "source": [
    "## Extracting Shoes Price"
   ]
  },
  {
   "cell_type": "code",
   "execution_count": 26,
   "id": "9c1114ea",
   "metadata": {},
   "outputs": [
    {
     "data": {
      "text/plain": [
       "50"
      ]
     },
     "execution_count": 26,
     "metadata": {},
     "output_type": "execute_result"
    }
   ],
   "source": [
    "# Now extract shoes price using parent tags\n",
    "price = driver.find_elements(By.XPATH,'//div[@class=\"product-price\"]')\n",
    "len(price)"
   ]
  },
  {
   "cell_type": "code",
   "execution_count": 27,
   "id": "79832ea7",
   "metadata": {},
   "outputs": [
    {
     "data": {
      "text/plain": [
       "50"
      ]
     },
     "execution_count": 27,
     "metadata": {},
     "output_type": "execute_result"
    }
   ],
   "source": [
    "Shoe_Price = []\n",
    "\n",
    "for i in price:\n",
    "    Shoe_Price.append(i.text)\n",
    "len(Shoe_Price)"
   ]
  },
  {
   "cell_type": "code",
   "execution_count": 30,
   "id": "410194fa",
   "metadata": {},
   "outputs": [
    {
     "data": {
      "text/plain": [
       "['Rs. 8499Rs. 9999(15% OFF)',\n",
       " 'Rs. 9891Rs. 10990(10% OFF)',\n",
       " 'Rs. 7499',\n",
       " 'Rs. 12591Rs. 13990(10% OFF)',\n",
       " 'Rs. 7999',\n",
       " 'Rs. 12990',\n",
       " 'Rs. 9099Rs. 12999(30% OFF)',\n",
       " 'Rs. 8999',\n",
       " 'Rs. 8999',\n",
       " 'Rs. 7999',\n",
       " 'Rs. 13990',\n",
       " 'Rs. 7693Rs. 10990(30% OFF)',\n",
       " 'Rs. 9810Rs. 10900(10% OFF)',\n",
       " 'Rs. 9099Rs. 12999(30% OFF)',\n",
       " 'Rs. 10233Rs. 11899(14% OFF)',\n",
       " 'Rs. 7199Rs. 7999(10% OFF)',\n",
       " 'Rs. 7199Rs. 11999(40% OFF)',\n",
       " 'Rs. 12990',\n",
       " 'Rs. 8685Rs. 10099(14% OFF)',\n",
       " 'Rs. 7999Rs. 9999(20% OFF)',\n",
       " 'Rs. 7199Rs. 7999(10% OFF)',\n",
       " 'Rs. 11999',\n",
       " 'Rs. 8049Rs. 11499(30% OFF)',\n",
       " 'Rs. 8490',\n",
       " 'Rs. 9349Rs. 10999(15% OFF)',\n",
       " 'Rs. 11192Rs. 13990(20% OFF)',\n",
       " 'Rs. 8399Rs. 11999(30% OFF)',\n",
       " 'Rs. 9990',\n",
       " 'Rs. 9999',\n",
       " 'Rs. 8990',\n",
       " 'Rs. 11999',\n",
       " 'Rs. 7999',\n",
       " 'Rs. 11192Rs. 13990(20% OFF)',\n",
       " 'Rs. 7899Rs. 9999(21% OFF)',\n",
       " 'Rs. 8499Rs. 9999(15% OFF)',\n",
       " 'Rs. 9999',\n",
       " 'Rs. 9900Rs. 12500(Rs. 2600 OFF)',\n",
       " 'Rs. 8393Rs. 11990(30% OFF)',\n",
       " 'Rs. 8990',\n",
       " 'Rs. 8393Rs. 11990(30% OFF)',\n",
       " 'Rs. 8505Rs. 10500(19% OFF)',\n",
       " 'Rs. 8299',\n",
       " 'Rs. 12990',\n",
       " 'Rs. 9975Rs. 10500(5% OFF)',\n",
       " 'Rs. 7999',\n",
       " 'Rs. 7499',\n",
       " 'Rs. 7499',\n",
       " 'Rs. 7693Rs. 10990(30% OFF)',\n",
       " 'Rs. 7999',\n",
       " 'Rs. 7224Rs. 8499(15% OFF)']"
      ]
     },
     "execution_count": 30,
     "metadata": {},
     "output_type": "execute_result"
    }
   ],
   "source": [
    "Shoe_Price"
   ]
  },
  {
   "cell_type": "code",
   "execution_count": 35,
   "id": "68944981",
   "metadata": {},
   "outputs": [
    {
     "ename": "NameError",
     "evalue": "name 'Price' is not defined",
     "output_type": "error",
     "traceback": [
      "\u001b[1;31m---------------------------------------------------------------------------\u001b[0m",
      "\u001b[1;31mNameError\u001b[0m                                 Traceback (most recent call last)",
      "\u001b[1;32m~\\AppData\\Local\\Temp/ipykernel_6676/3039290529.py\u001b[0m in \u001b[0;36m<module>\u001b[1;34m\u001b[0m\n\u001b[0;32m      9\u001b[0m     \u001b[1;32mfor\u001b[0m \u001b[0mi\u001b[0m \u001b[1;32min\u001b[0m \u001b[0mShoe_price\u001b[0m\u001b[1;33m:\u001b[0m\u001b[1;33m\u001b[0m\u001b[1;33m\u001b[0m\u001b[0m\n\u001b[0;32m     10\u001b[0m \u001b[1;33m\u001b[0m\u001b[0m\n\u001b[1;32m---> 11\u001b[1;33m         \u001b[0mPrice\u001b[0m\u001b[1;33m.\u001b[0m\u001b[0mappend\u001b[0m\u001b[1;33m(\u001b[0m\u001b[0mi\u001b[0m\u001b[1;33m.\u001b[0m\u001b[0mtext\u001b[0m\u001b[1;33m)\u001b[0m\u001b[1;33m\u001b[0m\u001b[1;33m\u001b[0m\u001b[0m\n\u001b[0m\u001b[0;32m     12\u001b[0m \u001b[1;33m\u001b[0m\u001b[0m\n\u001b[0;32m     13\u001b[0m \u001b[0mnext_btn\u001b[0m \u001b[1;33m=\u001b[0m \u001b[0mdriver\u001b[0m\u001b[1;33m.\u001b[0m\u001b[0mfind_element\u001b[0m\u001b[1;33m(\u001b[0m\u001b[0mBy\u001b[0m\u001b[1;33m.\u001b[0m\u001b[0mXPATH\u001b[0m\u001b[1;33m,\u001b[0m\u001b[1;34m\"//li[@class='pagination-next']\"\u001b[0m\u001b[1;33m)\u001b[0m\u001b[1;31m#scraping the list of buttons from the page\u001b[0m\u001b[1;33m\u001b[0m\u001b[1;33m\u001b[0m\u001b[0m\n",
      "\u001b[1;31mNameError\u001b[0m: name 'Price' is not defined"
     ]
    }
   ],
   "source": [
    "start=0\n",
    "\n",
    "end=2\n",
    "\n",
    "for page in range(start,end):#for loop for scrapping 4 page\n",
    "\n",
    "    Shoe_price =driver.find_elements(By.CLASS_NAME,'product-price')\n",
    "\n",
    "    for i in Shoe_price:\n",
    "\n",
    "        Price.append(i.text)\n",
    "        \n",
    "next_btn = driver.find_element(By.XPATH,\"//li[@class='pagination-next']\")#scraping the list of buttons from the page\n",
    "\n",
    "try:\n",
    "\n",
    "        driver.get(next_btn[1].get_attribute('https://www.myntra.com/shoes?f=Color%3ABlack_36454f&rf=Price%3A7119.0_14079.0_7119.0%20TO%2014079.0&p=3'))#getting the link from the list for next page\n",
    "\n",
    "except:\n",
    "\n",
    "        driver.get(next_btn[0].get_attribute('https://www.myntra.com/shoes?f=Color%3ABlack_36454f&rf=Price%3A7119.0_14079.0_7119.0%20TO%2014079.0&p=3'))"
   ]
  },
  {
   "cell_type": "markdown",
   "id": "e1b5412a",
   "metadata": {},
   "source": [
    "## Q8: Go to webpage https://www.amazon.in/ Enter “Laptop” in the search field and then click the search icon. Then set CPU Type filter to “Intel Core i7” as shown in the below image: After setting the filters scrape first 10 laptops data. You have to scrape 3 attributesfor each laptop:\n",
    "1. Title\n",
    "2. Ratings\n",
    "3. Price\n"
   ]
  },
  {
   "cell_type": "code",
   "execution_count": 37,
   "id": "fef7b48c",
   "metadata": {},
   "outputs": [],
   "source": [
    "#fetching chromedriver\n",
    "driver = webdriver.Chrome(r'C:\\Users\\poonam\\Downloads\\chromedriver_win32\\chromedriver.exe')"
   ]
  },
  {
   "cell_type": "code",
   "execution_count": 38,
   "id": "2b57bd14",
   "metadata": {},
   "outputs": [],
   "source": [
    "#getting url\n",
    "url ='https://www.amazon.in/'\n",
    "driver.get(url)"
   ]
  },
  {
   "cell_type": "code",
   "execution_count": 39,
   "id": "efbca20d",
   "metadata": {},
   "outputs": [],
   "source": [
    "# looking for search bar\n",
    "search_laptop = driver.find_element(By.XPATH,\"/html/body/div[1]/header/div/div[1]/div[2]/div/form/div[2]/div[1]/input\")\n",
    "\n",
    "#searching for laptop\n",
    "search_laptop.send_keys(\"laptop\")"
   ]
  },
  {
   "cell_type": "code",
   "execution_count": 40,
   "id": "0b0bcb94",
   "metadata": {},
   "outputs": [],
   "source": [
    "#clicking on search icon\n",
    "search_btn = driver.find_element(By.XPATH,\"/html/body/div[1]/header/div/div[1]/div[2]/div/form/div[3]/div/span\")\n",
    "search_btn.click()"
   ]
  },
  {
   "cell_type": "code",
   "execution_count": 46,
   "id": "caa0f47d",
   "metadata": {},
   "outputs": [],
   "source": [
    "#cpu filter\n",
    "check_cpu = driver.find_element(By.XPATH,\"/html/body/div[1]/div[2]/div[1]/div[2]/div/div[3]/span/div[1]/div/div/div[5]/ul[2]/li[14]/span/a\")\n",
    "check_cpu.click()"
   ]
  },
  {
   "cell_type": "markdown",
   "id": "0ff2bde9",
   "metadata": {},
   "source": [
    "## Extracting title of Laptop"
   ]
  },
  {
   "cell_type": "code",
   "execution_count": 52,
   "id": "a2b09066",
   "metadata": {},
   "outputs": [
    {
     "data": {
      "text/plain": [
       "24"
      ]
     },
     "execution_count": 52,
     "metadata": {},
     "output_type": "execute_result"
    }
   ],
   "source": [
    "# Now extract title using parent tags\n",
    "title_tag = driver.find_elements(By.XPATH,'//span[@class=\"a-size-medium a-color-base a-text-normal\"]')\n",
    "len(title_tag)"
   ]
  },
  {
   "cell_type": "code",
   "execution_count": 53,
   "id": "f6df1cd3",
   "metadata": {},
   "outputs": [
    {
     "data": {
      "text/plain": [
       "24"
      ]
     },
     "execution_count": 53,
     "metadata": {},
     "output_type": "execute_result"
    }
   ],
   "source": [
    "Title = []\n",
    "for i in title_tag:\n",
    "        Title.append(i.text)\n",
    "len(Title)"
   ]
  },
  {
   "cell_type": "code",
   "execution_count": 54,
   "id": "854ed5ae",
   "metadata": {},
   "outputs": [
    {
     "data": {
      "text/plain": [
       "['ASUS TUF Gaming F15 (2021), 15.6\" (39.62 cms) FHD 144Hz, Intel Core i7-11600H 11th Gen, 4GB RTX 3050 Graphics, Gaming Laptop (16GB/512GB SSD/Windows 10/Office 2019/Gray/2.3 Kg), FX566HCB-HN299TS',\n",
       " 'ASUS Vivobook 15, 15.6-inch (39.62 cms) FHD, Intel Core i7-1065G7 10th Gen, Thin and Light Laptop (16GB/512GB SSD/Iris Plus Graphics/Windows 11/Office 2021/Silver/1.8 kg), X515JA-EJ701WS',\n",
       " 'Infinix INBook X1 Pro Core i7 10th Gen - (16 GB/512 GB SSD/Windows 11 Home) XL12 Thin and Light Laptop (14 Inch, Noble Red, 1.48 kg)',\n",
       " 'Lenovo IdeaPad Slim 5 Pro Intel Core i7 11th Gen 14\" (35.56cm) 2.2K IPS Thin & Light Laptop (16GB/512GB SSD/Win11/Office 2021/Backlit/3Yr Warranty/3months Game Pass/Storm Grey/1.38Kg), 82L3006YIN',\n",
       " 'Hp Pavilion 15 12Th Gen Intel Core I7 16Gb Sdram/1Tb Ssd 15.6 Inches (39.6Cm) Fhd,IPS/Intel Iris Xe Graphics/B&O/Windows 11 Home/Alexa/Backlit Kb/Fpr/Mso 2021/1.75Kg, 15-Eg2039Tu, Natural Silver',\n",
       " 'ASUS Zenbook 14 OLED (2022), 14\" (35.56 cms) 2.8K OLED 16:10 90Hz, Intel Core Evo i7-1260P 12th Gen, Thin and Light Laptop (16GB/512GB SSD/Windows 11/Office 2021/Blue/1.39 kg), UX3402ZA-KM731WS',\n",
       " 'Lenovo ThinkPad E14 Intel Core i7 11th Gen 14-inch (35.56cm) FHD TN Antiglare Thin and Light Laptop (16GB RAM/512GB SSD/Windows 11 Home/Microsoft Office H&S 2021/FPR/Black/1.59 kg), 20TAS1B400',\n",
       " 'Hp Pavilion X360 11Th Gen Intel Core I7 14 Inches Fhd Multitouch 2In1 Laptop (16Gb Ram/512Gb Ssd/B&O/Windows 11 Home/Fpr/Backlit Kb/Intel Iris Xe Graphics/Pen/Alexa/Ms Office/Silver/1.52Kg)14-Dy1047Tu',\n",
       " 'ASUS TUF Dash F15 (2022), 15.6-inch (39.62 cms) FHD 144Hz, Intel Core i7-12650H 12th Gen, RTX 3060 6GB Graphics, Gaming Laptop (16GB/512GB SSD/Windows 11/Office 2021/Black/2 kg), FX517ZM-HN041WS',\n",
       " '(Renewed) Lenovo IdeaPad Slim 3i (82H801CSIN) Intel Core i5-1135G7 15.6 inches FHD Laptop (8GB /256GB SSD /Iris Xe Graphics /Windows 10 Home SL) Arctic Grey, 2.2kg',\n",
       " '(Renewed) Dell Latitude E7470 Intel Core i7 6th Gen 14 inches Laptop /16 GB RAM/512 GB SSD/Windows 10 Pro/MS Office/HD Display/Integrated Graphics, 1.9 kg',\n",
       " '(Renewed) Dell Intel Core i7 7th Gen 14.Inch(35.6 cms) (1920 x 1080)FHD TOUCHSCREEN Laptop (32GB RAM/512GB SSD/Windows 10 Pro/MS Office/Intel HD Integrated Graphics/ Black/1.18Kg,Black) Latitude E7480',\n",
       " '(Renewed) Dell Intel Core i7 7th Gen 14.Inch(35.6 cms) (1920 x 1080)FHD TOUCHSCREEN Laptop (32GB RAM /2TB HDD/Windows 10 Pro/MS Office/Intel HD Integrated Graphics/ Black/1.18Kg,Black) Latitude E7480',\n",
       " '(Renewed) Dell 7480 Intel Core i7 14-Inch (35.56 cms) Full HD (1920 X 1080) Laptop (16 GB/256 SSD/Windows 10 Pro/Integrated_graphics/Black/2.16 Kg), TFJ45',\n",
       " '(Renewed) DELL Inspiron 5593 15.6-inch Laptop (10th Gen Core i7-1065G7/8GB/1TB HDD, 512GB SSD/Windows 10 Home Plus/4GB NVIDIA MX230 GDDR5 Graphics), Platinum Silver',\n",
       " '(Renewed) ASUS VivoBook 14 (2021), 14-inch (35.56 cms) FHD, Intel Core i7-1065G7 10th Gen, Thin and Light Laptop (16GB/512GB SSD/Integrated Graphics/Office 2021/Windows 11/Silver/1.6 Kg), X415JA-EK701WS',\n",
       " 'Lenovo ThinkBook 13s Intel 10th Gen Core i5 13.3\" Laptop (8GB/1TB SSD/Win10/1.26 Kg), 20V9A05GIH',\n",
       " 'ASUS Vivobook S15 OLED (2022), 15.6\" (39.62 cms) FHD OLED, Intel Core Evo i7-12700H 12th Gen, Thin and Light Laptop (16GB/512GB SSD/Iris Xe Graphics/Windows 11/Office 2021/Grey/1.8 kg), K3502ZA-L701WS',\n",
       " '(Renewed) Lenovo Intel 5th Gen Core i7 14 Inch(35.56 cms) 1366 x 768 HD Laptop (16GB RAM /1TB SSD/Windows 10 Pro/MS Office/ Intel HD graphics,Black,2.0kg) Lenovo ThinkPad T450',\n",
       " '(Renewed) Dell Latitude e5480 Intel Core i7 6th Gen 14 inches Laptop /16 GB RAM/512 GB SSD/Windows 10 Pro/MS Office/HD Display/Integrated Graphics, 1.8 kg',\n",
       " '(Renewed) Dell Latitude e5480 Intel Core i7 6th Gen 14 inches Laptop /8 GB RAM/256 GB SSD/Windows 10 Pro/MS Office/HD Display/Integrated Graphics, 1.8 kg',\n",
       " '(Renewed) Dell Latitude Laptop E7480 Intel Core i7 - 7600u Processor 7th Gen, 16 GB Ram & 512 GB SSD, 14.1 Inches (Ultra Slim & Feather Light 1.37KG) Notebook Computer',\n",
       " '(Refurbished) Dell Latitude E6440-i7-8 GB-320 GB 14-inch Laptop (4th Gen Core i7/8GB/320GB/Windows 10/Integrated Graphics), Silver',\n",
       " '(Renewed) HP 840G1 Elitebook 14 Inch Screen Laptop (4th Gen Intel Core i7 - 4600u /8 GB/500 GB HDD/Widnows 10 Pro), Black-Grey']"
      ]
     },
     "execution_count": 54,
     "metadata": {},
     "output_type": "execute_result"
    }
   ],
   "source": [
    "Title"
   ]
  },
  {
   "cell_type": "markdown",
   "id": "895c4cd1",
   "metadata": {},
   "source": [
    "## Extracting Price"
   ]
  },
  {
   "cell_type": "code",
   "execution_count": 55,
   "id": "d7861bc4",
   "metadata": {},
   "outputs": [
    {
     "data": {
      "text/plain": [
       "26"
      ]
     },
     "execution_count": 55,
     "metadata": {},
     "output_type": "execute_result"
    }
   ],
   "source": [
    "# Now extract title using parent tags\n",
    "price_tag = driver.find_elements(By.XPATH,'//span[@class=\"a-price-whole\"]')\n",
    "len(price_tag)"
   ]
  },
  {
   "cell_type": "code",
   "execution_count": 56,
   "id": "e2a391ec",
   "metadata": {},
   "outputs": [
    {
     "data": {
      "text/plain": [
       "26"
      ]
     },
     "execution_count": 56,
     "metadata": {},
     "output_type": "execute_result"
    }
   ],
   "source": [
    "Price = []\n",
    "for i in price_tag:\n",
    "        Price.append(i.text)\n",
    "len(Price)"
   ]
  },
  {
   "cell_type": "code",
   "execution_count": 57,
   "id": "564bf375",
   "metadata": {},
   "outputs": [
    {
     "data": {
      "text/plain": [
       "['89,990',\n",
       " '76,492',\n",
       " '57,890',\n",
       " '53,999',\n",
       " '75,990',\n",
       " '64,592',\n",
       " '87,900',\n",
       " '1,07,794',\n",
       " '94,990',\n",
       " '82,990',\n",
       " '1,26,990',\n",
       " '38,325',\n",
       " '39,189',\n",
       " '55,895',\n",
       " '56,995',\n",
       " '40,082',\n",
       " '60,990',\n",
       " '51,490',\n",
       " '88,950',\n",
       " '94,990',\n",
       " '49,299',\n",
       " '38,998',\n",
       " '33,890',\n",
       " '45,298',\n",
       " '33,490',\n",
       " '34,690']"
      ]
     },
     "execution_count": 57,
     "metadata": {},
     "output_type": "execute_result"
    }
   ],
   "source": [
    "Price"
   ]
  },
  {
   "cell_type": "markdown",
   "id": "19b2e30c",
   "metadata": {},
   "source": [
    "## Q9: Write a python program to scrape data for first 10 job results for Data Scientist Designation in Noida location. You have to scrape company name, No. of days ago when job was posted, Rating of the company. This task will be done in following steps:\n",
    "1. First get the webpage https://www.ambitionbox.com/\n",
    "2. Click on the Job option as shown in the image\n",
    "3. After reaching to the next webpage, In place of “Search by Designations, Companies, Skills” enter “Data Scientist” and click on search button.\n",
    "4. You will reach to the following web page click on location and in place of “Search location” enter “Noida” and select location “Noida”.\n",
    "5. Then scrape the data for the first 10 jobs results you get on the above shown page.\n",
    "6. Finally create a dataframe of the scraped data."
   ]
  },
  {
   "cell_type": "code",
   "execution_count": 79,
   "id": "ba9f79c1",
   "metadata": {},
   "outputs": [],
   "source": [
    "# Connect to web driver\n",
    "driver = webdriver.Chrome(r'C:\\Users\\poonam\\Downloads\\chromedriver_win32\\chromedriver.exe')"
   ]
  },
  {
   "cell_type": "code",
   "execution_count": 80,
   "id": "1c395bb3",
   "metadata": {},
   "outputs": [],
   "source": [
    "#getting url\n",
    "url ='https://www.ambitionbox.com/'\n",
    "driver.get(url)"
   ]
  },
  {
   "cell_type": "code",
   "execution_count": 81,
   "id": "1bd0a514",
   "metadata": {},
   "outputs": [
    {
     "data": {
      "text/plain": [
       "<selenium.webdriver.remote.webelement.WebElement (session=\"6c99ecc2e2949d24ebcbb5b025034763\", element=\"50540552-d4a9-4b92-9069-52ceed0ec988\")>"
      ]
     },
     "execution_count": 81,
     "metadata": {},
     "output_type": "execute_result"
    }
   ],
   "source": [
    "# Click on job botton\n",
    "job_click = driver.find_element(By.XPATH,\"/html/body/div[1]/nav/nav/a[6]\")\n",
    "job_click"
   ]
  },
  {
   "cell_type": "code",
   "execution_count": 82,
   "id": "9c5e6a7c",
   "metadata": {},
   "outputs": [],
   "source": [
    "job_click.click()"
   ]
  },
  {
   "cell_type": "code",
   "execution_count": 83,
   "id": "1bf488c4",
   "metadata": {},
   "outputs": [
    {
     "data": {
      "text/plain": [
       "<bound method WebElement.send_keys of <selenium.webdriver.remote.webelement.WebElement (session=\"6c99ecc2e2949d24ebcbb5b025034763\", element=\"47cc1827-f09d-4d25-b253-64b2aa918c9a\")>>"
      ]
     },
     "execution_count": 83,
     "metadata": {},
     "output_type": "execute_result"
    }
   ],
   "source": [
    "# Finding web element for search web bar for using id\n",
    "search_job = driver.find_element(By.XPATH,\"/html/body/div/div/div/div[2]/div[1]/div[1]/div/div/div/div/span/input\")\n",
    "search_job.send_keys"
   ]
  },
  {
   "cell_type": "code",
   "execution_count": 84,
   "id": "b37a4728",
   "metadata": {},
   "outputs": [],
   "source": [
    "search_job.send_keys('Data Scientist')"
   ]
  },
  {
   "cell_type": "code",
   "execution_count": 85,
   "id": "1adf9676",
   "metadata": {},
   "outputs": [],
   "source": [
    "search_btn = driver.find_element(By.XPATH,\"/html/body/div/div/div/div[2]/div[1]/div[1]/div/div/div/button/span\")\n",
    "search_btn.click()"
   ]
  },
  {
   "cell_type": "code",
   "execution_count": 86,
   "id": "75426bcf",
   "metadata": {
    "scrolled": true
   },
   "outputs": [],
   "source": [
    "#clicking on location\n",
    "locn_btn = driver.find_element(By.XPATH,\"/html/body/div/div/div/div[2]/div[1]/div[2]/div[1]/div/div/div/div[2]/div[1]\")\n",
    "locn_btn.click()"
   ]
  },
  {
   "cell_type": "code",
   "execution_count": 87,
   "id": "a69e9283",
   "metadata": {},
   "outputs": [],
   "source": [
    "#writing desired location in location search bar\n",
    "search_locn=driver.find_element(By.XPATH,\"/html/body/div/div/div/div[2]/div[1]/div[2]/div[1]/div/div/div/div[2]/div[2]/div/div[2]/input\") \n",
    "search_locn.send_keys('Noida')"
   ]
  },
  {
   "cell_type": "code",
   "execution_count": 88,
   "id": "39f14f1e",
   "metadata": {},
   "outputs": [],
   "source": [
    "#clicking on desired location\n",
    "locn_noida = driver.find_element(By.XPATH,\"/html/body/div/div/div/div[2]/div[1]/div[2]/div[1]/div/div/div/div[2]/div[2]/div/div[3]/div[1]/div[1]/div/label\")\n",
    "locn_noida.click()"
   ]
  },
  {
   "cell_type": "markdown",
   "id": "828fb25f",
   "metadata": {},
   "source": [
    "## Extracting JOb Title"
   ]
  },
  {
   "cell_type": "code",
   "execution_count": 94,
   "id": "fad3e8a3",
   "metadata": {},
   "outputs": [
    {
     "data": {
      "text/plain": [
       "10"
      ]
     },
     "execution_count": 94,
     "metadata": {},
     "output_type": "execute_result"
    }
   ],
   "source": [
    "# Extracts all web element having job titles\n",
    "Job_title = driver.find_elements(By.XPATH,'//a[@class=\"title noclick\"]')\n",
    "len(Job_title)"
   ]
  },
  {
   "cell_type": "code",
   "execution_count": 99,
   "id": "2bac5259",
   "metadata": {},
   "outputs": [
    {
     "data": {
      "text/plain": [
       "10"
      ]
     },
     "execution_count": 99,
     "metadata": {},
     "output_type": "execute_result"
    }
   ],
   "source": [
    "# Now the text of job title is inside the web elements extracted above\n",
    "# so we will run a for loop to iterate over the tags and will extract\n",
    "title_job= []\n",
    "\n",
    "for i in Job_title:\n",
    "    title_job.append(i.text)\n",
    "len(title_job)"
   ]
  },
  {
   "cell_type": "code",
   "execution_count": 100,
   "id": "5f85cba1",
   "metadata": {},
   "outputs": [
    {
     "data": {
      "text/plain": [
       "['Senior Data Scientist',\n",
       " 'Data Scientist- Forecasting and R or Python',\n",
       " 'Data Scientist - Machine Learning Algorithms (3-8 yrs)',\n",
       " 'Data Scientist - Machine Learning/Big Data (0-4 yrs)',\n",
       " 'Info Edge - Data Scientist - Machine Learning/NLP (0-2 yrs)',\n",
       " 'Info Edge - Senior Data Scientist - Machine Learning/Deep Learning (3-5 yrs)',\n",
       " 'LatentBridge - Data Scientist - Python/R (2-6 yrs)',\n",
       " 'Data Science Trainer | AI | Machine Learning | Python |',\n",
       " 'Principal Scientist - Machine Learning - IT (15-26 yrs)',\n",
       " 'Data Scientist - NLP']"
      ]
     },
     "execution_count": 100,
     "metadata": {},
     "output_type": "execute_result"
    }
   ],
   "source": [
    "title_job"
   ]
  },
  {
   "cell_type": "markdown",
   "id": "8556759a",
   "metadata": {},
   "source": [
    "## Extracting designation"
   ]
  },
  {
   "cell_type": "code",
   "execution_count": 106,
   "id": "33ec52df",
   "metadata": {},
   "outputs": [
    {
     "data": {
      "text/plain": [
       "10"
      ]
     },
     "execution_count": 106,
     "metadata": {},
     "output_type": "execute_result"
    }
   ],
   "source": [
    "# Extracts all web element having job designation\n",
    "Job_designation = driver.find_elements(By.XPATH,'//a[@class=\"title noclick\"]')\n",
    "len(Job_designation)"
   ]
  },
  {
   "cell_type": "code",
   "execution_count": 107,
   "id": "b2bc67e9",
   "metadata": {},
   "outputs": [
    {
     "data": {
      "text/plain": [
       "10"
      ]
     },
     "execution_count": 107,
     "metadata": {},
     "output_type": "execute_result"
    }
   ],
   "source": [
    "# Now the text of job designation is inside the web elements extracted above\n",
    "# so we will run a for loop to iterate over the tags and will extract\n",
    "Designation= []\n",
    "\n",
    "for i in Job_designation:\n",
    "    Designation.append(i.text)\n",
    "len(Designation)"
   ]
  },
  {
   "cell_type": "code",
   "execution_count": 108,
   "id": "1c17e18d",
   "metadata": {},
   "outputs": [
    {
     "data": {
      "text/plain": [
       "['Senior Data Scientist',\n",
       " 'Data Scientist- Forecasting and R or Python',\n",
       " 'Data Scientist - Machine Learning Algorithms (3-8 yrs)',\n",
       " 'Data Scientist - Machine Learning/Big Data (0-4 yrs)',\n",
       " 'Info Edge - Data Scientist - Machine Learning/NLP (0-2 yrs)',\n",
       " 'Info Edge - Senior Data Scientist - Machine Learning/Deep Learning (3-5 yrs)',\n",
       " 'LatentBridge - Data Scientist - Python/R (2-6 yrs)',\n",
       " 'Data Science Trainer | AI | Machine Learning | Python |',\n",
       " 'Principal Scientist - Machine Learning - IT (15-26 yrs)',\n",
       " 'Data Scientist - NLP']"
      ]
     },
     "execution_count": 108,
     "metadata": {},
     "output_type": "execute_result"
    }
   ],
   "source": [
    "Designation"
   ]
  },
  {
   "cell_type": "markdown",
   "id": "77def62b",
   "metadata": {},
   "source": [
    "## Extracting Company Name"
   ]
  },
  {
   "cell_type": "code",
   "execution_count": 109,
   "id": "49bd1309",
   "metadata": {},
   "outputs": [
    {
     "data": {
      "text/plain": [
       "11"
      ]
     },
     "execution_count": 109,
     "metadata": {},
     "output_type": "execute_result"
    }
   ],
   "source": [
    "# Extracts all web element having job designation\n",
    "cmp_tag = driver.find_elements(By.XPATH,'//p[@class=\"company body-medium\"]')\n",
    "len(cmp_tag)"
   ]
  },
  {
   "cell_type": "code",
   "execution_count": 111,
   "id": "5a479f35",
   "metadata": {},
   "outputs": [
    {
     "data": {
      "text/plain": [
       "['Optum Global Solutions (India) Private Limited',\n",
       " 'Optum Global Solutions (India) Private Limited',\n",
       " 'GENPACT India Private Limited',\n",
       " 'Dew Solutions Pvt. Ltd.',\n",
       " 'InfoEdge India Ltd.',\n",
       " 'Info Edge India Limited',\n",
       " 'Info Edge India Limited',\n",
       " 'Latent bridge',\n",
       " 'Careerera',\n",
       " 'Careernet Consulting',\n",
       " 'Acidaes Solutions Pvt. Ltd.']"
      ]
     },
     "execution_count": 111,
     "metadata": {},
     "output_type": "execute_result"
    }
   ],
   "source": [
    "Company =[]\n",
    "\n",
    "for i in cmp_tag:\n",
    "    Company.append(i.text)\n",
    "Company\n",
    "    "
   ]
  },
  {
   "cell_type": "code",
   "execution_count": 112,
   "id": "9b2dee65",
   "metadata": {},
   "outputs": [
    {
     "data": {
      "text/plain": [
       "12"
      ]
     },
     "execution_count": 112,
     "metadata": {},
     "output_type": "execute_result"
    }
   ],
   "source": [
    "# Extracts all web element having job titles\n",
    "rating_tag = driver.find_elements(By.XPATH,'//i[@class=\"icon icon-star\"]')\n",
    "len(rating_tag)\n"
   ]
  },
  {
   "cell_type": "code",
   "execution_count": 113,
   "id": "9a46e9dd",
   "metadata": {},
   "outputs": [
    {
     "data": {
      "text/plain": [
       "['', '', '', '', '', '', '', '', '', '', '', '']"
      ]
     },
     "execution_count": 113,
     "metadata": {},
     "output_type": "execute_result"
    }
   ],
   "source": [
    "Rating =[]\n",
    "\n",
    "for i in rating_tag:\n",
    "    Rating.append(i.text)\n",
    "Rating"
   ]
  },
  {
   "cell_type": "code",
   "execution_count": 114,
   "id": "7419254d",
   "metadata": {},
   "outputs": [
    {
     "data": {
      "text/plain": [
       "(12, 10, 11)"
      ]
     },
     "execution_count": 114,
     "metadata": {},
     "output_type": "execute_result"
    }
   ],
   "source": [
    "len(Rating), len(Designation), len(Company)"
   ]
  },
  {
   "cell_type": "code",
   "execution_count": 115,
   "id": "dac087ad",
   "metadata": {},
   "outputs": [
    {
     "ename": "ValueError",
     "evalue": "Length of values (10) does not match length of index (11)",
     "output_type": "error",
     "traceback": [
      "\u001b[1;31m---------------------------------------------------------------------------\u001b[0m",
      "\u001b[1;31mValueError\u001b[0m                                Traceback (most recent call last)",
      "\u001b[1;32m~\\AppData\\Local\\Temp/ipykernel_6676/2120772593.py\u001b[0m in \u001b[0;36m<module>\u001b[1;34m\u001b[0m\n\u001b[0;32m      2\u001b[0m \u001b[0mjobs\u001b[0m \u001b[1;33m=\u001b[0m \u001b[0mpd\u001b[0m\u001b[1;33m.\u001b[0m\u001b[0mDataFrame\u001b[0m\u001b[1;33m(\u001b[0m\u001b[1;33m)\u001b[0m\u001b[1;33m\u001b[0m\u001b[1;33m\u001b[0m\u001b[0m\n\u001b[0;32m      3\u001b[0m \u001b[0mjobs\u001b[0m\u001b[1;33m[\u001b[0m\u001b[1;34m'COMPANY NAME'\u001b[0m\u001b[1;33m]\u001b[0m \u001b[1;33m=\u001b[0m \u001b[0mCompany\u001b[0m\u001b[1;33m\u001b[0m\u001b[1;33m\u001b[0m\u001b[0m\n\u001b[1;32m----> 4\u001b[1;33m \u001b[0mjobs\u001b[0m\u001b[1;33m[\u001b[0m\u001b[1;34m'DESIGNATION'\u001b[0m\u001b[1;33m]\u001b[0m \u001b[1;33m=\u001b[0m \u001b[0mDesignation\u001b[0m\u001b[1;33m\u001b[0m\u001b[1;33m\u001b[0m\u001b[0m\n\u001b[0m\u001b[0;32m      5\u001b[0m \u001b[0mjobs\u001b[0m\u001b[1;33m[\u001b[0m\u001b[1;34m'RATING'\u001b[0m\u001b[1;33m]\u001b[0m \u001b[1;33m=\u001b[0m \u001b[0mRating\u001b[0m\u001b[1;33m\u001b[0m\u001b[1;33m\u001b[0m\u001b[0m\n\u001b[0;32m      6\u001b[0m \u001b[0mjobs\u001b[0m\u001b[1;33m\u001b[0m\u001b[1;33m\u001b[0m\u001b[0m\n",
      "\u001b[1;32m~\\anaconda3\\lib\\site-packages\\pandas\\core\\frame.py\u001b[0m in \u001b[0;36m__setitem__\u001b[1;34m(self, key, value)\u001b[0m\n\u001b[0;32m   3610\u001b[0m         \u001b[1;32melse\u001b[0m\u001b[1;33m:\u001b[0m\u001b[1;33m\u001b[0m\u001b[1;33m\u001b[0m\u001b[0m\n\u001b[0;32m   3611\u001b[0m             \u001b[1;31m# set column\u001b[0m\u001b[1;33m\u001b[0m\u001b[1;33m\u001b[0m\u001b[0m\n\u001b[1;32m-> 3612\u001b[1;33m             \u001b[0mself\u001b[0m\u001b[1;33m.\u001b[0m\u001b[0m_set_item\u001b[0m\u001b[1;33m(\u001b[0m\u001b[0mkey\u001b[0m\u001b[1;33m,\u001b[0m \u001b[0mvalue\u001b[0m\u001b[1;33m)\u001b[0m\u001b[1;33m\u001b[0m\u001b[1;33m\u001b[0m\u001b[0m\n\u001b[0m\u001b[0;32m   3613\u001b[0m \u001b[1;33m\u001b[0m\u001b[0m\n\u001b[0;32m   3614\u001b[0m     \u001b[1;32mdef\u001b[0m \u001b[0m_setitem_slice\u001b[0m\u001b[1;33m(\u001b[0m\u001b[0mself\u001b[0m\u001b[1;33m,\u001b[0m \u001b[0mkey\u001b[0m\u001b[1;33m:\u001b[0m \u001b[0mslice\u001b[0m\u001b[1;33m,\u001b[0m \u001b[0mvalue\u001b[0m\u001b[1;33m)\u001b[0m\u001b[1;33m:\u001b[0m\u001b[1;33m\u001b[0m\u001b[1;33m\u001b[0m\u001b[0m\n",
      "\u001b[1;32m~\\anaconda3\\lib\\site-packages\\pandas\\core\\frame.py\u001b[0m in \u001b[0;36m_set_item\u001b[1;34m(self, key, value)\u001b[0m\n\u001b[0;32m   3782\u001b[0m         \u001b[0mensure\u001b[0m \u001b[0mhomogeneity\u001b[0m\u001b[1;33m.\u001b[0m\u001b[1;33m\u001b[0m\u001b[1;33m\u001b[0m\u001b[0m\n\u001b[0;32m   3783\u001b[0m         \"\"\"\n\u001b[1;32m-> 3784\u001b[1;33m         \u001b[0mvalue\u001b[0m \u001b[1;33m=\u001b[0m \u001b[0mself\u001b[0m\u001b[1;33m.\u001b[0m\u001b[0m_sanitize_column\u001b[0m\u001b[1;33m(\u001b[0m\u001b[0mvalue\u001b[0m\u001b[1;33m)\u001b[0m\u001b[1;33m\u001b[0m\u001b[1;33m\u001b[0m\u001b[0m\n\u001b[0m\u001b[0;32m   3785\u001b[0m \u001b[1;33m\u001b[0m\u001b[0m\n\u001b[0;32m   3786\u001b[0m         if (\n",
      "\u001b[1;32m~\\anaconda3\\lib\\site-packages\\pandas\\core\\frame.py\u001b[0m in \u001b[0;36m_sanitize_column\u001b[1;34m(self, value)\u001b[0m\n\u001b[0;32m   4507\u001b[0m \u001b[1;33m\u001b[0m\u001b[0m\n\u001b[0;32m   4508\u001b[0m         \u001b[1;32mif\u001b[0m \u001b[0mis_list_like\u001b[0m\u001b[1;33m(\u001b[0m\u001b[0mvalue\u001b[0m\u001b[1;33m)\u001b[0m\u001b[1;33m:\u001b[0m\u001b[1;33m\u001b[0m\u001b[1;33m\u001b[0m\u001b[0m\n\u001b[1;32m-> 4509\u001b[1;33m             \u001b[0mcom\u001b[0m\u001b[1;33m.\u001b[0m\u001b[0mrequire_length_match\u001b[0m\u001b[1;33m(\u001b[0m\u001b[0mvalue\u001b[0m\u001b[1;33m,\u001b[0m \u001b[0mself\u001b[0m\u001b[1;33m.\u001b[0m\u001b[0mindex\u001b[0m\u001b[1;33m)\u001b[0m\u001b[1;33m\u001b[0m\u001b[1;33m\u001b[0m\u001b[0m\n\u001b[0m\u001b[0;32m   4510\u001b[0m         \u001b[1;32mreturn\u001b[0m \u001b[0msanitize_array\u001b[0m\u001b[1;33m(\u001b[0m\u001b[0mvalue\u001b[0m\u001b[1;33m,\u001b[0m \u001b[0mself\u001b[0m\u001b[1;33m.\u001b[0m\u001b[0mindex\u001b[0m\u001b[1;33m,\u001b[0m \u001b[0mcopy\u001b[0m\u001b[1;33m=\u001b[0m\u001b[1;32mTrue\u001b[0m\u001b[1;33m,\u001b[0m \u001b[0mallow_2d\u001b[0m\u001b[1;33m=\u001b[0m\u001b[1;32mTrue\u001b[0m\u001b[1;33m)\u001b[0m\u001b[1;33m\u001b[0m\u001b[1;33m\u001b[0m\u001b[0m\n\u001b[0;32m   4511\u001b[0m \u001b[1;33m\u001b[0m\u001b[0m\n",
      "\u001b[1;32m~\\anaconda3\\lib\\site-packages\\pandas\\core\\common.py\u001b[0m in \u001b[0;36mrequire_length_match\u001b[1;34m(data, index)\u001b[0m\n\u001b[0;32m    529\u001b[0m     \"\"\"\n\u001b[0;32m    530\u001b[0m     \u001b[1;32mif\u001b[0m \u001b[0mlen\u001b[0m\u001b[1;33m(\u001b[0m\u001b[0mdata\u001b[0m\u001b[1;33m)\u001b[0m \u001b[1;33m!=\u001b[0m \u001b[0mlen\u001b[0m\u001b[1;33m(\u001b[0m\u001b[0mindex\u001b[0m\u001b[1;33m)\u001b[0m\u001b[1;33m:\u001b[0m\u001b[1;33m\u001b[0m\u001b[1;33m\u001b[0m\u001b[0m\n\u001b[1;32m--> 531\u001b[1;33m         raise ValueError(\n\u001b[0m\u001b[0;32m    532\u001b[0m             \u001b[1;34m\"Length of values \"\u001b[0m\u001b[1;33m\u001b[0m\u001b[1;33m\u001b[0m\u001b[0m\n\u001b[0;32m    533\u001b[0m             \u001b[1;34mf\"({len(data)}) \"\u001b[0m\u001b[1;33m\u001b[0m\u001b[1;33m\u001b[0m\u001b[0m\n",
      "\u001b[1;31mValueError\u001b[0m: Length of values (10) does not match length of index (11)"
     ]
    }
   ],
   "source": [
    "# Create Data Frame\n",
    "jobs = pd.DataFrame()\n",
    "jobs['COMPANY NAME'] = Company\n",
    "jobs['DESIGNATION'] = Designation\n",
    "jobs['RATING'] = Rating\n",
    "jobs"
   ]
  },
  {
   "cell_type": "markdown",
   "id": "8b4f02a5",
   "metadata": {},
   "source": [
    "## Q10: Write a python program to scrape the salary data for Data Scientist designation. You have to scrape Company name, Number of salaries, Average salary, Minsalary, Max Salary. The above task will be, done as shown in the below steps:\n",
    "1. First get the webpage https://www.ambitionbox.com/\n",
    "2. Click on the salaries option as shown in the image.\n",
    "You have to scrape the data ticked in the above image.\n",
    "4. Scrape the data for the first 10 companies. Scrape the company name, total salary record, average \n",
    "salary, minimum salary, maximum salary, experience required.\n",
    "5. Store the data in a dataframe."
   ]
  },
  {
   "cell_type": "code",
   "execution_count": 116,
   "id": "a6ad4bb2",
   "metadata": {},
   "outputs": [],
   "source": [
    "#fetching chromedriver\n",
    "driver = webdriver.Chrome(r'C:\\Users\\poonam\\Downloads\\chromedriver_win32\\chromedriver.exe')"
   ]
  },
  {
   "cell_type": "code",
   "execution_count": 117,
   "id": "807a823b",
   "metadata": {},
   "outputs": [],
   "source": [
    "#getting url\n",
    "url ='https://www.ambitionbox.com/'\n",
    "driver.get(url)"
   ]
  },
  {
   "cell_type": "code",
   "execution_count": 118,
   "id": "50db6f56",
   "metadata": {},
   "outputs": [
    {
     "data": {
      "text/plain": [
       "<selenium.webdriver.remote.webelement.WebElement (session=\"277efa2d404fc066c11f81ab0d2df138\", element=\"62d3f486-f1d1-4e6a-9dc1-261e0bb4d951\")>"
      ]
     },
     "execution_count": 118,
     "metadata": {},
     "output_type": "execute_result"
    }
   ],
   "source": [
    "# Click on salary botton\n",
    "salary_click = driver.find_element(By.XPATH,\"/html/body/div[1]/nav/nav/a[4]\")\n",
    "salary_click"
   ]
  },
  {
   "cell_type": "code",
   "execution_count": 119,
   "id": "5f4c27d0",
   "metadata": {},
   "outputs": [],
   "source": [
    "salary_click.click()"
   ]
  },
  {
   "cell_type": "code",
   "execution_count": 124,
   "id": "4ef88e44",
   "metadata": {},
   "outputs": [
    {
     "data": {
      "text/plain": [
       "<bound method WebElement.send_keys of <selenium.webdriver.remote.webelement.WebElement (session=\"277efa2d404fc066c11f81ab0d2df138\", element=\"47cfe14f-4044-4ee0-badd-bcc224acadef\")>>"
      ]
     },
     "execution_count": 124,
     "metadata": {},
     "output_type": "execute_result"
    }
   ],
   "source": [
    "# Finding web element for search web bar for using id\n",
    "search_jobs = driver.find_element(By.XPATH,\"/html/body/div/div/div/main/section[1]/div[2]/div[1]\")\n",
    "search_jobs.send_keys"
   ]
  },
  {
   "cell_type": "code",
   "execution_count": 125,
   "id": "201513e4",
   "metadata": {},
   "outputs": [
    {
     "ename": "ElementNotInteractableException",
     "evalue": "Message: element not interactable\n  (Session info: chrome=103.0.5060.114)\nStacktrace:\nBacktrace:\n\tOrdinal0 [0x00466463+2188387]\n\tOrdinal0 [0x003FE461+1762401]\n\tOrdinal0 [0x00313C40+801856]\n\tOrdinal0 [0x0033CF63+970595]\n\tOrdinal0 [0x0033C63E+968254]\n\tOrdinal0 [0x0035C7DC+1099740]\n\tOrdinal0 [0x00337FF4+950260]\n\tOrdinal0 [0x0035C9F4+1100276]\n\tOrdinal0 [0x0036CC22+1166370]\n\tOrdinal0 [0x0035C5F6+1099254]\n\tOrdinal0 [0x00336BE0+945120]\n\tOrdinal0 [0x00337AD6+948950]\n\tGetHandleVerifier [0x007071F2+2712546]\n\tGetHandleVerifier [0x006F886D+2652765]\n\tGetHandleVerifier [0x004F002A+520730]\n\tGetHandleVerifier [0x004EEE06+516086]\n\tOrdinal0 [0x0040468B+1787531]\n\tOrdinal0 [0x00408E88+1805960]\n\tOrdinal0 [0x00408F75+1806197]\n\tOrdinal0 [0x00411DF1+1842673]\n\tBaseThreadInitThunk [0x764C6739+25]\n\tRtlGetFullPathName_UEx [0x77AE8FEF+1215]\n\tRtlGetFullPathName_UEx [0x77AE8FBD+1165]\n",
     "output_type": "error",
     "traceback": [
      "\u001b[1;31m---------------------------------------------------------------------------\u001b[0m",
      "\u001b[1;31mElementNotInteractableException\u001b[0m           Traceback (most recent call last)",
      "\u001b[1;32m~\\AppData\\Local\\Temp/ipykernel_6676/1807214813.py\u001b[0m in \u001b[0;36m<module>\u001b[1;34m\u001b[0m\n\u001b[1;32m----> 1\u001b[1;33m \u001b[0msearch_jobs\u001b[0m\u001b[1;33m.\u001b[0m\u001b[0msend_keys\u001b[0m\u001b[1;33m(\u001b[0m\u001b[1;34m'Data Scientist'\u001b[0m\u001b[1;33m)\u001b[0m\u001b[1;33m\u001b[0m\u001b[1;33m\u001b[0m\u001b[0m\n\u001b[0m",
      "\u001b[1;32m~\\anaconda3\\lib\\site-packages\\selenium\\webdriver\\remote\\webelement.py\u001b[0m in \u001b[0;36msend_keys\u001b[1;34m(self, *value)\u001b[0m\n\u001b[0;32m    221\u001b[0m                 \u001b[0mvalue\u001b[0m \u001b[1;33m=\u001b[0m \u001b[1;34m'\\n'\u001b[0m\u001b[1;33m.\u001b[0m\u001b[0mjoin\u001b[0m\u001b[1;33m(\u001b[0m\u001b[0mremote_files\u001b[0m\u001b[1;33m)\u001b[0m\u001b[1;33m\u001b[0m\u001b[1;33m\u001b[0m\u001b[0m\n\u001b[0;32m    222\u001b[0m \u001b[1;33m\u001b[0m\u001b[0m\n\u001b[1;32m--> 223\u001b[1;33m         self._execute(Command.SEND_KEYS_TO_ELEMENT,\n\u001b[0m\u001b[0;32m    224\u001b[0m                       {'text': \"\".join(keys_to_typing(value)),\n\u001b[0;32m    225\u001b[0m                        'value': keys_to_typing(value)})\n",
      "\u001b[1;32m~\\anaconda3\\lib\\site-packages\\selenium\\webdriver\\remote\\webelement.py\u001b[0m in \u001b[0;36m_execute\u001b[1;34m(self, command, params)\u001b[0m\n\u001b[0;32m    394\u001b[0m             \u001b[0mparams\u001b[0m \u001b[1;33m=\u001b[0m \u001b[1;33m{\u001b[0m\u001b[1;33m}\u001b[0m\u001b[1;33m\u001b[0m\u001b[1;33m\u001b[0m\u001b[0m\n\u001b[0;32m    395\u001b[0m         \u001b[0mparams\u001b[0m\u001b[1;33m[\u001b[0m\u001b[1;34m'id'\u001b[0m\u001b[1;33m]\u001b[0m \u001b[1;33m=\u001b[0m \u001b[0mself\u001b[0m\u001b[1;33m.\u001b[0m\u001b[0m_id\u001b[0m\u001b[1;33m\u001b[0m\u001b[1;33m\u001b[0m\u001b[0m\n\u001b[1;32m--> 396\u001b[1;33m         \u001b[1;32mreturn\u001b[0m \u001b[0mself\u001b[0m\u001b[1;33m.\u001b[0m\u001b[0m_parent\u001b[0m\u001b[1;33m.\u001b[0m\u001b[0mexecute\u001b[0m\u001b[1;33m(\u001b[0m\u001b[0mcommand\u001b[0m\u001b[1;33m,\u001b[0m \u001b[0mparams\u001b[0m\u001b[1;33m)\u001b[0m\u001b[1;33m\u001b[0m\u001b[1;33m\u001b[0m\u001b[0m\n\u001b[0m\u001b[0;32m    397\u001b[0m \u001b[1;33m\u001b[0m\u001b[0m\n\u001b[0;32m    398\u001b[0m     \u001b[1;32mdef\u001b[0m \u001b[0mfind_element\u001b[0m\u001b[1;33m(\u001b[0m\u001b[0mself\u001b[0m\u001b[1;33m,\u001b[0m \u001b[0mby\u001b[0m\u001b[1;33m=\u001b[0m\u001b[0mBy\u001b[0m\u001b[1;33m.\u001b[0m\u001b[0mID\u001b[0m\u001b[1;33m,\u001b[0m \u001b[0mvalue\u001b[0m\u001b[1;33m=\u001b[0m\u001b[1;32mNone\u001b[0m\u001b[1;33m)\u001b[0m \u001b[1;33m->\u001b[0m \u001b[0mWebElement\u001b[0m\u001b[1;33m:\u001b[0m\u001b[1;33m\u001b[0m\u001b[1;33m\u001b[0m\u001b[0m\n",
      "\u001b[1;32m~\\anaconda3\\lib\\site-packages\\selenium\\webdriver\\remote\\webdriver.py\u001b[0m in \u001b[0;36mexecute\u001b[1;34m(self, driver_command, params)\u001b[0m\n\u001b[0;32m    433\u001b[0m         \u001b[0mresponse\u001b[0m \u001b[1;33m=\u001b[0m \u001b[0mself\u001b[0m\u001b[1;33m.\u001b[0m\u001b[0mcommand_executor\u001b[0m\u001b[1;33m.\u001b[0m\u001b[0mexecute\u001b[0m\u001b[1;33m(\u001b[0m\u001b[0mdriver_command\u001b[0m\u001b[1;33m,\u001b[0m \u001b[0mparams\u001b[0m\u001b[1;33m)\u001b[0m\u001b[1;33m\u001b[0m\u001b[1;33m\u001b[0m\u001b[0m\n\u001b[0;32m    434\u001b[0m         \u001b[1;32mif\u001b[0m \u001b[0mresponse\u001b[0m\u001b[1;33m:\u001b[0m\u001b[1;33m\u001b[0m\u001b[1;33m\u001b[0m\u001b[0m\n\u001b[1;32m--> 435\u001b[1;33m             \u001b[0mself\u001b[0m\u001b[1;33m.\u001b[0m\u001b[0merror_handler\u001b[0m\u001b[1;33m.\u001b[0m\u001b[0mcheck_response\u001b[0m\u001b[1;33m(\u001b[0m\u001b[0mresponse\u001b[0m\u001b[1;33m)\u001b[0m\u001b[1;33m\u001b[0m\u001b[1;33m\u001b[0m\u001b[0m\n\u001b[0m\u001b[0;32m    436\u001b[0m             response['value'] = self._unwrap_value(\n\u001b[0;32m    437\u001b[0m                 response.get('value', None))\n",
      "\u001b[1;32m~\\anaconda3\\lib\\site-packages\\selenium\\webdriver\\remote\\errorhandler.py\u001b[0m in \u001b[0;36mcheck_response\u001b[1;34m(self, response)\u001b[0m\n\u001b[0;32m    245\u001b[0m                 \u001b[0malert_text\u001b[0m \u001b[1;33m=\u001b[0m \u001b[0mvalue\u001b[0m\u001b[1;33m[\u001b[0m\u001b[1;34m'alert'\u001b[0m\u001b[1;33m]\u001b[0m\u001b[1;33m.\u001b[0m\u001b[0mget\u001b[0m\u001b[1;33m(\u001b[0m\u001b[1;34m'text'\u001b[0m\u001b[1;33m)\u001b[0m\u001b[1;33m\u001b[0m\u001b[1;33m\u001b[0m\u001b[0m\n\u001b[0;32m    246\u001b[0m             \u001b[1;32mraise\u001b[0m \u001b[0mexception_class\u001b[0m\u001b[1;33m(\u001b[0m\u001b[0mmessage\u001b[0m\u001b[1;33m,\u001b[0m \u001b[0mscreen\u001b[0m\u001b[1;33m,\u001b[0m \u001b[0mstacktrace\u001b[0m\u001b[1;33m,\u001b[0m \u001b[0malert_text\u001b[0m\u001b[1;33m)\u001b[0m  \u001b[1;31m# type: ignore[call-arg]  # mypy is not smart enough here\u001b[0m\u001b[1;33m\u001b[0m\u001b[1;33m\u001b[0m\u001b[0m\n\u001b[1;32m--> 247\u001b[1;33m         \u001b[1;32mraise\u001b[0m \u001b[0mexception_class\u001b[0m\u001b[1;33m(\u001b[0m\u001b[0mmessage\u001b[0m\u001b[1;33m,\u001b[0m \u001b[0mscreen\u001b[0m\u001b[1;33m,\u001b[0m \u001b[0mstacktrace\u001b[0m\u001b[1;33m)\u001b[0m\u001b[1;33m\u001b[0m\u001b[1;33m\u001b[0m\u001b[0m\n\u001b[0m\u001b[0;32m    248\u001b[0m \u001b[1;33m\u001b[0m\u001b[0m\n\u001b[0;32m    249\u001b[0m     \u001b[1;32mdef\u001b[0m \u001b[0m_value_or_default\u001b[0m\u001b[1;33m(\u001b[0m\u001b[0mself\u001b[0m\u001b[1;33m,\u001b[0m \u001b[0mobj\u001b[0m\u001b[1;33m:\u001b[0m \u001b[0mMapping\u001b[0m\u001b[1;33m[\u001b[0m\u001b[0m_KT\u001b[0m\u001b[1;33m,\u001b[0m \u001b[0m_VT\u001b[0m\u001b[1;33m]\u001b[0m\u001b[1;33m,\u001b[0m \u001b[0mkey\u001b[0m\u001b[1;33m:\u001b[0m \u001b[0m_KT\u001b[0m\u001b[1;33m,\u001b[0m \u001b[0mdefault\u001b[0m\u001b[1;33m:\u001b[0m \u001b[0m_VT\u001b[0m\u001b[1;33m)\u001b[0m \u001b[1;33m->\u001b[0m \u001b[0m_VT\u001b[0m\u001b[1;33m:\u001b[0m\u001b[1;33m\u001b[0m\u001b[1;33m\u001b[0m\u001b[0m\n",
      "\u001b[1;31mElementNotInteractableException\u001b[0m: Message: element not interactable\n  (Session info: chrome=103.0.5060.114)\nStacktrace:\nBacktrace:\n\tOrdinal0 [0x00466463+2188387]\n\tOrdinal0 [0x003FE461+1762401]\n\tOrdinal0 [0x00313C40+801856]\n\tOrdinal0 [0x0033CF63+970595]\n\tOrdinal0 [0x0033C63E+968254]\n\tOrdinal0 [0x0035C7DC+1099740]\n\tOrdinal0 [0x00337FF4+950260]\n\tOrdinal0 [0x0035C9F4+1100276]\n\tOrdinal0 [0x0036CC22+1166370]\n\tOrdinal0 [0x0035C5F6+1099254]\n\tOrdinal0 [0x00336BE0+945120]\n\tOrdinal0 [0x00337AD6+948950]\n\tGetHandleVerifier [0x007071F2+2712546]\n\tGetHandleVerifier [0x006F886D+2652765]\n\tGetHandleVerifier [0x004F002A+520730]\n\tGetHandleVerifier [0x004EEE06+516086]\n\tOrdinal0 [0x0040468B+1787531]\n\tOrdinal0 [0x00408E88+1805960]\n\tOrdinal0 [0x00408F75+1806197]\n\tOrdinal0 [0x00411DF1+1842673]\n\tBaseThreadInitThunk [0x764C6739+25]\n\tRtlGetFullPathName_UEx [0x77AE8FEF+1215]\n\tRtlGetFullPathName_UEx [0x77AE8FBD+1165]\n"
     ]
    }
   ],
   "source": [
    "search_jobs.send_keys('Data Scientist')"
   ]
  },
  {
   "cell_type": "code",
   "execution_count": null,
   "id": "7c910201",
   "metadata": {},
   "outputs": [],
   "source": []
  }
 ],
 "metadata": {
  "kernelspec": {
   "display_name": "Python 3 (ipykernel)",
   "language": "python",
   "name": "python3"
  },
  "language_info": {
   "codemirror_mode": {
    "name": "ipython",
    "version": 3
   },
   "file_extension": ".py",
   "mimetype": "text/x-python",
   "name": "python",
   "nbconvert_exporter": "python",
   "pygments_lexer": "ipython3",
   "version": "3.9.7"
  }
 },
 "nbformat": 4,
 "nbformat_minor": 5
}
